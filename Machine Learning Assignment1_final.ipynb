{
 "cells": [
  {
   "cell_type": "markdown",
   "id": "715f1a0b-feec-4823-8173-0b6010f20aa8",
   "metadata": {},
   "source": [
    "# Machine Learning Assignment 1: An Investigation into the Infrared Thermography Temperature Dataset"
   ]
  },
  {
   "cell_type": "markdown",
   "id": "4fe6327e-c4a0-4203-8880-49c777a5f456",
   "metadata": {},
   "source": [
    "# Introduction\n",
    "\n",
    "The investigation aimes to conduct both regression task and classification task on The Infrared Thermography Temperature Dataset. \n",
    "\n",
    "The overall goal of this project is to develop a model that predict, the oral temperature measured in fast mode and in monitor mode. This involves building different model and finding the most predictive features.\n",
    "\n",
    "I will assess the model's performance using cross-validation, a robust statistical method that maximizes the use of available data by iteratively splitting the dataset into training and validation subsets. This practice helps in estimating the performance of the model on unseen data, thereby ensuring that the model generalizes well and does not overfit to particular quirks of the training data.\n",
    "\n",
    "By the end of this investigation, I aim to have a optimal model tuned to offer the highest predictive accuracy on the Infrared Thermography Temperature Dataset. This report will detail the steps taken in the investigation, the implementation of training, evaluation, the results obtained, and discussion."
   ]
  },
  {
   "cell_type": "markdown",
   "id": "06d9c7c1-ecf2-4c2b-aab8-18326f68ffd1",
   "metadata": {},
   "source": [
    "# Methodology\n",
    "## Step 1: Define the Problem and Assemble a Dataset\n",
    "When dealing with the Infrared Thermography Temperature Dataset, one must first define the specific problem to be solved. In the context provided, the problem is twofold: predicting oral temperature from infrared thermographic images and determining whether the temperature indicates a fever. The dataset, which could be sourced from repositories like the UCI Machine Learning Repository, contains thermal readings from various locations on patients' bodies and correlates these with oral temperatures.\n",
    "\n",
    "The assembled dataset includes 33 input features:\n",
    "\n",
    "- Gender\n",
    "- Age\n",
    "- Ethnicity\n",
    "- Ambient Temperature\n",
    "- Humidity\n",
    "- Distance\n",
    "- Other temperature readings from the thermal images.\n",
    "\n",
    "The output variable is dual-faceted:\n",
    "\n",
    "- Oral Temperature in Fast Mode: A quick temperature reading.\n",
    "- Oral Temperature in Monitor Mode: A more stable and sustained temperature reading.\n",
    "\n",
    "To predict fever, a binary classification is done where an oral temperature of 37.5°C or higher is indicative of fever. This setup allows the problem to be treated both as a regression problem (predicting the exact oral temperature) and a classification problem (determining whether the temperature crosses the threshold for fever).\n",
    "\n",
    "Once the problem has been identified as such, one must select an appropriate model architecture that can handle both regression and classification tasks effectively and choose evaluation metrics that reflect the performance objectives.\n",
    "\n",
    "## Step 2: Choose a Evaluation Metric\n",
    "Choosing the right evaluation metric is crucial for gauging the performance of the model. For the regression aspect of predicting oral temperature, metrics such as Mean Absolute Error (MAE), Root Mean Squared Error (RMSE), or Mean Squared Error (MSE) could be appropriate. These metrics will provide insight into the average error magnitude between the predicted and actual temperatures.\n",
    "\n",
    "For assessing the classification performance in identifying fever, metrics such as accuracy, precision, recall, and F1-score are appropriate. These measures will aid in evaluating the model's proficiency in accurately distinguishing between patients with and without fever. \n",
    "\n",
    "Given the medical context, recall becomes a pivotal metric due to the potential severe implications of overlooking actual cases of fever. Precision also holds significance; a high rate of false positives could lead to public frustration. Moreover, since there exists a balance to be maintained between recall and precision, the F1 score becomes a vital metric for comprehensive evaluation.\n",
    "\n",
    "## Step 3: Decide on a Evaluation Protocol\n",
    "The evaluation protocol defines how the model will be assessed. This often includes splitting the dataset into training, validation, and test sets to ensure that the model can generalize well to new, unseen data. Cross-validation techniques such as k-fold cross-validation may also be employed to make the most efficient use of the data for training and evaluation.\n",
    "\n",
    "## Step 4: Prepare the Data\n"
   ]
  },
  {
   "cell_type": "code",
   "execution_count": 1,
   "id": "58bec709-ceeb-4253-999f-2cd5cb16bcd6",
   "metadata": {},
   "outputs": [
    {
     "name": "stdout",
     "output_type": "stream",
     "text": [
      "           name     role         type demographic  \\\n",
      "0     SubjectID       ID  Categorical        None   \n",
      "1      aveOralF   Target   Continuous        None   \n",
      "2      aveOralM   Target   Continuous        None   \n",
      "3        Gender  Feature  Categorical      Gender   \n",
      "4           Age  Feature  Categorical         Age   \n",
      "5     Ethnicity  Feature  Categorical   Ethnicity   \n",
      "6         T_atm  Feature   Continuous        None   \n",
      "7      Humidity  Feature   Continuous        None   \n",
      "8      Distance  Feature   Continuous        None   \n",
      "9     T_offset1  Feature   Continuous        None   \n",
      "10    Max1R13_1  Feature   Continuous        None   \n",
      "11    Max1L13_1  Feature   Continuous        None   \n",
      "12  aveAllR13_1  Feature   Continuous        None   \n",
      "13  aveAllL13_1  Feature   Continuous        None   \n",
      "14        T_RC1  Feature   Continuous        None   \n",
      "15    T_RC_Dry1  Feature   Continuous        None   \n",
      "16    T_RC_Wet1  Feature   Continuous        None   \n",
      "17    T_RC_Max1  Feature   Continuous        None   \n",
      "18        T_LC1  Feature   Continuous        None   \n",
      "19    T_LC_Dry1  Feature   Continuous        None   \n",
      "20    T_LC_Wet1  Feature   Continuous        None   \n",
      "21    T_LC_Max1  Feature   Continuous        None   \n",
      "22         RCC1  Feature   Continuous        None   \n",
      "23         LCC1  Feature   Continuous        None   \n",
      "24   canthiMax1  Feature   Continuous        None   \n",
      "25  canthi4Max1  Feature   Continuous        None   \n",
      "26      T_FHCC1  Feature   Continuous        None   \n",
      "27      T_FHRC1  Feature   Continuous        None   \n",
      "28      T_FHLC1  Feature   Continuous        None   \n",
      "29      T_FHBC1  Feature   Continuous        None   \n",
      "30      T_FHTC1  Feature   Continuous        None   \n",
      "31    T_FH_Max1  Feature   Continuous        None   \n",
      "32   T_FHC_Max1  Feature   Continuous        None   \n",
      "33       T_Max1  Feature   Continuous        None   \n",
      "34        T_OR1  Feature   Continuous        None   \n",
      "35    T_OR_Max1  Feature   Continuous        None   \n",
      "\n",
      "                                          description units missing_values  \n",
      "0                                          Subject ID  None             no  \n",
      "1              Oral temperature measured in fast mode  None             no  \n",
      "2           Oral temperature measured in monitor mode  None             no  \n",
      "3                                      Male or Female  None             no  \n",
      "4                          Age ranges in categories\\n  None             no  \n",
      "5   American Indian or Alaska Native, Asian, Black...  None             no  \n",
      "6                                 Ambiant temperature  None             no  \n",
      "7                                   Relative humidity  None             no  \n",
      "8       Distance between the subjects and the IRTs.    None             no  \n",
      "9   Temperature difference between the set and mea...  None             no  \n",
      "10  Max value of a circle with diameter of 13 pixe...  None             no  \n",
      "11  Max value of a circle with diameter of 13 pixe...  None             no  \n",
      "12  Average value of a circle with diameter of 13 ...  None             no  \n",
      "13  Average value of a circle with diameter of 13 ...  None             no  \n",
      "14  Average temperature of the highest four pixels...  None             no  \n",
      "15  Average temperature of the highest four pixels...  None             no  \n",
      "16  Average temperature of the highest four pixels...  None             no  \n",
      "17  Max value of a square of 24x24 pixels around t...  None             no  \n",
      "18  Average temperature of the highest four pixels...  None             no  \n",
      "19  Average temperature of the highest four pixels...  None             no  \n",
      "20  Average temperature of the highest four pixels...  None             no  \n",
      "21  Max value of a circle with diameter of 13 pixe...  None             no  \n",
      "22  Average value of a square of 3x3 pixels center...  None             no  \n",
      "23  Average value of a square of 3x3 pixels center...  None             no  \n",
      "24              Max value in the extended canthi area  None             no  \n",
      "25  Average temperature of the highest four pixels...  None             no  \n",
      "26  Average value in the center point of forehead,...  None             no  \n",
      "27  Average value in the right point of the forehe...  None             no  \n",
      "28  Average value in the left point of the forehea...  None             no  \n",
      "29  Average value in the bottom point of the foreh...  None             no  \n",
      "30  Average value in the top point of the forehead...  None             no  \n",
      "31  Maximum temperature within the extended forehe...  None             no  \n",
      "32  Max value in the center point of forehead, a s...  None             no  \n",
      "33  Maximum temperature within the whole face region.  None             no  \n",
      "34  Average temperature of the highest four pixels...  None             no  \n",
      "35       Maximum temperature within the mouth region.  None             no  \n"
     ]
    }
   ],
   "source": [
    "from ucimlrepo import fetch_ucirepo \n",
    "import pandas as pd\n",
    "  \n",
    "# fetch dataset \n",
    "infrared_thermography_temperature = fetch_ucirepo(id=925) \n",
    "  \n",
    "# data (as pandas dataframes) \n",
    "X = infrared_thermography_temperature.data.features\n",
    "y = infrared_thermography_temperature.data.targets \n",
    "combined_df = pd.concat([X, y], axis=1)\n",
    "  \n",
    "# variable information \n",
    "print(infrared_thermography_temperature.variables) \n"
   ]
  },
  {
   "cell_type": "code",
   "execution_count": 2,
   "id": "ff5121de-76d4-45e0-b3db-890b0bf58eeb",
   "metadata": {},
   "outputs": [
    {
     "name": "stdout",
     "output_type": "stream",
     "text": [
      "   Gender    Age                  Ethnicity  T_atm  Humidity  Distance  \\\n",
      "0    Male  41-50                      White   24.0      28.0       0.8   \n",
      "1  Female  31-40  Black or African-American   24.0      26.0       0.8   \n",
      "2  Female  21-30                      White   24.0      26.0       0.8   \n",
      "3  Female  21-30  Black or African-American   24.0      27.0       0.8   \n",
      "4    Male  18-20                      White   24.0      27.0       0.8   \n",
      "\n",
      "   T_offset1  Max1R13_1  Max1L13_1  aveAllR13_1  ...  T_FHCC1  T_FHRC1  \\\n",
      "0     0.7025    35.0300    35.3775      34.4000  ...  33.5775  33.4775   \n",
      "1     0.7800    34.5500    34.5200      33.9300  ...  34.0325  34.0550   \n",
      "2     0.8625    35.6525    35.5175      34.2775  ...  34.9000  34.8275   \n",
      "3     0.9300    35.2225    35.6125      34.3850  ...  34.4400  34.4225   \n",
      "4     0.8950    35.5450    35.6650      34.9100  ...  35.0900  35.1600   \n",
      "\n",
      "   T_FHLC1  T_FHBC1  T_FHTC1  T_FH_Max1  T_FHC_Max1   T_Max1    T_OR1  \\\n",
      "0  33.3725  33.4925  33.0025    34.5300     34.0075  35.6925  35.6350   \n",
      "1  33.6775  33.9700  34.0025    34.6825     34.6600  35.1750  35.0925   \n",
      "2  34.6475  34.8200  34.6700    35.3450     35.2225  35.9125  35.8600   \n",
      "3  34.6550  34.3025  34.9175    35.6025     35.3150  35.7200  34.9650   \n",
      "4  34.3975  34.6700  33.8275    35.4175     35.3725  35.8950  35.5875   \n",
      "\n",
      "   T_OR_Max1  \n",
      "0    35.6525  \n",
      "1    35.1075  \n",
      "2    35.8850  \n",
      "3    34.9825  \n",
      "4    35.6175  \n",
      "\n",
      "[5 rows x 33 columns]\n",
      "<class 'pandas.core.frame.DataFrame'>\n",
      "RangeIndex: 1020 entries, 0 to 1019\n",
      "Data columns (total 33 columns):\n",
      " #   Column       Non-Null Count  Dtype  \n",
      "---  ------       --------------  -----  \n",
      " 0   Gender       1020 non-null   object \n",
      " 1   Age          1020 non-null   object \n",
      " 2   Ethnicity    1020 non-null   object \n",
      " 3   T_atm        1020 non-null   float64\n",
      " 4   Humidity     1020 non-null   float64\n",
      " 5   Distance     1018 non-null   float64\n",
      " 6   T_offset1    1020 non-null   float64\n",
      " 7   Max1R13_1    1020 non-null   float64\n",
      " 8   Max1L13_1    1020 non-null   float64\n",
      " 9   aveAllR13_1  1020 non-null   float64\n",
      " 10  aveAllL13_1  1020 non-null   float64\n",
      " 11  T_RC1        1020 non-null   float64\n",
      " 12  T_RC_Dry1    1020 non-null   float64\n",
      " 13  T_RC_Wet1    1020 non-null   float64\n",
      " 14  T_RC_Max1    1020 non-null   float64\n",
      " 15  T_LC1        1020 non-null   float64\n",
      " 16  T_LC_Dry1    1020 non-null   float64\n",
      " 17  T_LC_Wet1    1020 non-null   float64\n",
      " 18  T_LC_Max1    1020 non-null   float64\n",
      " 19  RCC1         1020 non-null   float64\n",
      " 20  LCC1         1020 non-null   float64\n",
      " 21  canthiMax1   1020 non-null   float64\n",
      " 22  canthi4Max1  1020 non-null   float64\n",
      " 23  T_FHCC1      1020 non-null   float64\n",
      " 24  T_FHRC1      1020 non-null   float64\n",
      " 25  T_FHLC1      1020 non-null   float64\n",
      " 26  T_FHBC1      1020 non-null   float64\n",
      " 27  T_FHTC1      1020 non-null   float64\n",
      " 28  T_FH_Max1    1020 non-null   float64\n",
      " 29  T_FHC_Max1   1020 non-null   float64\n",
      " 30  T_Max1       1020 non-null   float64\n",
      " 31  T_OR1        1020 non-null   float64\n",
      " 32  T_OR_Max1    1020 non-null   float64\n",
      "dtypes: float64(30), object(3)\n",
      "memory usage: 263.1+ KB\n",
      "None\n"
     ]
    }
   ],
   "source": [
    "print(X.head())\n",
    "print(X.info())"
   ]
  },
  {
   "cell_type": "code",
   "execution_count": 4,
   "id": "effd139b-72a5-4ef2-b9f2-f8812f667c4d",
   "metadata": {},
   "outputs": [
    {
     "name": "stdout",
     "output_type": "stream",
     "text": [
      "   aveOralF  aveOralM\n",
      "0     36.85     36.59\n",
      "1     37.00     37.19\n",
      "2     37.20     37.34\n",
      "3     36.85     37.09\n",
      "4     36.80     37.04\n",
      "<class 'pandas.core.frame.DataFrame'>\n",
      "RangeIndex: 1020 entries, 0 to 1019\n",
      "Data columns (total 2 columns):\n",
      " #   Column    Non-Null Count  Dtype  \n",
      "---  ------    --------------  -----  \n",
      " 0   aveOralF  1020 non-null   float64\n",
      " 1   aveOralM  1020 non-null   float64\n",
      "dtypes: float64(2)\n",
      "memory usage: 16.1 KB\n",
      "None\n"
     ]
    }
   ],
   "source": [
    "print(y.head())\n",
    "print(y.info())"
   ]
  },
  {
   "cell_type": "markdown",
   "id": "1f31fbe4-b8b3-48f5-842f-29f0b4874187",
   "metadata": {},
   "source": [
    "### 4.1: Explore the Data Structure\n",
    "\n",
    "Except the columns of Gender, Age, \n",
    "Ethnictyi are categorical, the rest of the columns are numerical. And there is no missing value in this dataset. \n",
    "\n",
    "We will explore the distribution of the data to get a better understanding of the dataset."
   ]
  },
  {
   "cell_type": "code",
   "execution_count": 5,
   "id": "fc3f5bc2-8fbe-4cac-9db5-8dcef719e8b4",
   "metadata": {},
   "outputs": [
    {
     "data": {
      "text/html": [
       "<div>\n",
       "<style scoped>\n",
       "    .dataframe tbody tr th:only-of-type {\n",
       "        vertical-align: middle;\n",
       "    }\n",
       "\n",
       "    .dataframe tbody tr th {\n",
       "        vertical-align: top;\n",
       "    }\n",
       "\n",
       "    .dataframe thead th {\n",
       "        text-align: right;\n",
       "    }\n",
       "</style>\n",
       "<table border=\"1\" class=\"dataframe\">\n",
       "  <thead>\n",
       "    <tr style=\"text-align: right;\">\n",
       "      <th></th>\n",
       "      <th>T_atm</th>\n",
       "      <th>Humidity</th>\n",
       "      <th>Distance</th>\n",
       "      <th>T_offset1</th>\n",
       "      <th>Max1R13_1</th>\n",
       "      <th>Max1L13_1</th>\n",
       "      <th>aveAllR13_1</th>\n",
       "      <th>aveAllL13_1</th>\n",
       "      <th>T_RC1</th>\n",
       "      <th>T_RC_Dry1</th>\n",
       "      <th>...</th>\n",
       "      <th>T_FHCC1</th>\n",
       "      <th>T_FHRC1</th>\n",
       "      <th>T_FHLC1</th>\n",
       "      <th>T_FHBC1</th>\n",
       "      <th>T_FHTC1</th>\n",
       "      <th>T_FH_Max1</th>\n",
       "      <th>T_FHC_Max1</th>\n",
       "      <th>T_Max1</th>\n",
       "      <th>T_OR1</th>\n",
       "      <th>T_OR_Max1</th>\n",
       "    </tr>\n",
       "  </thead>\n",
       "  <tbody>\n",
       "    <tr>\n",
       "      <th>count</th>\n",
       "      <td>1020.000000</td>\n",
       "      <td>1020.000000</td>\n",
       "      <td>1018.000000</td>\n",
       "      <td>1020.000000</td>\n",
       "      <td>1020.000000</td>\n",
       "      <td>1020.000000</td>\n",
       "      <td>1020.000000</td>\n",
       "      <td>1020.000000</td>\n",
       "      <td>1020.000000</td>\n",
       "      <td>1020.000000</td>\n",
       "      <td>...</td>\n",
       "      <td>1020.000000</td>\n",
       "      <td>1020.000000</td>\n",
       "      <td>1020.000000</td>\n",
       "      <td>1020.000000</td>\n",
       "      <td>1020.000000</td>\n",
       "      <td>1020.000000</td>\n",
       "      <td>1020.000000</td>\n",
       "      <td>1020.000000</td>\n",
       "      <td>1020.000000</td>\n",
       "      <td>1020.000000</td>\n",
       "    </tr>\n",
       "    <tr>\n",
       "      <th>mean</th>\n",
       "      <td>24.115392</td>\n",
       "      <td>28.723039</td>\n",
       "      <td>0.729784</td>\n",
       "      <td>0.968648</td>\n",
       "      <td>35.596533</td>\n",
       "      <td>35.611474</td>\n",
       "      <td>34.888475</td>\n",
       "      <td>35.011345</td>\n",
       "      <td>35.659921</td>\n",
       "      <td>35.587143</td>\n",
       "      <td>...</td>\n",
       "      <td>34.573865</td>\n",
       "      <td>34.567782</td>\n",
       "      <td>34.565340</td>\n",
       "      <td>34.487701</td>\n",
       "      <td>34.577293</td>\n",
       "      <td>35.421555</td>\n",
       "      <td>35.094144</td>\n",
       "      <td>36.084785</td>\n",
       "      <td>35.805519</td>\n",
       "      <td>35.838277</td>\n",
       "    </tr>\n",
       "    <tr>\n",
       "      <th>std</th>\n",
       "      <td>1.336338</td>\n",
       "      <td>13.071627</td>\n",
       "      <td>2.456486</td>\n",
       "      <td>0.362587</td>\n",
       "      <td>0.574888</td>\n",
       "      <td>0.549760</td>\n",
       "      <td>0.718613</td>\n",
       "      <td>0.633836</td>\n",
       "      <td>0.553897</td>\n",
       "      <td>0.569278</td>\n",
       "      <td>...</td>\n",
       "      <td>0.672461</td>\n",
       "      <td>0.669410</td>\n",
       "      <td>0.678663</td>\n",
       "      <td>0.668065</td>\n",
       "      <td>0.728678</td>\n",
       "      <td>0.523477</td>\n",
       "      <td>0.576045</td>\n",
       "      <td>0.491821</td>\n",
       "      <td>0.559258</td>\n",
       "      <td>0.559316</td>\n",
       "    </tr>\n",
       "    <tr>\n",
       "      <th>min</th>\n",
       "      <td>20.200000</td>\n",
       "      <td>9.900000</td>\n",
       "      <td>0.540000</td>\n",
       "      <td>-0.590000</td>\n",
       "      <td>33.897500</td>\n",
       "      <td>34.122500</td>\n",
       "      <td>31.770000</td>\n",
       "      <td>32.902500</td>\n",
       "      <td>33.985000</td>\n",
       "      <td>33.825000</td>\n",
       "      <td>...</td>\n",
       "      <td>31.050000</td>\n",
       "      <td>31.452500</td>\n",
       "      <td>31.657500</td>\n",
       "      <td>31.280000</td>\n",
       "      <td>31.150000</td>\n",
       "      <td>33.407500</td>\n",
       "      <td>32.440000</td>\n",
       "      <td>34.892500</td>\n",
       "      <td>33.802500</td>\n",
       "      <td>33.835000</td>\n",
       "    </tr>\n",
       "    <tr>\n",
       "      <th>25%</th>\n",
       "      <td>23.400000</td>\n",
       "      <td>17.600000</td>\n",
       "      <td>0.600000</td>\n",
       "      <td>0.772500</td>\n",
       "      <td>35.247500</td>\n",
       "      <td>35.271875</td>\n",
       "      <td>34.456250</td>\n",
       "      <td>34.651250</td>\n",
       "      <td>35.332500</td>\n",
       "      <td>35.249375</td>\n",
       "      <td>...</td>\n",
       "      <td>34.213125</td>\n",
       "      <td>34.180000</td>\n",
       "      <td>34.177500</td>\n",
       "      <td>34.096875</td>\n",
       "      <td>34.225000</td>\n",
       "      <td>35.116875</td>\n",
       "      <td>34.756458</td>\n",
       "      <td>35.775000</td>\n",
       "      <td>35.474375</td>\n",
       "      <td>35.500000</td>\n",
       "    </tr>\n",
       "    <tr>\n",
       "      <th>50%</th>\n",
       "      <td>24.000000</td>\n",
       "      <td>26.300000</td>\n",
       "      <td>0.620000</td>\n",
       "      <td>0.940000</td>\n",
       "      <td>35.548750</td>\n",
       "      <td>35.575000</td>\n",
       "      <td>34.915000</td>\n",
       "      <td>34.997500</td>\n",
       "      <td>35.602500</td>\n",
       "      <td>35.533750</td>\n",
       "      <td>...</td>\n",
       "      <td>34.605000</td>\n",
       "      <td>34.597500</td>\n",
       "      <td>34.602500</td>\n",
       "      <td>34.512917</td>\n",
       "      <td>34.622500</td>\n",
       "      <td>35.391250</td>\n",
       "      <td>35.100000</td>\n",
       "      <td>36.027500</td>\n",
       "      <td>35.790000</td>\n",
       "      <td>35.825000</td>\n",
       "    </tr>\n",
       "    <tr>\n",
       "      <th>75%</th>\n",
       "      <td>24.700000</td>\n",
       "      <td>36.200000</td>\n",
       "      <td>0.700000</td>\n",
       "      <td>1.140000</td>\n",
       "      <td>35.872500</td>\n",
       "      <td>35.883125</td>\n",
       "      <td>35.300000</td>\n",
       "      <td>35.363125</td>\n",
       "      <td>35.910625</td>\n",
       "      <td>35.855625</td>\n",
       "      <td>...</td>\n",
       "      <td>34.965625</td>\n",
       "      <td>34.968125</td>\n",
       "      <td>34.965000</td>\n",
       "      <td>34.878125</td>\n",
       "      <td>35.012500</td>\n",
       "      <td>35.675000</td>\n",
       "      <td>35.415000</td>\n",
       "      <td>36.280000</td>\n",
       "      <td>36.087500</td>\n",
       "      <td>36.120625</td>\n",
       "    </tr>\n",
       "    <tr>\n",
       "      <th>max</th>\n",
       "      <td>29.100000</td>\n",
       "      <td>61.200000</td>\n",
       "      <td>79.000000</td>\n",
       "      <td>2.875000</td>\n",
       "      <td>38.405000</td>\n",
       "      <td>38.042500</td>\n",
       "      <td>37.575000</td>\n",
       "      <td>37.680000</td>\n",
       "      <td>38.385000</td>\n",
       "      <td>38.380000</td>\n",
       "      <td>...</td>\n",
       "      <td>37.125000</td>\n",
       "      <td>37.075000</td>\n",
       "      <td>37.165000</td>\n",
       "      <td>37.212500</td>\n",
       "      <td>37.367500</td>\n",
       "      <td>38.002500</td>\n",
       "      <td>37.632500</td>\n",
       "      <td>38.807500</td>\n",
       "      <td>38.417500</td>\n",
       "      <td>38.455000</td>\n",
       "    </tr>\n",
       "  </tbody>\n",
       "</table>\n",
       "<p>8 rows × 30 columns</p>\n",
       "</div>"
      ],
      "text/plain": [
       "             T_atm     Humidity     Distance    T_offset1    Max1R13_1  \\\n",
       "count  1020.000000  1020.000000  1018.000000  1020.000000  1020.000000   \n",
       "mean     24.115392    28.723039     0.729784     0.968648    35.596533   \n",
       "std       1.336338    13.071627     2.456486     0.362587     0.574888   \n",
       "min      20.200000     9.900000     0.540000    -0.590000    33.897500   \n",
       "25%      23.400000    17.600000     0.600000     0.772500    35.247500   \n",
       "50%      24.000000    26.300000     0.620000     0.940000    35.548750   \n",
       "75%      24.700000    36.200000     0.700000     1.140000    35.872500   \n",
       "max      29.100000    61.200000    79.000000     2.875000    38.405000   \n",
       "\n",
       "         Max1L13_1  aveAllR13_1  aveAllL13_1        T_RC1    T_RC_Dry1  ...  \\\n",
       "count  1020.000000  1020.000000  1020.000000  1020.000000  1020.000000  ...   \n",
       "mean     35.611474    34.888475    35.011345    35.659921    35.587143  ...   \n",
       "std       0.549760     0.718613     0.633836     0.553897     0.569278  ...   \n",
       "min      34.122500    31.770000    32.902500    33.985000    33.825000  ...   \n",
       "25%      35.271875    34.456250    34.651250    35.332500    35.249375  ...   \n",
       "50%      35.575000    34.915000    34.997500    35.602500    35.533750  ...   \n",
       "75%      35.883125    35.300000    35.363125    35.910625    35.855625  ...   \n",
       "max      38.042500    37.575000    37.680000    38.385000    38.380000  ...   \n",
       "\n",
       "           T_FHCC1      T_FHRC1      T_FHLC1      T_FHBC1      T_FHTC1  \\\n",
       "count  1020.000000  1020.000000  1020.000000  1020.000000  1020.000000   \n",
       "mean     34.573865    34.567782    34.565340    34.487701    34.577293   \n",
       "std       0.672461     0.669410     0.678663     0.668065     0.728678   \n",
       "min      31.050000    31.452500    31.657500    31.280000    31.150000   \n",
       "25%      34.213125    34.180000    34.177500    34.096875    34.225000   \n",
       "50%      34.605000    34.597500    34.602500    34.512917    34.622500   \n",
       "75%      34.965625    34.968125    34.965000    34.878125    35.012500   \n",
       "max      37.125000    37.075000    37.165000    37.212500    37.367500   \n",
       "\n",
       "         T_FH_Max1   T_FHC_Max1       T_Max1        T_OR1    T_OR_Max1  \n",
       "count  1020.000000  1020.000000  1020.000000  1020.000000  1020.000000  \n",
       "mean     35.421555    35.094144    36.084785    35.805519    35.838277  \n",
       "std       0.523477     0.576045     0.491821     0.559258     0.559316  \n",
       "min      33.407500    32.440000    34.892500    33.802500    33.835000  \n",
       "25%      35.116875    34.756458    35.775000    35.474375    35.500000  \n",
       "50%      35.391250    35.100000    36.027500    35.790000    35.825000  \n",
       "75%      35.675000    35.415000    36.280000    36.087500    36.120625  \n",
       "max      38.002500    37.632500    38.807500    38.417500    38.455000  \n",
       "\n",
       "[8 rows x 30 columns]"
      ]
     },
     "execution_count": 5,
     "metadata": {},
     "output_type": "execute_result"
    }
   ],
   "source": [
    "X.describe()"
   ]
  },
  {
   "cell_type": "code",
   "execution_count": 6,
   "id": "310dbd46-53ca-49cd-8660-0ffeca42787c",
   "metadata": {},
   "outputs": [
    {
     "data": {
      "text/plain": [
       "Gender\n",
       "Female    606\n",
       "Male      414\n",
       "Name: count, dtype: int64"
      ]
     },
     "execution_count": 6,
     "metadata": {},
     "output_type": "execute_result"
    }
   ],
   "source": [
    "combined_df['Gender'].value_counts()"
   ]
  },
  {
   "cell_type": "code",
   "execution_count": 7,
   "id": "db9ba391-b325-4041-afa5-1dd388ef6f30",
   "metadata": {},
   "outputs": [
    {
     "data": {
      "text/plain": [
       "Ethnicity\n",
       "White                                506\n",
       "Asian                                260\n",
       "Black or African-American            143\n",
       "Hispanic/Latino                       57\n",
       "Multiracial                           50\n",
       "American Indian or Alaskan Native      4\n",
       "Name: count, dtype: int64"
      ]
     },
     "execution_count": 7,
     "metadata": {},
     "output_type": "execute_result"
    }
   ],
   "source": [
    "combined_df['Ethnicity'].value_counts()"
   ]
  },
  {
   "cell_type": "code",
   "execution_count": 8,
   "id": "05e119ee-aa9b-4f4d-aec0-6ff1855520c6",
   "metadata": {},
   "outputs": [
    {
     "data": {
      "text/plain": [
       "Age\n",
       "18-20    534\n",
       "21-25    355\n",
       "26-30     67\n",
       "31-40     31\n",
       "51-60     11\n",
       "21-30     10\n",
       "41-50      9\n",
       ">60        3\n",
       "Name: count, dtype: int64"
      ]
     },
     "execution_count": 8,
     "metadata": {},
     "output_type": "execute_result"
    }
   ],
   "source": [
    "combined_df['Age'].value_counts()"
   ]
  },
  {
   "cell_type": "markdown",
   "id": "7ac8bf27-78f2-4d16-948e-20f3ff17d368",
   "metadata": {},
   "source": [
    "As we can see in the previous section, Age columns **are significantly imbalanced**. \n",
    "\n",
    "Given this distribution, stratification usefulble should be used to ensure that eage group is adequately represented in both the training and testing datasets. This approach would help the model learn to predict outcomes across age groups.\n",
    "\n",
    "However, after adopting the stratifiction on the data, the model performance becomes worse, particularly the classification model. Probably because not enough data to learn from those underpresented age group. **This is noted in the essay too. \"Perhaps the most significant caveat to our results is the limited age range of the study population[1].\"** Considering this, I won't do the stratification here. This will be further discussed in the Limitation section."
   ]
  },
  {
   "cell_type": "code",
   "execution_count": 9,
   "id": "907863ef-e6eb-4a40-b7e2-464ded070bce",
   "metadata": {},
   "outputs": [
    {
     "data": {
      "image/png": "[encoded data removed]",
      "text/plain": [
       "<Figure size 1000x1500 with 30 Axes>"
      ]
     },
     "metadata": {},
     "output_type": "display_data"
    }
   ],
   "source": [
    "import matplotlib.pyplot as plt\n",
    "\n",
    "X.hist(bins=50, figsize=(10,15))\n",
    "plt.show()"
   ]
  },
  {
   "cell_type": "markdown",
   "id": "a978ca4e-7a0f-44cd-9a00-749e7acc7e01",
   "metadata": {},
   "source": [
    "### 4.2 Create a train-test split set\n",
    "\n",
    "Use 80/20 split to create a train-test split set. Train set is use for train and validation, and test set is for the evaluation for final model."
   ]
  },
  {
   "cell_type": "code",
   "execution_count": 10,
   "id": "6a93226b-8174-4ceb-bade-90bb602c893b",
   "metadata": {},
   "outputs": [],
   "source": [
    "from sklearn.model_selection import train_test_split\n",
    "\n",
    "X_train, X_test, y_train, y_test = train_test_split(X, y, test_size=0.2, random_state=42)"
   ]
  },
  {
   "cell_type": "code",
   "execution_count": 11,
   "id": "53d71041-c887-4db2-8ca2-ad47877c7e78",
   "metadata": {},
   "outputs": [
    {
     "data": {
      "text/html": [
       "<div>\n",
       "<style scoped>\n",
       "    .dataframe tbody tr th:only-of-type {\n",
       "        vertical-align: middle;\n",
       "    }\n",
       "\n",
       "    .dataframe tbody tr th {\n",
       "        vertical-align: top;\n",
       "    }\n",
       "\n",
       "    .dataframe thead th {\n",
       "        text-align: right;\n",
       "    }\n",
       "</style>\n",
       "<table border=\"1\" class=\"dataframe\">\n",
       "  <thead>\n",
       "    <tr style=\"text-align: right;\">\n",
       "      <th></th>\n",
       "      <th>Gender</th>\n",
       "      <th>Age</th>\n",
       "      <th>Ethnicity</th>\n",
       "      <th>T_atm</th>\n",
       "      <th>Humidity</th>\n",
       "      <th>Distance</th>\n",
       "      <th>T_offset1</th>\n",
       "      <th>Max1R13_1</th>\n",
       "      <th>Max1L13_1</th>\n",
       "      <th>aveAllR13_1</th>\n",
       "      <th>...</th>\n",
       "      <th>T_FHCC1</th>\n",
       "      <th>T_FHRC1</th>\n",
       "      <th>T_FHLC1</th>\n",
       "      <th>T_FHBC1</th>\n",
       "      <th>T_FHTC1</th>\n",
       "      <th>T_FH_Max1</th>\n",
       "      <th>T_FHC_Max1</th>\n",
       "      <th>T_Max1</th>\n",
       "      <th>T_OR1</th>\n",
       "      <th>T_OR_Max1</th>\n",
       "    </tr>\n",
       "  </thead>\n",
       "  <tbody>\n",
       "    <tr>\n",
       "      <th>743</th>\n",
       "      <td>Female</td>\n",
       "      <td>18-20</td>\n",
       "      <td>White</td>\n",
       "      <td>23.8</td>\n",
       "      <td>24.4</td>\n",
       "      <td>0.65</td>\n",
       "      <td>1.270</td>\n",
       "      <td>35.743333</td>\n",
       "      <td>35.723333</td>\n",
       "      <td>35.103333</td>\n",
       "      <td>...</td>\n",
       "      <td>35.193333</td>\n",
       "      <td>35.133333</td>\n",
       "      <td>35.4100</td>\n",
       "      <td>35.1000</td>\n",
       "      <td>35.3000</td>\n",
       "      <td>35.8200</td>\n",
       "      <td>35.713333</td>\n",
       "      <td>36.0800</td>\n",
       "      <td>35.623333</td>\n",
       "      <td>35.6700</td>\n",
       "    </tr>\n",
       "    <tr>\n",
       "      <th>137</th>\n",
       "      <td>Female</td>\n",
       "      <td>21-25</td>\n",
       "      <td>Black or African-American</td>\n",
       "      <td>24.1</td>\n",
       "      <td>25.9</td>\n",
       "      <td>0.79</td>\n",
       "      <td>0.965</td>\n",
       "      <td>35.715000</td>\n",
       "      <td>35.400000</td>\n",
       "      <td>35.247500</td>\n",
       "      <td>...</td>\n",
       "      <td>34.362500</td>\n",
       "      <td>34.212500</td>\n",
       "      <td>34.4175</td>\n",
       "      <td>34.4450</td>\n",
       "      <td>34.4050</td>\n",
       "      <td>34.9525</td>\n",
       "      <td>34.807500</td>\n",
       "      <td>36.0325</td>\n",
       "      <td>35.977500</td>\n",
       "      <td>36.0175</td>\n",
       "    </tr>\n",
       "    <tr>\n",
       "      <th>799</th>\n",
       "      <td>Male</td>\n",
       "      <td>21-25</td>\n",
       "      <td>White</td>\n",
       "      <td>28.6</td>\n",
       "      <td>49.2</td>\n",
       "      <td>0.60</td>\n",
       "      <td>2.535</td>\n",
       "      <td>38.082500</td>\n",
       "      <td>38.042500</td>\n",
       "      <td>37.575000</td>\n",
       "      <td>...</td>\n",
       "      <td>37.125000</td>\n",
       "      <td>37.075000</td>\n",
       "      <td>37.1650</td>\n",
       "      <td>37.2125</td>\n",
       "      <td>37.3675</td>\n",
       "      <td>38.0025</td>\n",
       "      <td>37.632500</td>\n",
       "      <td>38.1450</td>\n",
       "      <td>37.875000</td>\n",
       "      <td>37.9025</td>\n",
       "    </tr>\n",
       "    <tr>\n",
       "      <th>933</th>\n",
       "      <td>Male</td>\n",
       "      <td>21-25</td>\n",
       "      <td>Black or African-American</td>\n",
       "      <td>23.9</td>\n",
       "      <td>19.3</td>\n",
       "      <td>0.64</td>\n",
       "      <td>0.905</td>\n",
       "      <td>35.975000</td>\n",
       "      <td>36.297500</td>\n",
       "      <td>35.232500</td>\n",
       "      <td>...</td>\n",
       "      <td>35.210000</td>\n",
       "      <td>35.325000</td>\n",
       "      <td>35.2575</td>\n",
       "      <td>35.1700</td>\n",
       "      <td>35.4225</td>\n",
       "      <td>36.1450</td>\n",
       "      <td>35.622500</td>\n",
       "      <td>37.0325</td>\n",
       "      <td>36.992500</td>\n",
       "      <td>37.0325</td>\n",
       "    </tr>\n",
       "    <tr>\n",
       "      <th>822</th>\n",
       "      <td>Female</td>\n",
       "      <td>18-20</td>\n",
       "      <td>White</td>\n",
       "      <td>24.5</td>\n",
       "      <td>23.1</td>\n",
       "      <td>0.60</td>\n",
       "      <td>1.110</td>\n",
       "      <td>35.535000</td>\n",
       "      <td>35.212500</td>\n",
       "      <td>34.747500</td>\n",
       "      <td>...</td>\n",
       "      <td>33.587500</td>\n",
       "      <td>33.557500</td>\n",
       "      <td>33.5675</td>\n",
       "      <td>33.4800</td>\n",
       "      <td>33.9975</td>\n",
       "      <td>35.1400</td>\n",
       "      <td>34.145000</td>\n",
       "      <td>35.5925</td>\n",
       "      <td>35.365000</td>\n",
       "      <td>35.3950</td>\n",
       "    </tr>\n",
       "  </tbody>\n",
       "</table>\n",
       "<p>5 rows × 33 columns</p>\n",
       "</div>"
      ],
      "text/plain": [
       "     Gender    Age                  Ethnicity  T_atm  Humidity  Distance  \\\n",
       "743  Female  18-20                      White   23.8      24.4      0.65   \n",
       "137  Female  21-25  Black or African-American   24.1      25.9      0.79   \n",
       "799    Male  21-25                      White   28.6      49.2      0.60   \n",
       "933    Male  21-25  Black or African-American   23.9      19.3      0.64   \n",
       "822  Female  18-20                      White   24.5      23.1      0.60   \n",
       "\n",
       "     T_offset1  Max1R13_1  Max1L13_1  aveAllR13_1  ...    T_FHCC1    T_FHRC1  \\\n",
       "743      1.270  35.743333  35.723333    35.103333  ...  35.193333  35.133333   \n",
       "137      0.965  35.715000  35.400000    35.247500  ...  34.362500  34.212500   \n",
       "799      2.535  38.082500  38.042500    37.575000  ...  37.125000  37.075000   \n",
       "933      0.905  35.975000  36.297500    35.232500  ...  35.210000  35.325000   \n",
       "822      1.110  35.535000  35.212500    34.747500  ...  33.587500  33.557500   \n",
       "\n",
       "     T_FHLC1  T_FHBC1  T_FHTC1  T_FH_Max1  T_FHC_Max1   T_Max1      T_OR1  \\\n",
       "743  35.4100  35.1000  35.3000    35.8200   35.713333  36.0800  35.623333   \n",
       "137  34.4175  34.4450  34.4050    34.9525   34.807500  36.0325  35.977500   \n",
       "799  37.1650  37.2125  37.3675    38.0025   37.632500  38.1450  37.875000   \n",
       "933  35.2575  35.1700  35.4225    36.1450   35.622500  37.0325  36.992500   \n",
       "822  33.5675  33.4800  33.9975    35.1400   34.145000  35.5925  35.365000   \n",
       "\n",
       "     T_OR_Max1  \n",
       "743    35.6700  \n",
       "137    36.0175  \n",
       "799    37.9025  \n",
       "933    37.0325  \n",
       "822    35.3950  \n",
       "\n",
       "[5 rows x 33 columns]"
      ]
     },
     "execution_count": 11,
     "metadata": {},
     "output_type": "execute_result"
    }
   ],
   "source": [
    "X_train.head()"
   ]
  },
  {
   "cell_type": "code",
   "execution_count": 12,
   "id": "c721a381-c2dd-46c2-a9ac-1c4cce98ffd9",
   "metadata": {},
   "outputs": [
    {
     "data": {
      "text/html": [
       "<div>\n",
       "<style scoped>\n",
       "    .dataframe tbody tr th:only-of-type {\n",
       "        vertical-align: middle;\n",
       "    }\n",
       "\n",
       "    .dataframe tbody tr th {\n",
       "        vertical-align: top;\n",
       "    }\n",
       "\n",
       "    .dataframe thead th {\n",
       "        text-align: right;\n",
       "    }\n",
       "</style>\n",
       "<table border=\"1\" class=\"dataframe\">\n",
       "  <thead>\n",
       "    <tr style=\"text-align: right;\">\n",
       "      <th></th>\n",
       "      <th>Gender</th>\n",
       "      <th>Age</th>\n",
       "      <th>Ethnicity</th>\n",
       "      <th>T_atm</th>\n",
       "      <th>Humidity</th>\n",
       "      <th>Distance</th>\n",
       "      <th>T_offset1</th>\n",
       "      <th>Max1R13_1</th>\n",
       "      <th>Max1L13_1</th>\n",
       "      <th>aveAllR13_1</th>\n",
       "      <th>...</th>\n",
       "      <th>T_FHCC1</th>\n",
       "      <th>T_FHRC1</th>\n",
       "      <th>T_FHLC1</th>\n",
       "      <th>T_FHBC1</th>\n",
       "      <th>T_FHTC1</th>\n",
       "      <th>T_FH_Max1</th>\n",
       "      <th>T_FHC_Max1</th>\n",
       "      <th>T_Max1</th>\n",
       "      <th>T_OR1</th>\n",
       "      <th>T_OR_Max1</th>\n",
       "    </tr>\n",
       "  </thead>\n",
       "  <tbody>\n",
       "    <tr>\n",
       "      <th>523</th>\n",
       "      <td>Male</td>\n",
       "      <td>41-50</td>\n",
       "      <td>Black or African-American</td>\n",
       "      <td>24.1</td>\n",
       "      <td>30.2</td>\n",
       "      <td>0.70</td>\n",
       "      <td>0.807500</td>\n",
       "      <td>35.277500</td>\n",
       "      <td>35.400000</td>\n",
       "      <td>34.6550</td>\n",
       "      <td>...</td>\n",
       "      <td>34.440000</td>\n",
       "      <td>34.4750</td>\n",
       "      <td>34.380000</td>\n",
       "      <td>34.482500</td>\n",
       "      <td>34.2575</td>\n",
       "      <td>35.162500</td>\n",
       "      <td>35.1375</td>\n",
       "      <td>36.032500</td>\n",
       "      <td>35.9975</td>\n",
       "      <td>36.017500</td>\n",
       "    </tr>\n",
       "    <tr>\n",
       "      <th>602</th>\n",
       "      <td>Male</td>\n",
       "      <td>31-40</td>\n",
       "      <td>White</td>\n",
       "      <td>23.4</td>\n",
       "      <td>15.1</td>\n",
       "      <td>0.70</td>\n",
       "      <td>0.972500</td>\n",
       "      <td>35.072500</td>\n",
       "      <td>34.757500</td>\n",
       "      <td>34.4325</td>\n",
       "      <td>...</td>\n",
       "      <td>33.875000</td>\n",
       "      <td>33.5750</td>\n",
       "      <td>33.732500</td>\n",
       "      <td>33.795000</td>\n",
       "      <td>33.7875</td>\n",
       "      <td>34.580000</td>\n",
       "      <td>34.3500</td>\n",
       "      <td>35.452500</td>\n",
       "      <td>35.3350</td>\n",
       "      <td>35.367500</td>\n",
       "    </tr>\n",
       "    <tr>\n",
       "      <th>526</th>\n",
       "      <td>Female</td>\n",
       "      <td>18-20</td>\n",
       "      <td>White</td>\n",
       "      <td>25.4</td>\n",
       "      <td>28.2</td>\n",
       "      <td>0.65</td>\n",
       "      <td>1.150000</td>\n",
       "      <td>35.337500</td>\n",
       "      <td>35.837500</td>\n",
       "      <td>34.5050</td>\n",
       "      <td>...</td>\n",
       "      <td>34.567500</td>\n",
       "      <td>33.9600</td>\n",
       "      <td>34.957500</td>\n",
       "      <td>33.600000</td>\n",
       "      <td>35.3875</td>\n",
       "      <td>36.175000</td>\n",
       "      <td>35.6600</td>\n",
       "      <td>36.320000</td>\n",
       "      <td>34.4575</td>\n",
       "      <td>34.492500</td>\n",
       "    </tr>\n",
       "    <tr>\n",
       "      <th>31</th>\n",
       "      <td>Male</td>\n",
       "      <td>&gt;60</td>\n",
       "      <td>Asian</td>\n",
       "      <td>22.8</td>\n",
       "      <td>33.0</td>\n",
       "      <td>0.80</td>\n",
       "      <td>0.675000</td>\n",
       "      <td>35.050000</td>\n",
       "      <td>34.570000</td>\n",
       "      <td>34.5650</td>\n",
       "      <td>...</td>\n",
       "      <td>34.120000</td>\n",
       "      <td>33.8975</td>\n",
       "      <td>34.205000</td>\n",
       "      <td>34.112500</td>\n",
       "      <td>33.9800</td>\n",
       "      <td>34.712500</td>\n",
       "      <td>34.4950</td>\n",
       "      <td>35.727500</td>\n",
       "      <td>35.6925</td>\n",
       "      <td>35.727500</td>\n",
       "    </tr>\n",
       "    <tr>\n",
       "      <th>616</th>\n",
       "      <td>Male</td>\n",
       "      <td>26-30</td>\n",
       "      <td>Asian</td>\n",
       "      <td>23.8</td>\n",
       "      <td>20.6</td>\n",
       "      <td>0.60</td>\n",
       "      <td>0.763333</td>\n",
       "      <td>35.213333</td>\n",
       "      <td>35.463333</td>\n",
       "      <td>34.6600</td>\n",
       "      <td>...</td>\n",
       "      <td>34.713333</td>\n",
       "      <td>34.7300</td>\n",
       "      <td>34.756667</td>\n",
       "      <td>34.513333</td>\n",
       "      <td>34.8700</td>\n",
       "      <td>35.226667</td>\n",
       "      <td>35.0800</td>\n",
       "      <td>35.786667</td>\n",
       "      <td>35.6200</td>\n",
       "      <td>35.643333</td>\n",
       "    </tr>\n",
       "  </tbody>\n",
       "</table>\n",
       "<p>5 rows × 33 columns</p>\n",
       "</div>"
      ],
      "text/plain": [
       "     Gender    Age                  Ethnicity  T_atm  Humidity  Distance  \\\n",
       "523    Male  41-50  Black or African-American   24.1      30.2      0.70   \n",
       "602    Male  31-40                      White   23.4      15.1      0.70   \n",
       "526  Female  18-20                      White   25.4      28.2      0.65   \n",
       "31     Male    >60                      Asian   22.8      33.0      0.80   \n",
       "616    Male  26-30                      Asian   23.8      20.6      0.60   \n",
       "\n",
       "     T_offset1  Max1R13_1  Max1L13_1  aveAllR13_1  ...    T_FHCC1  T_FHRC1  \\\n",
       "523   0.807500  35.277500  35.400000      34.6550  ...  34.440000  34.4750   \n",
       "602   0.972500  35.072500  34.757500      34.4325  ...  33.875000  33.5750   \n",
       "526   1.150000  35.337500  35.837500      34.5050  ...  34.567500  33.9600   \n",
       "31    0.675000  35.050000  34.570000      34.5650  ...  34.120000  33.8975   \n",
       "616   0.763333  35.213333  35.463333      34.6600  ...  34.713333  34.7300   \n",
       "\n",
       "       T_FHLC1    T_FHBC1  T_FHTC1  T_FH_Max1  T_FHC_Max1     T_Max1    T_OR1  \\\n",
       "523  34.380000  34.482500  34.2575  35.162500     35.1375  36.032500  35.9975   \n",
       "602  33.732500  33.795000  33.7875  34.580000     34.3500  35.452500  35.3350   \n",
       "526  34.957500  33.600000  35.3875  36.175000     35.6600  36.320000  34.4575   \n",
       "31   34.205000  34.112500  33.9800  34.712500     34.4950  35.727500  35.6925   \n",
       "616  34.756667  34.513333  34.8700  35.226667     35.0800  35.786667  35.6200   \n",
       "\n",
       "     T_OR_Max1  \n",
       "523  36.017500  \n",
       "602  35.367500  \n",
       "526  34.492500  \n",
       "31   35.727500  \n",
       "616  35.643333  \n",
       "\n",
       "[5 rows x 33 columns]"
      ]
     },
     "execution_count": 12,
     "metadata": {},
     "output_type": "execute_result"
    }
   ],
   "source": [
    "X_test.head()"
   ]
  },
  {
   "cell_type": "markdown",
   "id": "122a9087-ae46-4324-81ae-c259a0f5ebe7",
   "metadata": {},
   "source": [
    "### 4.3: Looking for correlations between numeric values"
   ]
  },
  {
   "cell_type": "code",
   "execution_count": 14,
   "id": "32523966-0402-47d9-8b87-746e54580229",
   "metadata": {},
   "outputs": [
    {
     "name": "stdout",
     "output_type": "stream",
     "text": [
      "T_atm          0.070825\n",
      "Humidity       0.047200\n",
      "Distance       0.016166\n",
      "T_offset1      0.117794\n",
      "Max1R13_1      0.637134\n",
      "Max1L13_1      0.621410\n",
      "aveAllR13_1    0.534192\n",
      "aveAllL13_1    0.540581\n",
      "T_RC1          0.664154\n",
      "T_RC_Dry1      0.643588\n",
      "T_RC_Wet1      0.654099\n",
      "T_RC_Max1      0.664864\n",
      "T_LC1          0.633009\n",
      "T_LC_Dry1      0.627341\n",
      "T_LC_Wet1      0.611027\n",
      "T_LC_Max1      0.633186\n",
      "RCC1           0.611695\n",
      "LCC1           0.586546\n",
      "canthiMax1     0.673136\n",
      "canthi4Max1    0.672514\n",
      "T_FHCC1        0.433403\n",
      "T_FHRC1        0.425942\n",
      "T_FHLC1        0.399649\n",
      "T_FHBC1        0.472456\n",
      "T_FHTC1        0.382936\n",
      "T_FH_Max1      0.560117\n",
      "T_FHC_Max1     0.502194\n",
      "T_Max1         0.752546\n",
      "T_OR1          0.718840\n",
      "T_OR_Max1      0.718513\n",
      "aveOralF       1.000000\n",
      "aveOralM       0.884728\n",
      "Name: aveOralF, dtype: float64\n"
     ]
    }
   ],
   "source": [
    "X_num_df = combined_df.drop(columns=['Gender', 'Age', 'Ethnicity'])\n",
    "corr_matrix = X_num_df.corr()\n",
    "print(corr_matrix['aveOralF'])"
   ]
  },
  {
   "cell_type": "code",
   "execution_count": 15,
   "id": "96d221e4-320a-4634-9a7d-55b4c77027ae",
   "metadata": {},
   "outputs": [
    {
     "name": "stdout",
     "output_type": "stream",
     "text": [
      "T_atm          0.098663\n",
      "Humidity       0.063595\n",
      "Distance       0.011181\n",
      "T_offset1      0.139041\n",
      "Max1R13_1      0.741902\n",
      "Max1L13_1      0.735644\n",
      "aveAllR13_1    0.620874\n",
      "aveAllL13_1    0.645084\n",
      "T_RC1          0.768730\n",
      "T_RC_Dry1      0.748566\n",
      "T_RC_Wet1      0.760134\n",
      "T_RC_Max1      0.769463\n",
      "T_LC1          0.750390\n",
      "T_LC_Dry1      0.743656\n",
      "T_LC_Wet1      0.720383\n",
      "T_LC_Max1      0.750527\n",
      "RCC1           0.714193\n",
      "LCC1           0.696752\n",
      "canthiMax1     0.784096\n",
      "canthi4Max1    0.783763\n",
      "T_FHCC1        0.513335\n",
      "T_FHRC1        0.514298\n",
      "T_FHLC1        0.463579\n",
      "T_FHBC1        0.552362\n",
      "T_FHTC1        0.454889\n",
      "T_FH_Max1      0.641727\n",
      "T_FHC_Max1     0.595470\n",
      "T_Max1         0.849657\n",
      "T_OR1          0.767345\n",
      "T_OR_Max1      0.766911\n",
      "aveOralF       0.884728\n",
      "aveOralM       1.000000\n",
      "Name: aveOralM, dtype: float64\n"
     ]
    }
   ],
   "source": [
    "print(corr_matrix['aveOralM'])"
   ]
  },
  {
   "cell_type": "markdown",
   "id": "afc6c0c6-e4ef-407e-ab3e-9acdb7da43f4",
   "metadata": {},
   "source": [
    "- High Correlation with Target Variable: Features like T_Max1, T_OR1, T_OR_Max1, canthiMax1, and canthi4Max1 show high correlations with the target variable. It indicates they are strongly related to the target variable. These features could be particularly important for predicting aveOralF.\n",
    "Let's plot scatter plots of the highly correlated features against the target variable to visually explore their relationships. This can help identify patterns, outliers, or non-linear relationships not captured by the correlation coefficient.\n",
    "\n",
    "- Moderate to High Correlations: A significant number of features, such as T_RC1, T_RC_Dry1, T_RC_Wet1, T_RC_Max1, T_LC1, T_LC_Dry1, and others, exhibit moderate to high correlations. This suggests that they also carry valuable information for modeling.\n",
    "\n",
    "- Lower Correlation Values: Some features, like T_atm, Humidity, and Distance, have relatively low correlation coefficients, which might imply they have less direct influence on aveOralF. But they should not be disregarded, as they could still provide useful information when combined with other features."
   ]
  },
  {
   "cell_type": "code",
   "execution_count": 19,
   "id": "ea5cfcc9-03ee-4d2a-a40d-705ffd29c8e9",
   "metadata": {},
   "outputs": [
    {
     "data": {
      "text/plain": [
       "array([[<Axes: xlabel='T_Max1', ylabel='T_Max1'>,\n",
       "        <Axes: xlabel='T_OR1', ylabel='T_Max1'>,\n",
       "        <Axes: xlabel='T_RC1', ylabel='T_Max1'>,\n",
       "        <Axes: xlabel='aveOralF', ylabel='T_Max1'>,\n",
       "        <Axes: xlabel='aveOralM', ylabel='T_Max1'>],\n",
       "       [<Axes: xlabel='T_Max1', ylabel='T_OR1'>,\n",
       "        <Axes: xlabel='T_OR1', ylabel='T_OR1'>,\n",
       "        <Axes: xlabel='T_RC1', ylabel='T_OR1'>,\n",
       "        <Axes: xlabel='aveOralF', ylabel='T_OR1'>,\n",
       "        <Axes: xlabel='aveOralM', ylabel='T_OR1'>],\n",
       "       [<Axes: xlabel='T_Max1', ylabel='T_RC1'>,\n",
       "        <Axes: xlabel='T_OR1', ylabel='T_RC1'>,\n",
       "        <Axes: xlabel='T_RC1', ylabel='T_RC1'>,\n",
       "        <Axes: xlabel='aveOralF', ylabel='T_RC1'>,\n",
       "        <Axes: xlabel='aveOralM', ylabel='T_RC1'>],\n",
       "       [<Axes: xlabel='T_Max1', ylabel='aveOralF'>,\n",
       "        <Axes: xlabel='T_OR1', ylabel='aveOralF'>,\n",
       "        <Axes: xlabel='T_RC1', ylabel='aveOralF'>,\n",
       "        <Axes: xlabel='aveOralF', ylabel='aveOralF'>,\n",
       "        <Axes: xlabel='aveOralM', ylabel='aveOralF'>],\n",
       "       [<Axes: xlabel='T_Max1', ylabel='aveOralM'>,\n",
       "        <Axes: xlabel='T_OR1', ylabel='aveOralM'>,\n",
       "        <Axes: xlabel='T_RC1', ylabel='aveOralM'>,\n",
       "        <Axes: xlabel='aveOralF', ylabel='aveOralM'>,\n",
       "        <Axes: xlabel='aveOralM', ylabel='aveOralM'>]], dtype=object)"
      ]
     },
     "execution_count": 19,
     "metadata": {},
     "output_type": "execute_result"
    },
    {
     "data": {
      "image/png": "[encoded data removed]",
      "text/plain": [
       "<Figure size 1200x800 with 25 Axes>"
      ]
     },
     "metadata": {},
     "output_type": "display_data"
    }
   ],
   "source": [
    "from pandas.plotting import scatter_matrix\n",
    "\n",
    "attributes = [\"T_Max1\", \"T_OR1\", \"T_RC1\",\n",
    "              \"aveOralF\", \"aveOralM\"]\n",
    "scatter_matrix(combined_df[attributes], figsize=(12, 8))"
   ]
  },
  {
   "cell_type": "markdown",
   "id": "678c46b1-0b04-4fa5-b525-f527aa353293",
   "metadata": {},
   "source": [
    "## 4.4: Prepare Data\n",
    "Here are the data preprocessing practices used:\r\n",
    "\r\n",
    "1. Data Cleaning:\r\n",
    "   - Handling missing val.ls.\r\n",
    "   - Identifying and handling outl.hem.\r\n",
    "\r\n",
    "2. Data Transformation:\r\n",
    "   - Standardization/Normalization: Transform numerical data to have a standardized range or distr.zation.\r\n",
    "   - Encoding categorical data: Convert categorical data into a numeric form that models can undeinclude One-Hot Eare used in this reportEncoding.\r\n",
    "F. Data t features.\r\n",
    "   - Dimensionality reduction: Use algorithms like Principal Component Analysis (PCA) to reduce the dataset's dimensions while retaining as much of the original data's . However, after using PCA, my model performance becomes much more worse. So use permutation importance on the final model instead.s possible.\r\n",
    "\r\n",
    "4. Developing Processing Pipelines:\r\n",
    "   - For numerical data: Create a processing pipeline to standardize or normalize data and possibly perform feature selection or dimensionality reduction.\r\n",
    "   - For categorical data: Develop a processing pipeline to encode categorical data and handleorithm efficiency.\n"
   ]
  },
  {
   "cell_type": "code",
   "execution_count": 15,
   "id": "d624d990-d004-4095-b42d-4cc4f877247c",
   "metadata": {},
   "outputs": [
    {
     "name": "stdout",
     "output_type": "stream",
     "text": [
      "     Gender    Age Ethnicity  T_atm  Humidity  Distance  T_offset1  Max1R13_1  \\\n",
      "903    Male  18-20     White   23.9      15.3       NaN     0.7775     35.620   \n",
      "902  Female  18-20     White   23.9      15.3       NaN     0.8100     35.735   \n",
      "\n",
      "     Max1L13_1  aveAllR13_1  ...  T_FHCC1  T_FHRC1  T_FHLC1  T_FHBC1  T_FHTC1  \\\n",
      "903    35.6275      34.3650  ...  33.4375    33.59   33.840  33.1125    33.35   \n",
      "902    35.4150      35.0525  ...  34.5750    34.73   34.675  34.7075    34.77   \n",
      "\n",
      "     T_FH_Max1  T_FHC_Max1   T_Max1    T_OR1  T_OR_Max1  \n",
      "903    34.8675     34.4825  36.3350  36.0425     36.080  \n",
      "902    35.3900     35.1925  36.0075  35.8675     35.895  \n",
      "\n",
      "[2 rows x 33 columns]\n"
     ]
    }
   ],
   "source": [
    "# see if there any empty columns\n",
    "incomplete_rows = X_train[X_train.isnull().any(axis=1)].head()\n",
    "print(incomplete_rows)"
   ]
  },
  {
   "cell_type": "markdown",
   "id": "407b5b9e-a9f5-4e0f-9c21-5fc7116930bb",
   "metadata": {},
   "source": [
    "The result indicates that there is no missing value in the dataset."
   ]
  },
  {
   "cell_type": "code",
   "execution_count": 16,
   "id": "a483081f-ba51-484c-abb9-0b1a9fb6334f",
   "metadata": {},
   "outputs": [],
   "source": [
    "X_train_num = X_train.drop(columns=['Gender', 'Age','Ethnicity'])\n",
    "X_train_cat = X_train[['Gender', 'Age', 'Ethnicity']]"
   ]
  },
  {
   "cell_type": "code",
   "execution_count": 17,
   "id": "b825ba85-92c0-4251-a8d8-ba3012c7376f",
   "metadata": {},
   "outputs": [
    {
     "data": {
      "text/html": [
       "<style>#sk-container-id-1 {color: black;}#sk-container-id-1 pre{padding: 0;}#sk-container-id-1 div.sk-toggleable {background-color: white;}#sk-container-id-1 label.sk-toggleable__label {cursor: pointer;display: block;width: 100%;margin-bottom: 0;padding: 0.3em;box-sizing: border-box;text-align: center;}#sk-container-id-1 label.sk-toggleable__label-arrow:before {content: \"▸\";float: left;margin-right: 0.25em;color: #696969;}#sk-container-id-1 label.sk-toggleable__label-arrow:hover:before {color: black;}#sk-container-id-1 div.sk-estimator:hover label.sk-toggleable__label-arrow:before {color: black;}#sk-container-id-1 div.sk-toggleable__content {max-height: 0;max-width: 0;overflow: hidden;text-align: left;background-color: #f0f8ff;}#sk-container-id-1 div.sk-toggleable__content pre {margin: 0.2em;color: black;border-radius: 0.25em;background-color: #f0f8ff;}#sk-container-id-1 input.sk-toggleable__control:checked~div.sk-toggleable__content {max-height: 200px;max-width: 100%;overflow: auto;}#sk-container-id-1 input.sk-toggleable__control:checked~label.sk-toggleable__label-arrow:before {content: \"▾\";}#sk-container-id-1 div.sk-estimator input.sk-toggleable__control:checked~label.sk-toggleable__label {background-color: #d4ebff;}#sk-container-id-1 div.sk-label input.sk-toggleable__control:checked~label.sk-toggleable__label {background-color: #d4ebff;}#sk-container-id-1 input.sk-hidden--visually {border: 0;clip: rect(1px 1px 1px 1px);clip: rect(1px, 1px, 1px, 1px);height: 1px;margin: -1px;overflow: hidden;padding: 0;position: absolute;width: 1px;}#sk-container-id-1 div.sk-estimator {font-family: monospace;background-color: #f0f8ff;border: 1px dotted black;border-radius: 0.25em;box-sizing: border-box;margin-bottom: 0.5em;}#sk-container-id-1 div.sk-estimator:hover {background-color: #d4ebff;}#sk-container-id-1 div.sk-parallel-item::after {content: \"\";width: 100%;border-bottom: 1px solid gray;flex-grow: 1;}#sk-container-id-1 div.sk-label:hover label.sk-toggleable__label {background-color: #d4ebff;}#sk-container-id-1 div.sk-serial::before {content: \"\";position: absolute;border-left: 1px solid gray;box-sizing: border-box;top: 0;bottom: 0;left: 50%;z-index: 0;}#sk-container-id-1 div.sk-serial {display: flex;flex-direction: column;align-items: center;background-color: white;padding-right: 0.2em;padding-left: 0.2em;position: relative;}#sk-container-id-1 div.sk-item {position: relative;z-index: 1;}#sk-container-id-1 div.sk-parallel {display: flex;align-items: stretch;justify-content: center;background-color: white;position: relative;}#sk-container-id-1 div.sk-item::before, #sk-container-id-1 div.sk-parallel-item::before {content: \"\";position: absolute;border-left: 1px solid gray;box-sizing: border-box;top: 0;bottom: 0;left: 50%;z-index: -1;}#sk-container-id-1 div.sk-parallel-item {display: flex;flex-direction: column;z-index: 1;position: relative;background-color: white;}#sk-container-id-1 div.sk-parallel-item:first-child::after {align-self: flex-end;width: 50%;}#sk-container-id-1 div.sk-parallel-item:last-child::after {align-self: flex-start;width: 50%;}#sk-container-id-1 div.sk-parallel-item:only-child::after {width: 0;}#sk-container-id-1 div.sk-dashed-wrapped {border: 1px dashed gray;margin: 0 0.4em 0.5em 0.4em;box-sizing: border-box;padding-bottom: 0.4em;background-color: white;}#sk-container-id-1 div.sk-label label {font-family: monospace;font-weight: bold;display: inline-block;line-height: 1.2em;}#sk-container-id-1 div.sk-label-container {text-align: center;}#sk-container-id-1 div.sk-container {/* jupyter's `normalize.less` sets `[hidden] { display: none; }` but bootstrap.min.css set `[hidden] { display: none !important; }` so we also need the `!important` here to be able to override the default hidden behavior on the sphinx rendered scikit-learn.org. See: https://github.com/scikit-learn/scikit-learn/issues/21755 */display: inline-block !important;position: relative;}#sk-container-id-1 div.sk-text-repr-fallback {display: none;}</style><div id=\"sk-container-id-1\" class=\"sk-top-container\"><div class=\"sk-text-repr-fallback\"><pre>SimpleImputer(strategy=&#x27;median&#x27;)</pre><b>In a Jupyter environment, please rerun this cell to show the HTML representation or trust the notebook. <br />On GitHub, the HTML representation is unable to render, please try loading this page with nbviewer.org.</b></div><div class=\"sk-container\" hidden><div class=\"sk-item\"><div class=\"sk-estimator sk-toggleable\"><input class=\"sk-toggleable__control sk-hidden--visually\" id=\"sk-estimator-id-1\" type=\"checkbox\" checked><label for=\"sk-estimator-id-1\" class=\"sk-toggleable__label sk-toggleable__label-arrow\">SimpleImputer</label><div class=\"sk-toggleable__content\"><pre>SimpleImputer(strategy=&#x27;median&#x27;)</pre></div></div></div></div></div>"
      ],
      "text/plain": [
       "SimpleImputer(strategy='median')"
      ]
     },
     "execution_count": 17,
     "metadata": {},
     "output_type": "execute_result"
    }
   ],
   "source": [
    "from sklearn.impute import SimpleImputer\n",
    "imputer = SimpleImputer(strategy=\"median\")\n",
    "imputer.fit(X_train_num)"
   ]
  },
  {
   "cell_type": "code",
   "execution_count": 118,
   "id": "4f2541cb-1139-4447-9a7f-2175b511e6af",
   "metadata": {},
   "outputs": [
    {
     "data": {
      "text/plain": [
       "array([24.        , 26.4       ,  0.62      ,  0.945     , 35.5375    ,\n",
       "       35.56625   , 34.90625   , 34.9975    , 35.5925    , 35.525     ,\n",
       "       35.48375   , 35.625     , 35.595     , 35.565     , 35.41625   ,\n",
       "       35.6175    , 35.2075    , 35.16      , 35.7075    , 35.68      ,\n",
       "       34.58375   , 34.595     , 34.60125   , 34.5       , 34.6225    ,\n",
       "       35.39875   , 35.09375   , 36.0275    , 35.79375   , 35.82583335])"
      ]
     },
     "execution_count": 118,
     "metadata": {},
     "output_type": "execute_result"
    }
   ],
   "source": [
    "imputer.statistics_"
   ]
  },
  {
   "cell_type": "code",
   "execution_count": 18,
   "id": "d3516fc7-5d19-4221-8990-43b9d40f9f47",
   "metadata": {},
   "outputs": [
    {
     "data": {
      "text/plain": [
       "array([[1., 0., 0., ..., 0., 0., 1.],\n",
       "       [1., 0., 0., ..., 0., 0., 0.],\n",
       "       [0., 1., 0., ..., 0., 0., 1.],\n",
       "       ...,\n",
       "       [1., 0., 0., ..., 0., 0., 1.],\n",
       "       [1., 0., 0., ..., 0., 0., 0.],\n",
       "       [0., 1., 0., ..., 0., 1., 0.]])"
      ]
     },
     "execution_count": 18,
     "metadata": {},
     "output_type": "execute_result"
    }
   ],
   "source": [
    "from sklearn.preprocessing import OneHotEncoder\n",
    "\n",
    "one_hot_df = X_train_cat[['Gender', 'Ethnicity']]\n",
    "one_hot_encoder = OneHotEncoder(handle_unknown='ignore')\n",
    "one_hot_encoded = one_hot_encoder.fit_transform(one_hot_df)\n",
    "one_hot_encoded.toarray()"
   ]
  },
  {
   "cell_type": "code",
   "execution_count": 19,
   "id": "e6c33820-8946-43c6-a4c4-f973dc7479ec",
   "metadata": {},
   "outputs": [],
   "source": [
    "from sklearn.pipeline import Pipeline\n",
    "from sklearn.preprocessing import StandardScaler\n",
    "\n",
    "num_pipeline = Pipeline([\n",
    "    ('imputer', SimpleImputer(strategy='median')),\n",
    "    ('std_scaler', StandardScaler()),\n",
    "])\n",
    "X_train_num_tr = num_pipeline.fit_transform(X_train_num)"
   ]
  },
  {
   "cell_type": "code",
   "execution_count": 20,
   "id": "6d2bb1ae-3058-47a4-8684-e98b8d6991fa",
   "metadata": {},
   "outputs": [],
   "source": [
    "from sklearn.compose import ColumnTransformer\n",
    "\n",
    "num_attribs = list(X_train_num)\n",
    "cat_attribs = list(X_train_cat)\n",
    "\n",
    "full_pipeline = ColumnTransformer([\n",
    "    (\"num\", num_pipeline, num_attribs),\n",
    "    (\"cat\", one_hot_encoder, cat_attribs),\n",
    "])\n",
    "preprocessed_X_train = full_pipeline.fit_transform(X_train)\n",
    "# preprocess the test set too\n",
    "preprocessed_X_test = full_pipeline.transform(X_test)"
   ]
  },
  {
   "cell_type": "code",
   "execution_count": 21,
   "id": "a25470ae-6959-426b-a559-6bbd4510c82d",
   "metadata": {},
   "outputs": [
    {
     "data": {
      "text/plain": [
       "array([[-2.24923386e-01, -3.50950401e-01, -3.63782021e-02, ...,\n",
       "         0.00000000e+00,  0.00000000e+00,  1.00000000e+00],\n",
       "       [-2.99172581e-03, -2.37119600e-01,  1.46826876e-02, ...,\n",
       "         0.00000000e+00,  0.00000000e+00,  0.00000000e+00],\n",
       "       [ 3.32598317e+00,  1.53105216e+00, -5.46142341e-02, ...,\n",
       "         0.00000000e+00,  0.00000000e+00,  1.00000000e+00],\n",
       "       ...,\n",
       "       [ 7.09854942e-02, -8.13862321e-01, -4.73198213e-02, ...,\n",
       "         0.00000000e+00,  0.00000000e+00,  1.00000000e+00],\n",
       "       [ 2.43825653e+00,  5.44518560e-01, -3.63782021e-02, ...,\n",
       "         0.00000000e+00,  0.00000000e+00,  0.00000000e+00],\n",
       "       [-2.24923386e-01, -7.83507441e-01, -5.46142341e-02, ...,\n",
       "         0.00000000e+00,  1.00000000e+00,  0.00000000e+00]])"
      ]
     },
     "execution_count": 21,
     "metadata": {},
     "output_type": "execute_result"
    }
   ],
   "source": [
    "preprocessed_X_train"
   ]
  },
  {
   "cell_type": "code",
   "execution_count": 22,
   "id": "956c29d1-bddf-4fc1-9689-5ccc1ab1d30a",
   "metadata": {},
   "outputs": [
    {
     "data": {
      "text/plain": [
       "(816, 46)"
      ]
     },
     "execution_count": 22,
     "metadata": {},
     "output_type": "execute_result"
    }
   ],
   "source": [
    "preprocessed_X_train.shape"
   ]
  },
  {
   "cell_type": "markdown",
   "id": "6e686cfa-f3ad-428f-94a8-630f9889483a",
   "metadata": {},
   "source": [
    "In our classification task, the objective is to distinguish between instances with a temperature exceeding 37.5°C (classified as having a fever) and those with a temperature below this threshold (classified as normal). Consequently, the training labels (y) have been encoded as binary values, with 1 representing the presence of a fever and 0 indicating normal temperature readings. For the regression task, the data is utilized in its original form, allowing for a more nuanced understanding of temperature variations without the imposition of a binary framework. "
   ]
  },
  {
   "cell_type": "code",
   "execution_count": 23,
   "id": "8224391a-944a-4505-97e4-bec05a4ab7f9",
   "metadata": {},
   "outputs": [
    {
     "name": "stdout",
     "output_type": "stream",
     "text": [
      "743    0\n",
      "137    0\n",
      "799    1\n",
      "933    1\n",
      "822    0\n",
      "      ..\n",
      "106    0\n",
      "270    0\n",
      "860    0\n",
      "435    0\n",
      "102    0\n",
      "Name: feverOralF, Length: 816, dtype: int32\n"
     ]
    }
   ],
   "source": [
    "from tensorflow.keras.utils import to_categorical\n",
    "import numpy as np\n",
    "\n",
    "y_train['feverOralF'] = np.where(y_train['aveOralF'] >= 37.5, 1, 0)\n",
    "y_train['feverOralM'] = np.where(y_train['aveOralM'] >= 37.5, 1, 0)\n",
    "\n",
    "y_train_feverF = y_train['feverOralF']\n",
    "y_train_feverM = y_train['feverOralM']\n",
    "\n",
    "y_train_reg = y_train[['aveOralF', 'aveOralM']]\n",
    "y_train_clf = y_train[['feverOralF','feverOralM']]\n",
    "\n",
    "y_test_feverF = y_test['aveOralF']\n",
    "y_test_feverM = y_test['aveOralM']\n",
    "\n",
    "print(y_train_feverF)"
   ]
  },
  {
   "cell_type": "markdown",
   "id": "945a8f7b-75b5-434f-a544-9df16af928a2",
   "metadata": {},
   "source": [
    "## Step 5: Train and Evaluate the Model\n",
    "### 5.1 Regression Model\n",
    "\n",
    "Upon completing the data preprocessing phase, our next step involves training the data across various machine learning algorithms. Given the nature of this task as a regression problem, we employ both the Mean Absolute Error (MAE) and the Root Mean Squared Error (RMSE) as metrics to assess model performance. Additionally, we leverage cross-validation scores to bolster the robustness of our evaluation methodology."
   ]
  },
  {
   "cell_type": "code",
   "execution_count": 24,
   "id": "00b558ec-0a42-468e-8bd1-0a7d429ae102",
   "metadata": {},
   "outputs": [],
   "source": [
    "def display_scores(scores):\n",
    "    print(\"Mean:\", round(scores.mean(), 2))\n",
    "    print(\"Scores:\", np.round(scores, 2))\n",
    "    print(\"Standard deviation:\", round(scores.std(), 2))"
   ]
  },
  {
   "cell_type": "markdown",
   "id": "9b7f1b96-5db3-4085-a0a7-f20ce253fbd7",
   "metadata": {},
   "source": [
    "#### 1. Linear Regressor"
   ]
  },
  {
   "cell_type": "code",
   "execution_count": 25,
   "id": "d8bed465-9fce-4f44-8582-52ef45d73ceb",
   "metadata": {},
   "outputs": [
    {
     "data": {
      "text/html": [
       "<style>#sk-container-id-2 {color: black;}#sk-container-id-2 pre{padding: 0;}#sk-container-id-2 div.sk-toggleable {background-color: white;}#sk-container-id-2 label.sk-toggleable__label {cursor: pointer;display: block;width: 100%;margin-bottom: 0;padding: 0.3em;box-sizing: border-box;text-align: center;}#sk-container-id-2 label.sk-toggleable__label-arrow:before {content: \"▸\";float: left;margin-right: 0.25em;color: #696969;}#sk-container-id-2 label.sk-toggleable__label-arrow:hover:before {color: black;}#sk-container-id-2 div.sk-estimator:hover label.sk-toggleable__label-arrow:before {color: black;}#sk-container-id-2 div.sk-toggleable__content {max-height: 0;max-width: 0;overflow: hidden;text-align: left;background-color: #f0f8ff;}#sk-container-id-2 div.sk-toggleable__content pre {margin: 0.2em;color: black;border-radius: 0.25em;background-color: #f0f8ff;}#sk-container-id-2 input.sk-toggleable__control:checked~div.sk-toggleable__content {max-height: 200px;max-width: 100%;overflow: auto;}#sk-container-id-2 input.sk-toggleable__control:checked~label.sk-toggleable__label-arrow:before {content: \"▾\";}#sk-container-id-2 div.sk-estimator input.sk-toggleable__control:checked~label.sk-toggleable__label {background-color: #d4ebff;}#sk-container-id-2 div.sk-label input.sk-toggleable__control:checked~label.sk-toggleable__label {background-color: #d4ebff;}#sk-container-id-2 input.sk-hidden--visually {border: 0;clip: rect(1px 1px 1px 1px);clip: rect(1px, 1px, 1px, 1px);height: 1px;margin: -1px;overflow: hidden;padding: 0;position: absolute;width: 1px;}#sk-container-id-2 div.sk-estimator {font-family: monospace;background-color: #f0f8ff;border: 1px dotted black;border-radius: 0.25em;box-sizing: border-box;margin-bottom: 0.5em;}#sk-container-id-2 div.sk-estimator:hover {background-color: #d4ebff;}#sk-container-id-2 div.sk-parallel-item::after {content: \"\";width: 100%;border-bottom: 1px solid gray;flex-grow: 1;}#sk-container-id-2 div.sk-label:hover label.sk-toggleable__label {background-color: #d4ebff;}#sk-container-id-2 div.sk-serial::before {content: \"\";position: absolute;border-left: 1px solid gray;box-sizing: border-box;top: 0;bottom: 0;left: 50%;z-index: 0;}#sk-container-id-2 div.sk-serial {display: flex;flex-direction: column;align-items: center;background-color: white;padding-right: 0.2em;padding-left: 0.2em;position: relative;}#sk-container-id-2 div.sk-item {position: relative;z-index: 1;}#sk-container-id-2 div.sk-parallel {display: flex;align-items: stretch;justify-content: center;background-color: white;position: relative;}#sk-container-id-2 div.sk-item::before, #sk-container-id-2 div.sk-parallel-item::before {content: \"\";position: absolute;border-left: 1px solid gray;box-sizing: border-box;top: 0;bottom: 0;left: 50%;z-index: -1;}#sk-container-id-2 div.sk-parallel-item {display: flex;flex-direction: column;z-index: 1;position: relative;background-color: white;}#sk-container-id-2 div.sk-parallel-item:first-child::after {align-self: flex-end;width: 50%;}#sk-container-id-2 div.sk-parallel-item:last-child::after {align-self: flex-start;width: 50%;}#sk-container-id-2 div.sk-parallel-item:only-child::after {width: 0;}#sk-container-id-2 div.sk-dashed-wrapped {border: 1px dashed gray;margin: 0 0.4em 0.5em 0.4em;box-sizing: border-box;padding-bottom: 0.4em;background-color: white;}#sk-container-id-2 div.sk-label label {font-family: monospace;font-weight: bold;display: inline-block;line-height: 1.2em;}#sk-container-id-2 div.sk-label-container {text-align: center;}#sk-container-id-2 div.sk-container {/* jupyter's `normalize.less` sets `[hidden] { display: none; }` but bootstrap.min.css set `[hidden] { display: none !important; }` so we also need the `!important` here to be able to override the default hidden behavior on the sphinx rendered scikit-learn.org. See: https://github.com/scikit-learn/scikit-learn/issues/21755 */display: inline-block !important;position: relative;}#sk-container-id-2 div.sk-text-repr-fallback {display: none;}</style><div id=\"sk-container-id-2\" class=\"sk-top-container\"><div class=\"sk-text-repr-fallback\"><pre>LinearRegression()</pre><b>In a Jupyter environment, please rerun this cell to show the HTML representation or trust the notebook. <br />On GitHub, the HTML representation is unable to render, please try loading this page with nbviewer.org.</b></div><div class=\"sk-container\" hidden><div class=\"sk-item\"><div class=\"sk-estimator sk-toggleable\"><input class=\"sk-toggleable__control sk-hidden--visually\" id=\"sk-estimator-id-2\" type=\"checkbox\" checked><label for=\"sk-estimator-id-2\" class=\"sk-toggleable__label sk-toggleable__label-arrow\">LinearRegression</label><div class=\"sk-toggleable__content\"><pre>LinearRegression()</pre></div></div></div></div></div>"
      ],
      "text/plain": [
       "LinearRegression()"
      ]
     },
     "execution_count": 25,
     "metadata": {},
     "output_type": "execute_result"
    }
   ],
   "source": [
    "from sklearn.linear_model import LinearRegression\n",
    "\n",
    "lin_reg = LinearRegression()\n",
    "lin_reg.fit(preprocessed_X_train, y_train_reg)"
   ]
  },
  {
   "cell_type": "code",
   "execution_count": 26,
   "id": "2243a1aa-0086-4c00-89d1-510f6bc51b63",
   "metadata": {},
   "outputs": [
    {
     "name": "stdout",
     "output_type": "stream",
     "text": [
      "0.19\n"
     ]
    }
   ],
   "source": [
    "from sklearn.metrics import mean_absolute_error\n",
    "\n",
    "lin_reg_predictions = lin_reg.predict(preprocessed_X_train)\n",
    "lin_mae = mean_absolute_error(y_train_reg, lin_reg_predictions)\n",
    "print(round(lin_mae, 2))"
   ]
  },
  {
   "cell_type": "code",
   "execution_count": 27,
   "id": "170733ff-57b7-4273-ae1c-da7f24aa4b7d",
   "metadata": {},
   "outputs": [
    {
     "name": "stdout",
     "output_type": "stream",
     "text": [
      "Mean: 0.39\n",
      "Scores: [1.53 0.26 0.25 0.25 0.28 0.24 0.25 0.27 0.3  0.25]\n",
      "Standard deviation: 0.38\n"
     ]
    }
   ],
   "source": [
    "from sklearn.model_selection import cross_val_score\n",
    "\n",
    "lin_scores = cross_val_score(lin_reg, preprocessed_X_train, y_train_reg, n_jobs=-1, scoring=\"neg_mean_squared_error\", cv=10)\n",
    "# use -lin_score here, becuase scoring method used is negative mean square error\n",
    "lin_rmse_scores = np.sqrt(-lin_scores)\n",
    "display_scores(lin_rmse_scores)"
   ]
  },
  {
   "cell_type": "markdown",
   "id": "1665a525-c95b-4313-9e0f-574d856bd08f",
   "metadata": {},
   "source": [
    "|Model|RMSE|MAE| \n",
    "| --- | --- | --- |\n",
    "|Linear Regression| 0.39 | 0.19 |"
   ]
  },
  {
   "cell_type": "markdown",
   "id": "ae67929a-e749-49b6-919e-8bcd401c5a43",
   "metadata": {},
   "source": [
    "**Why choose RMSE AND MAE?**\n",
    "**RMSE**\n",
    "- In situations where large errors could have severe consequences, such as predicting the dosage of medication, an under or overestimation by a large margin could be fatal. RMSE would penalize these large errors more, making it a suitable metric to ensure model accuracy in critical predictions..- Medical data can sometimes include outliers due to rare conditions or anomalies in patient responses. When it's crucial not to underestimate the risk or severity of these rare events, RMSE's sensitivity to outliers ensures they influence model evaluation more significantly.r\n",
    "**d.\r",
    "**r- Medical datasets often contain outliers due to variability in data collection errors. MAE is less sensitive to such outliers, making it a reliable metric when the goal is to develop a model that performs consistently across a wide range of patients without being unduly influenced by rare or extreme cases. error."
   ]
  },
  {
   "cell_type": "markdown",
   "id": "d38ac939-8acc-412e-a912-e92f4bd975f3",
   "metadata": {},
   "source": [
    "#### 2. K-nearest Neighbor Regressor"
   ]
  },
  {
   "cell_type": "code",
   "execution_count": 28,
   "id": "a37f0832-d9be-4354-a4be-36287c27e4a2",
   "metadata": {},
   "outputs": [
    {
     "data": {
      "text/html": [
       "<style>#sk-container-id-3 {color: black;}#sk-container-id-3 pre{padding: 0;}#sk-container-id-3 div.sk-toggleable {background-color: white;}#sk-container-id-3 label.sk-toggleable__label {cursor: pointer;display: block;width: 100%;margin-bottom: 0;padding: 0.3em;box-sizing: border-box;text-align: center;}#sk-container-id-3 label.sk-toggleable__label-arrow:before {content: \"▸\";float: left;margin-right: 0.25em;color: #696969;}#sk-container-id-3 label.sk-toggleable__label-arrow:hover:before {color: black;}#sk-container-id-3 div.sk-estimator:hover label.sk-toggleable__label-arrow:before {color: black;}#sk-container-id-3 div.sk-toggleable__content {max-height: 0;max-width: 0;overflow: hidden;text-align: left;background-color: #f0f8ff;}#sk-container-id-3 div.sk-toggleable__content pre {margin: 0.2em;color: black;border-radius: 0.25em;background-color: #f0f8ff;}#sk-container-id-3 input.sk-toggleable__control:checked~div.sk-toggleable__content {max-height: 200px;max-width: 100%;overflow: auto;}#sk-container-id-3 input.sk-toggleable__control:checked~label.sk-toggleable__label-arrow:before {content: \"▾\";}#sk-container-id-3 div.sk-estimator input.sk-toggleable__control:checked~label.sk-toggleable__label {background-color: #d4ebff;}#sk-container-id-3 div.sk-label input.sk-toggleable__control:checked~label.sk-toggleable__label {background-color: #d4ebff;}#sk-container-id-3 input.sk-hidden--visually {border: 0;clip: rect(1px 1px 1px 1px);clip: rect(1px, 1px, 1px, 1px);height: 1px;margin: -1px;overflow: hidden;padding: 0;position: absolute;width: 1px;}#sk-container-id-3 div.sk-estimator {font-family: monospace;background-color: #f0f8ff;border: 1px dotted black;border-radius: 0.25em;box-sizing: border-box;margin-bottom: 0.5em;}#sk-container-id-3 div.sk-estimator:hover {background-color: #d4ebff;}#sk-container-id-3 div.sk-parallel-item::after {content: \"\";width: 100%;border-bottom: 1px solid gray;flex-grow: 1;}#sk-container-id-3 div.sk-label:hover label.sk-toggleable__label {background-color: #d4ebff;}#sk-container-id-3 div.sk-serial::before {content: \"\";position: absolute;border-left: 1px solid gray;box-sizing: border-box;top: 0;bottom: 0;left: 50%;z-index: 0;}#sk-container-id-3 div.sk-serial {display: flex;flex-direction: column;align-items: center;background-color: white;padding-right: 0.2em;padding-left: 0.2em;position: relative;}#sk-container-id-3 div.sk-item {position: relative;z-index: 1;}#sk-container-id-3 div.sk-parallel {display: flex;align-items: stretch;justify-content: center;background-color: white;position: relative;}#sk-container-id-3 div.sk-item::before, #sk-container-id-3 div.sk-parallel-item::before {content: \"\";position: absolute;border-left: 1px solid gray;box-sizing: border-box;top: 0;bottom: 0;left: 50%;z-index: -1;}#sk-container-id-3 div.sk-parallel-item {display: flex;flex-direction: column;z-index: 1;position: relative;background-color: white;}#sk-container-id-3 div.sk-parallel-item:first-child::after {align-self: flex-end;width: 50%;}#sk-container-id-3 div.sk-parallel-item:last-child::after {align-self: flex-start;width: 50%;}#sk-container-id-3 div.sk-parallel-item:only-child::after {width: 0;}#sk-container-id-3 div.sk-dashed-wrapped {border: 1px dashed gray;margin: 0 0.4em 0.5em 0.4em;box-sizing: border-box;padding-bottom: 0.4em;background-color: white;}#sk-container-id-3 div.sk-label label {font-family: monospace;font-weight: bold;display: inline-block;line-height: 1.2em;}#sk-container-id-3 div.sk-label-container {text-align: center;}#sk-container-id-3 div.sk-container {/* jupyter's `normalize.less` sets `[hidden] { display: none; }` but bootstrap.min.css set `[hidden] { display: none !important; }` so we also need the `!important` here to be able to override the default hidden behavior on the sphinx rendered scikit-learn.org. See: https://github.com/scikit-learn/scikit-learn/issues/21755 */display: inline-block !important;position: relative;}#sk-container-id-3 div.sk-text-repr-fallback {display: none;}</style><div id=\"sk-container-id-3\" class=\"sk-top-container\"><div class=\"sk-text-repr-fallback\"><pre>KNeighborsRegressor(n_neighbors=1)</pre><b>In a Jupyter environment, please rerun this cell to show the HTML representation or trust the notebook. <br />On GitHub, the HTML representation is unable to render, please try loading this page with nbviewer.org.</b></div><div class=\"sk-container\" hidden><div class=\"sk-item\"><div class=\"sk-estimator sk-toggleable\"><input class=\"sk-toggleable__control sk-hidden--visually\" id=\"sk-estimator-id-3\" type=\"checkbox\" checked><label for=\"sk-estimator-id-3\" class=\"sk-toggleable__label sk-toggleable__label-arrow\">KNeighborsRegressor</label><div class=\"sk-toggleable__content\"><pre>KNeighborsRegressor(n_neighbors=1)</pre></div></div></div></div></div>"
      ],
      "text/plain": [
       "KNeighborsRegressor(n_neighbors=1)"
      ]
     },
     "execution_count": 28,
     "metadata": {},
     "output_type": "execute_result"
    }
   ],
   "source": [
    "from sklearn.neighbors import KNeighborsRegressor\n",
    "\n",
    "neigh_reg = KNeighborsRegressor(n_neighbors=1)\n",
    "neigh_reg.fit(preprocessed_X_train, y_train_reg)"
   ]
  },
  {
   "cell_type": "code",
   "execution_count": 29,
   "id": "5f8ec20f-f405-46da-93bc-78d3f6272870",
   "metadata": {},
   "outputs": [
    {
     "name": "stdout",
     "output_type": "stream",
     "text": [
      "0.0\n"
     ]
    }
   ],
   "source": [
    "neigh_reg_predictions = neigh_reg.predict(preprocessed_X_train)\n",
    "neigh_mae = mean_absolute_error(y_train_reg, neigh_reg_predictions)\n",
    "print(neigh_mae)"
   ]
  },
  {
   "cell_type": "code",
   "execution_count": 30,
   "id": "89a9184a-8e1d-46f2-92f1-3624d738d713",
   "metadata": {},
   "outputs": [
    {
     "name": "stdout",
     "output_type": "stream",
     "text": [
      "Mean: 0.34\n",
      "Scores: [0.34 0.36 0.35 0.3  0.36 0.33 0.35 0.38 0.34 0.34]\n",
      "Standard deviation: 0.02\n"
     ]
    }
   ],
   "source": [
    "neigh_scores = cross_val_score(neigh_reg, preprocessed_X_train, y_train_reg, n_jobs=-1, scoring=\"neg_mean_squared_error\", cv=10)\n",
    "neigh_rmse_scores = np.sqrt(-neigh_scores)\n",
    "display_scores(neigh_rmse_scores)"
   ]
  },
  {
   "cell_type": "markdown",
   "id": "c803f0e6-0e94-4397-bc8a-232ee19aa486",
   "metadata": {},
   "source": [
    "|Model|RMSE|MAE| \n",
    "| --- | --- | --- |\n",
    "|Linear Regression| 0.39 | 0.19 |\n",
    "|K-nearest Neighbour|0.34|0"
   ]
  },
  {
   "cell_type": "markdown",
   "id": "26d80a2d-dca6-48ec-ae24-22ad6329ab6c",
   "metadata": {},
   "source": [
    "#### 3. Decision Tree Regressor"
   ]
  },
  {
   "cell_type": "code",
   "execution_count": 31,
   "id": "88671e4a-2544-49a7-9d69-1c0e06f50e8d",
   "metadata": {},
   "outputs": [
    {
     "data": {
      "text/html": [
       "<style>#sk-container-id-4 {color: black;}#sk-container-id-4 pre{padding: 0;}#sk-container-id-4 div.sk-toggleable {background-color: white;}#sk-container-id-4 label.sk-toggleable__label {cursor: pointer;display: block;width: 100%;margin-bottom: 0;padding: 0.3em;box-sizing: border-box;text-align: center;}#sk-container-id-4 label.sk-toggleable__label-arrow:before {content: \"▸\";float: left;margin-right: 0.25em;color: #696969;}#sk-container-id-4 label.sk-toggleable__label-arrow:hover:before {color: black;}#sk-container-id-4 div.sk-estimator:hover label.sk-toggleable__label-arrow:before {color: black;}#sk-container-id-4 div.sk-toggleable__content {max-height: 0;max-width: 0;overflow: hidden;text-align: left;background-color: #f0f8ff;}#sk-container-id-4 div.sk-toggleable__content pre {margin: 0.2em;color: black;border-radius: 0.25em;background-color: #f0f8ff;}#sk-container-id-4 input.sk-toggleable__control:checked~div.sk-toggleable__content {max-height: 200px;max-width: 100%;overflow: auto;}#sk-container-id-4 input.sk-toggleable__control:checked~label.sk-toggleable__label-arrow:before {content: \"▾\";}#sk-container-id-4 div.sk-estimator input.sk-toggleable__control:checked~label.sk-toggleable__label {background-color: #d4ebff;}#sk-container-id-4 div.sk-label input.sk-toggleable__control:checked~label.sk-toggleable__label {background-color: #d4ebff;}#sk-container-id-4 input.sk-hidden--visually {border: 0;clip: rect(1px 1px 1px 1px);clip: rect(1px, 1px, 1px, 1px);height: 1px;margin: -1px;overflow: hidden;padding: 0;position: absolute;width: 1px;}#sk-container-id-4 div.sk-estimator {font-family: monospace;background-color: #f0f8ff;border: 1px dotted black;border-radius: 0.25em;box-sizing: border-box;margin-bottom: 0.5em;}#sk-container-id-4 div.sk-estimator:hover {background-color: #d4ebff;}#sk-container-id-4 div.sk-parallel-item::after {content: \"\";width: 100%;border-bottom: 1px solid gray;flex-grow: 1;}#sk-container-id-4 div.sk-label:hover label.sk-toggleable__label {background-color: #d4ebff;}#sk-container-id-4 div.sk-serial::before {content: \"\";position: absolute;border-left: 1px solid gray;box-sizing: border-box;top: 0;bottom: 0;left: 50%;z-index: 0;}#sk-container-id-4 div.sk-serial {display: flex;flex-direction: column;align-items: center;background-color: white;padding-right: 0.2em;padding-left: 0.2em;position: relative;}#sk-container-id-4 div.sk-item {position: relative;z-index: 1;}#sk-container-id-4 div.sk-parallel {display: flex;align-items: stretch;justify-content: center;background-color: white;position: relative;}#sk-container-id-4 div.sk-item::before, #sk-container-id-4 div.sk-parallel-item::before {content: \"\";position: absolute;border-left: 1px solid gray;box-sizing: border-box;top: 0;bottom: 0;left: 50%;z-index: -1;}#sk-container-id-4 div.sk-parallel-item {display: flex;flex-direction: column;z-index: 1;position: relative;background-color: white;}#sk-container-id-4 div.sk-parallel-item:first-child::after {align-self: flex-end;width: 50%;}#sk-container-id-4 div.sk-parallel-item:last-child::after {align-self: flex-start;width: 50%;}#sk-container-id-4 div.sk-parallel-item:only-child::after {width: 0;}#sk-container-id-4 div.sk-dashed-wrapped {border: 1px dashed gray;margin: 0 0.4em 0.5em 0.4em;box-sizing: border-box;padding-bottom: 0.4em;background-color: white;}#sk-container-id-4 div.sk-label label {font-family: monospace;font-weight: bold;display: inline-block;line-height: 1.2em;}#sk-container-id-4 div.sk-label-container {text-align: center;}#sk-container-id-4 div.sk-container {/* jupyter's `normalize.less` sets `[hidden] { display: none; }` but bootstrap.min.css set `[hidden] { display: none !important; }` so we also need the `!important` here to be able to override the default hidden behavior on the sphinx rendered scikit-learn.org. See: https://github.com/scikit-learn/scikit-learn/issues/21755 */display: inline-block !important;position: relative;}#sk-container-id-4 div.sk-text-repr-fallback {display: none;}</style><div id=\"sk-container-id-4\" class=\"sk-top-container\"><div class=\"sk-text-repr-fallback\"><pre>DecisionTreeRegressor(random_state=42)</pre><b>In a Jupyter environment, please rerun this cell to show the HTML representation or trust the notebook. <br />On GitHub, the HTML representation is unable to render, please try loading this page with nbviewer.org.</b></div><div class=\"sk-container\" hidden><div class=\"sk-item\"><div class=\"sk-estimator sk-toggleable\"><input class=\"sk-toggleable__control sk-hidden--visually\" id=\"sk-estimator-id-4\" type=\"checkbox\" checked><label for=\"sk-estimator-id-4\" class=\"sk-toggleable__label sk-toggleable__label-arrow\">DecisionTreeRegressor</label><div class=\"sk-toggleable__content\"><pre>DecisionTreeRegressor(random_state=42)</pre></div></div></div></div></div>"
      ],
      "text/plain": [
       "DecisionTreeRegressor(random_state=42)"
      ]
     },
     "execution_count": 31,
     "metadata": {},
     "output_type": "execute_result"
    }
   ],
   "source": [
    "from sklearn.tree import DecisionTreeRegressor\n",
    "\n",
    "tree_reg = DecisionTreeRegressor(random_state=42)\n",
    "tree_reg.fit(preprocessed_X_train, y_train_reg)"
   ]
  },
  {
   "cell_type": "markdown",
   "id": "cfe8f17e-cc2f-45e9-b787-e23ae1e5e535",
   "metadata": {},
   "source": [
    "The result shows the model overfits the data, we will try to tune the parameter."
   ]
  },
  {
   "cell_type": "code",
   "execution_count": 32,
   "id": "604ac163-b68f-4cdb-a77a-acf532c2bb5c",
   "metadata": {},
   "outputs": [
    {
     "name": "stdout",
     "output_type": "stream",
     "text": [
      "0.16\n"
     ]
    }
   ],
   "source": [
    "tree_reg = DecisionTreeRegressor(max_depth=4, random_state=42)\n",
    "tree_reg.fit(preprocessed_X_train, y_train_reg)\n",
    "tree_reg_predictions = tree_reg.predict(preprocessed_X_train)\n",
    "tree_mae = mean_absolute_error(y_train_reg, tree_reg_predictions)\n",
    "print(round(tree_mae, 2))"
   ]
  },
  {
   "cell_type": "code",
   "execution_count": 33,
   "id": "c04f094e-28d8-4290-88c4-ea2d70eb9eca",
   "metadata": {},
   "outputs": [
    {
     "name": "stdout",
     "output_type": "stream",
     "text": [
      "Mean: 0.28\n",
      "Scores: [0.36 0.25 0.27 0.23 0.27 0.22 0.28 0.31 0.32 0.25]\n",
      "Standard deviation: 0.04\n"
     ]
    }
   ],
   "source": [
    "tree_scores = cross_val_score(tree_reg, preprocessed_X_train, y_train_reg, n_jobs=-1, scoring=\"neg_mean_squared_error\", cv=10)\n",
    "tree_rmse_scores = np.sqrt(-tree_scores)\n",
    "display_scores(tree_rmse_scores)"
   ]
  },
  {
   "cell_type": "markdown",
   "id": "a50cc3cc-701f-4d81-95ed-6194ddf5f9e9",
   "metadata": {},
   "source": [
    "|Model|RMSE|MAE| \n",
    "| --- | --- | --- |\n",
    "|Linear Regression| 0.39 | 0.19 |\n",
    "|K-nearest Neighbour|0.34|0\n",
    "|Decision Tree|0.28|0.16"
   ]
  },
  {
   "cell_type": "markdown",
   "id": "5b352639-6416-48e9-913a-6bd6728ba0aa",
   "metadata": {},
   "source": [
    "#### 4. Random Forest Regressor"
   ]
  },
  {
   "cell_type": "code",
   "execution_count": 34,
   "id": "5039d836-d824-4965-9d93-4e3b800328cb",
   "metadata": {},
   "outputs": [
    {
     "data": {
      "text/html": [
       "<style>#sk-container-id-5 {color: black;}#sk-container-id-5 pre{padding: 0;}#sk-container-id-5 div.sk-toggleable {background-color: white;}#sk-container-id-5 label.sk-toggleable__label {cursor: pointer;display: block;width: 100%;margin-bottom: 0;padding: 0.3em;box-sizing: border-box;text-align: center;}#sk-container-id-5 label.sk-toggleable__label-arrow:before {content: \"▸\";float: left;margin-right: 0.25em;color: #696969;}#sk-container-id-5 label.sk-toggleable__label-arrow:hover:before {color: black;}#sk-container-id-5 div.sk-estimator:hover label.sk-toggleable__label-arrow:before {color: black;}#sk-container-id-5 div.sk-toggleable__content {max-height: 0;max-width: 0;overflow: hidden;text-align: left;background-color: #f0f8ff;}#sk-container-id-5 div.sk-toggleable__content pre {margin: 0.2em;color: black;border-radius: 0.25em;background-color: #f0f8ff;}#sk-container-id-5 input.sk-toggleable__control:checked~div.sk-toggleable__content {max-height: 200px;max-width: 100%;overflow: auto;}#sk-container-id-5 input.sk-toggleable__control:checked~label.sk-toggleable__label-arrow:before {content: \"▾\";}#sk-container-id-5 div.sk-estimator input.sk-toggleable__control:checked~label.sk-toggleable__label {background-color: #d4ebff;}#sk-container-id-5 div.sk-label input.sk-toggleable__control:checked~label.sk-toggleable__label {background-color: #d4ebff;}#sk-container-id-5 input.sk-hidden--visually {border: 0;clip: rect(1px 1px 1px 1px);clip: rect(1px, 1px, 1px, 1px);height: 1px;margin: -1px;overflow: hidden;padding: 0;position: absolute;width: 1px;}#sk-container-id-5 div.sk-estimator {font-family: monospace;background-color: #f0f8ff;border: 1px dotted black;border-radius: 0.25em;box-sizing: border-box;margin-bottom: 0.5em;}#sk-container-id-5 div.sk-estimator:hover {background-color: #d4ebff;}#sk-container-id-5 div.sk-parallel-item::after {content: \"\";width: 100%;border-bottom: 1px solid gray;flex-grow: 1;}#sk-container-id-5 div.sk-label:hover label.sk-toggleable__label {background-color: #d4ebff;}#sk-container-id-5 div.sk-serial::before {content: \"\";position: absolute;border-left: 1px solid gray;box-sizing: border-box;top: 0;bottom: 0;left: 50%;z-index: 0;}#sk-container-id-5 div.sk-serial {display: flex;flex-direction: column;align-items: center;background-color: white;padding-right: 0.2em;padding-left: 0.2em;position: relative;}#sk-container-id-5 div.sk-item {position: relative;z-index: 1;}#sk-container-id-5 div.sk-parallel {display: flex;align-items: stretch;justify-content: center;background-color: white;position: relative;}#sk-container-id-5 div.sk-item::before, #sk-container-id-5 div.sk-parallel-item::before {content: \"\";position: absolute;border-left: 1px solid gray;box-sizing: border-box;top: 0;bottom: 0;left: 50%;z-index: -1;}#sk-container-id-5 div.sk-parallel-item {display: flex;flex-direction: column;z-index: 1;position: relative;background-color: white;}#sk-container-id-5 div.sk-parallel-item:first-child::after {align-self: flex-end;width: 50%;}#sk-container-id-5 div.sk-parallel-item:last-child::after {align-self: flex-start;width: 50%;}#sk-container-id-5 div.sk-parallel-item:only-child::after {width: 0;}#sk-container-id-5 div.sk-dashed-wrapped {border: 1px dashed gray;margin: 0 0.4em 0.5em 0.4em;box-sizing: border-box;padding-bottom: 0.4em;background-color: white;}#sk-container-id-5 div.sk-label label {font-family: monospace;font-weight: bold;display: inline-block;line-height: 1.2em;}#sk-container-id-5 div.sk-label-container {text-align: center;}#sk-container-id-5 div.sk-container {/* jupyter's `normalize.less` sets `[hidden] { display: none; }` but bootstrap.min.css set `[hidden] { display: none !important; }` so we also need the `!important` here to be able to override the default hidden behavior on the sphinx rendered scikit-learn.org. See: https://github.com/scikit-learn/scikit-learn/issues/21755 */display: inline-block !important;position: relative;}#sk-container-id-5 div.sk-text-repr-fallback {display: none;}</style><div id=\"sk-container-id-5\" class=\"sk-top-container\"><div class=\"sk-text-repr-fallback\"><pre>RandomForestRegressor(random_state=42)</pre><b>In a Jupyter environment, please rerun this cell to show the HTML representation or trust the notebook. <br />On GitHub, the HTML representation is unable to render, please try loading this page with nbviewer.org.</b></div><div class=\"sk-container\" hidden><div class=\"sk-item\"><div class=\"sk-estimator sk-toggleable\"><input class=\"sk-toggleable__control sk-hidden--visually\" id=\"sk-estimator-id-5\" type=\"checkbox\" checked><label for=\"sk-estimator-id-5\" class=\"sk-toggleable__label sk-toggleable__label-arrow\">RandomForestRegressor</label><div class=\"sk-toggleable__content\"><pre>RandomForestRegressor(random_state=42)</pre></div></div></div></div></div>"
      ],
      "text/plain": [
       "RandomForestRegressor(random_state=42)"
      ]
     },
     "execution_count": 34,
     "metadata": {},
     "output_type": "execute_result"
    }
   ],
   "source": [
    "from sklearn.ensemble import RandomForestRegressor\n",
    "\n",
    "forest_reg = RandomForestRegressor(n_estimators=100, random_state=42)\n",
    "forest_reg.fit(preprocessed_X_train, y_train_reg)"
   ]
  },
  {
   "cell_type": "code",
   "execution_count": 35,
   "id": "03cace63-8761-44bd-a300-b20a7c7278bd",
   "metadata": {},
   "outputs": [
    {
     "name": "stdout",
     "output_type": "stream",
     "text": [
      "0.07\n"
     ]
    }
   ],
   "source": [
    "forest_reg_predictions = forest_reg.predict(preprocessed_X_train)\n",
    "forest_mae = mean_absolute_error(y_train_reg, forest_reg_predictions)\n",
    "print(round(forest_mae, 2))"
   ]
  },
  {
   "cell_type": "code",
   "execution_count": 36,
   "id": "750020b3-9c58-44b3-9e59-3591cf110725",
   "metadata": {},
   "outputs": [
    {
     "name": "stdout",
     "output_type": "stream",
     "text": [
      "Mean: 0.25\n",
      "Scores: [0.26 0.23 0.24 0.21 0.27 0.21 0.26 0.3  0.27 0.23]\n",
      "Standard deviation: 0.03\n"
     ]
    }
   ],
   "source": [
    "forest_scores = cross_val_score(forest_reg, preprocessed_X_train, y_train_reg, n_jobs=-1, scoring=\"neg_mean_squared_error\", cv=10)\n",
    "forest_rmse_scores = np.sqrt(-forest_scores)\n",
    "display_scores(forest_rmse_scores)"
   ]
  },
  {
   "cell_type": "markdown",
   "id": "6c95bf8e-afea-47a5-b66b-45b764d876d3",
   "metadata": {},
   "source": [
    "|Model|RMSE|MAE| \n",
    "| --- | --- | --- |\n",
    "|Linear Regression| 0.39 | 0.19 |\n",
    "|K-nearest Neighbour|0.34|0\n",
    "|Decision Tree|0.28|0.16\n",
    "|Random Forest|0.25|0.07"
   ]
  },
  {
   "cell_type": "markdown",
   "id": "022cba41-8cc3-4aff-876c-080e66b7cc23",
   "metadata": {},
   "source": [
    "#### 5. XGBoost Regressor"
   ]
  },
  {
   "cell_type": "code",
   "execution_count": 37,
   "id": "6fb6574d-ab11-4790-9d2d-babcefe32e4c",
   "metadata": {},
   "outputs": [
    {
     "data": {
      "text/html": [
       "<style>#sk-container-id-6 {color: black;}#sk-container-id-6 pre{padding: 0;}#sk-container-id-6 div.sk-toggleable {background-color: white;}#sk-container-id-6 label.sk-toggleable__label {cursor: pointer;display: block;width: 100%;margin-bottom: 0;padding: 0.3em;box-sizing: border-box;text-align: center;}#sk-container-id-6 label.sk-toggleable__label-arrow:before {content: \"▸\";float: left;margin-right: 0.25em;color: #696969;}#sk-container-id-6 label.sk-toggleable__label-arrow:hover:before {color: black;}#sk-container-id-6 div.sk-estimator:hover label.sk-toggleable__label-arrow:before {color: black;}#sk-container-id-6 div.sk-toggleable__content {max-height: 0;max-width: 0;overflow: hidden;text-align: left;background-color: #f0f8ff;}#sk-container-id-6 div.sk-toggleable__content pre {margin: 0.2em;color: black;border-radius: 0.25em;background-color: #f0f8ff;}#sk-container-id-6 input.sk-toggleable__control:checked~div.sk-toggleable__content {max-height: 200px;max-width: 100%;overflow: auto;}#sk-container-id-6 input.sk-toggleable__control:checked~label.sk-toggleable__label-arrow:before {content: \"▾\";}#sk-container-id-6 div.sk-estimator input.sk-toggleable__control:checked~label.sk-toggleable__label {background-color: #d4ebff;}#sk-container-id-6 div.sk-label input.sk-toggleable__control:checked~label.sk-toggleable__label {background-color: #d4ebff;}#sk-container-id-6 input.sk-hidden--visually {border: 0;clip: rect(1px 1px 1px 1px);clip: rect(1px, 1px, 1px, 1px);height: 1px;margin: -1px;overflow: hidden;padding: 0;position: absolute;width: 1px;}#sk-container-id-6 div.sk-estimator {font-family: monospace;background-color: #f0f8ff;border: 1px dotted black;border-radius: 0.25em;box-sizing: border-box;margin-bottom: 0.5em;}#sk-container-id-6 div.sk-estimator:hover {background-color: #d4ebff;}#sk-container-id-6 div.sk-parallel-item::after {content: \"\";width: 100%;border-bottom: 1px solid gray;flex-grow: 1;}#sk-container-id-6 div.sk-label:hover label.sk-toggleable__label {background-color: #d4ebff;}#sk-container-id-6 div.sk-serial::before {content: \"\";position: absolute;border-left: 1px solid gray;box-sizing: border-box;top: 0;bottom: 0;left: 50%;z-index: 0;}#sk-container-id-6 div.sk-serial {display: flex;flex-direction: column;align-items: center;background-color: white;padding-right: 0.2em;padding-left: 0.2em;position: relative;}#sk-container-id-6 div.sk-item {position: relative;z-index: 1;}#sk-container-id-6 div.sk-parallel {display: flex;align-items: stretch;justify-content: center;background-color: white;position: relative;}#sk-container-id-6 div.sk-item::before, #sk-container-id-6 div.sk-parallel-item::before {content: \"\";position: absolute;border-left: 1px solid gray;box-sizing: border-box;top: 0;bottom: 0;left: 50%;z-index: -1;}#sk-container-id-6 div.sk-parallel-item {display: flex;flex-direction: column;z-index: 1;position: relative;background-color: white;}#sk-container-id-6 div.sk-parallel-item:first-child::after {align-self: flex-end;width: 50%;}#sk-container-id-6 div.sk-parallel-item:last-child::after {align-self: flex-start;width: 50%;}#sk-container-id-6 div.sk-parallel-item:only-child::after {width: 0;}#sk-container-id-6 div.sk-dashed-wrapped {border: 1px dashed gray;margin: 0 0.4em 0.5em 0.4em;box-sizing: border-box;padding-bottom: 0.4em;background-color: white;}#sk-container-id-6 div.sk-label label {font-family: monospace;font-weight: bold;display: inline-block;line-height: 1.2em;}#sk-container-id-6 div.sk-label-container {text-align: center;}#sk-container-id-6 div.sk-container {/* jupyter's `normalize.less` sets `[hidden] { display: none; }` but bootstrap.min.css set `[hidden] { display: none !important; }` so we also need the `!important` here to be able to override the default hidden behavior on the sphinx rendered scikit-learn.org. See: https://github.com/scikit-learn/scikit-learn/issues/21755 */display: inline-block !important;position: relative;}#sk-container-id-6 div.sk-text-repr-fallback {display: none;}</style><div id=\"sk-container-id-6\" class=\"sk-top-container\"><div class=\"sk-text-repr-fallback\"><pre>XGBRegressor(alpha=10, base_score=None, booster=None, callbacks=None,\n",
       "             colsample_bylevel=None, colsample_bynode=None,\n",
       "             colsample_bytree=0.3, device=None, early_stopping_rounds=None,\n",
       "             enable_categorical=False, eval_metric=None, feature_types=None,\n",
       "             gamma=None, grow_policy=None, importance_type=None,\n",
       "             interaction_constraints=None, learning_rate=0.1, max_bin=None,\n",
       "             max_cat_threshold=None, max_cat_to_onehot=None,\n",
       "             max_delta_step=None, max_depth=5, max_leaves=None,\n",
       "             min_child_weight=None, missing=nan, monotone_constraints=None,\n",
       "             multi_strategy=None, n_estimators=10, n_jobs=None,\n",
       "             num_parallel_tree=None, ...)</pre><b>In a Jupyter environment, please rerun this cell to show the HTML representation or trust the notebook. <br />On GitHub, the HTML representation is unable to render, please try loading this page with nbviewer.org.</b></div><div class=\"sk-container\" hidden><div class=\"sk-item\"><div class=\"sk-estimator sk-toggleable\"><input class=\"sk-toggleable__control sk-hidden--visually\" id=\"sk-estimator-id-6\" type=\"checkbox\" checked><label for=\"sk-estimator-id-6\" class=\"sk-toggleable__label sk-toggleable__label-arrow\">XGBRegressor</label><div class=\"sk-toggleable__content\"><pre>XGBRegressor(alpha=10, base_score=None, booster=None, callbacks=None,\n",
       "             colsample_bylevel=None, colsample_bynode=None,\n",
       "             colsample_bytree=0.3, device=None, early_stopping_rounds=None,\n",
       "             enable_categorical=False, eval_metric=None, feature_types=None,\n",
       "             gamma=None, grow_policy=None, importance_type=None,\n",
       "             interaction_constraints=None, learning_rate=0.1, max_bin=None,\n",
       "             max_cat_threshold=None, max_cat_to_onehot=None,\n",
       "             max_delta_step=None, max_depth=5, max_leaves=None,\n",
       "             min_child_weight=None, missing=nan, monotone_constraints=None,\n",
       "             multi_strategy=None, n_estimators=10, n_jobs=None,\n",
       "             num_parallel_tree=None, ...)</pre></div></div></div></div></div>"
      ],
      "text/plain": [
       "XGBRegressor(alpha=10, base_score=None, booster=None, callbacks=None,\n",
       "             colsample_bylevel=None, colsample_bynode=None,\n",
       "             colsample_bytree=0.3, device=None, early_stopping_rounds=None,\n",
       "             enable_categorical=False, eval_metric=None, feature_types=None,\n",
       "             gamma=None, grow_policy=None, importance_type=None,\n",
       "             interaction_constraints=None, learning_rate=0.1, max_bin=None,\n",
       "             max_cat_threshold=None, max_cat_to_onehot=None,\n",
       "             max_delta_step=None, max_depth=5, max_leaves=None,\n",
       "             min_child_weight=None, missing=nan, monotone_constraints=None,\n",
       "             multi_strategy=None, n_estimators=10, n_jobs=None,\n",
       "             num_parallel_tree=None, ...)"
      ]
     },
     "execution_count": 37,
     "metadata": {},
     "output_type": "execute_result"
    }
   ],
   "source": [
    "import xgboost as xgb\n",
    "\n",
    "xgb_reg = xgb.XGBRegressor(objective ='reg:squarederror', colsample_bytree = 0.3, learning_rate = 0.1,\n",
    "                max_depth = 5, alpha = 10, n_estimators = 10)\n",
    "xgb_reg.fit(preprocessed_X_train, y_train_reg)\n"
   ]
  },
  {
   "cell_type": "code",
   "execution_count": 38,
   "id": "c733826f-402d-4a4f-8a0d-e1b1217fb65c",
   "metadata": {},
   "outputs": [
    {
     "name": "stdout",
     "output_type": "stream",
     "text": [
      "0.21\n"
     ]
    }
   ],
   "source": [
    "xgb_reg_predictions = xgb_reg.predict(preprocessed_X_train)\n",
    "xgb_mae = mean_absolute_error(y_train_reg, xgb_reg_predictions)\n",
    "print(round(xgb_mae, 2))"
   ]
  },
  {
   "cell_type": "code",
   "execution_count": 39,
   "id": "56edf0ae-10e2-4955-af8c-85b9b79349e6",
   "metadata": {},
   "outputs": [
    {
     "name": "stdout",
     "output_type": "stream",
     "text": [
      "Mean: 0.33\n",
      "Scores: [0.43 0.29 0.27 0.25 0.36 0.27 0.41 0.41 0.35 0.26]\n",
      "Standard deviation: 0.07\n"
     ]
    }
   ],
   "source": [
    "xgb_scores = cross_val_score(xgb_reg, preprocessed_X_train, y_train_reg, n_jobs=-1, scoring=\"neg_mean_squared_error\", cv=10)\n",
    "xgb_rmse_scores = np.sqrt(-xgb_scores)\n",
    "display_scores(xgb_rmse_scores)"
   ]
  },
  {
   "cell_type": "markdown",
   "id": "fd15c03b-3c86-4b58-9a3f-4095e9084b05",
   "metadata": {},
   "source": [
    "|Model|RMSE|MAE| \n",
    "| --- | --- | --- |\n",
    "|Linear Regression| 0.39 | 0.19 |\n",
    "|K-nearest Neighbour|0.34|0\n",
    "|Decision Tree|0.28|0.16\n",
    "|Random Forest|0.25|0.07\n",
    "|XGBoost|0.33|0.21"
   ]
  },
  {
   "cell_type": "markdown",
   "id": "4d844446-beaf-4b8d-b4e5-d6487e598b0c",
   "metadata": {},
   "source": [
    "#### 6. Gradient Boost Regressor"
   ]
  },
  {
   "cell_type": "code",
   "execution_count": 40,
   "id": "a2b4a274-c369-4cc2-8c34-2bf67f7545f6",
   "metadata": {},
   "outputs": [
    {
     "data": {
      "text/html": [
       "<style>#sk-container-id-7 {color: black;}#sk-container-id-7 pre{padding: 0;}#sk-container-id-7 div.sk-toggleable {background-color: white;}#sk-container-id-7 label.sk-toggleable__label {cursor: pointer;display: block;width: 100%;margin-bottom: 0;padding: 0.3em;box-sizing: border-box;text-align: center;}#sk-container-id-7 label.sk-toggleable__label-arrow:before {content: \"▸\";float: left;margin-right: 0.25em;color: #696969;}#sk-container-id-7 label.sk-toggleable__label-arrow:hover:before {color: black;}#sk-container-id-7 div.sk-estimator:hover label.sk-toggleable__label-arrow:before {color: black;}#sk-container-id-7 div.sk-toggleable__content {max-height: 0;max-width: 0;overflow: hidden;text-align: left;background-color: #f0f8ff;}#sk-container-id-7 div.sk-toggleable__content pre {margin: 0.2em;color: black;border-radius: 0.25em;background-color: #f0f8ff;}#sk-container-id-7 input.sk-toggleable__control:checked~div.sk-toggleable__content {max-height: 200px;max-width: 100%;overflow: auto;}#sk-container-id-7 input.sk-toggleable__control:checked~label.sk-toggleable__label-arrow:before {content: \"▾\";}#sk-container-id-7 div.sk-estimator input.sk-toggleable__control:checked~label.sk-toggleable__label {background-color: #d4ebff;}#sk-container-id-7 div.sk-label input.sk-toggleable__control:checked~label.sk-toggleable__label {background-color: #d4ebff;}#sk-container-id-7 input.sk-hidden--visually {border: 0;clip: rect(1px 1px 1px 1px);clip: rect(1px, 1px, 1px, 1px);height: 1px;margin: -1px;overflow: hidden;padding: 0;position: absolute;width: 1px;}#sk-container-id-7 div.sk-estimator {font-family: monospace;background-color: #f0f8ff;border: 1px dotted black;border-radius: 0.25em;box-sizing: border-box;margin-bottom: 0.5em;}#sk-container-id-7 div.sk-estimator:hover {background-color: #d4ebff;}#sk-container-id-7 div.sk-parallel-item::after {content: \"\";width: 100%;border-bottom: 1px solid gray;flex-grow: 1;}#sk-container-id-7 div.sk-label:hover label.sk-toggleable__label {background-color: #d4ebff;}#sk-container-id-7 div.sk-serial::before {content: \"\";position: absolute;border-left: 1px solid gray;box-sizing: border-box;top: 0;bottom: 0;left: 50%;z-index: 0;}#sk-container-id-7 div.sk-serial {display: flex;flex-direction: column;align-items: center;background-color: white;padding-right: 0.2em;padding-left: 0.2em;position: relative;}#sk-container-id-7 div.sk-item {position: relative;z-index: 1;}#sk-container-id-7 div.sk-parallel {display: flex;align-items: stretch;justify-content: center;background-color: white;position: relative;}#sk-container-id-7 div.sk-item::before, #sk-container-id-7 div.sk-parallel-item::before {content: \"\";position: absolute;border-left: 1px solid gray;box-sizing: border-box;top: 0;bottom: 0;left: 50%;z-index: -1;}#sk-container-id-7 div.sk-parallel-item {display: flex;flex-direction: column;z-index: 1;position: relative;background-color: white;}#sk-container-id-7 div.sk-parallel-item:first-child::after {align-self: flex-end;width: 50%;}#sk-container-id-7 div.sk-parallel-item:last-child::after {align-self: flex-start;width: 50%;}#sk-container-id-7 div.sk-parallel-item:only-child::after {width: 0;}#sk-container-id-7 div.sk-dashed-wrapped {border: 1px dashed gray;margin: 0 0.4em 0.5em 0.4em;box-sizing: border-box;padding-bottom: 0.4em;background-color: white;}#sk-container-id-7 div.sk-label label {font-family: monospace;font-weight: bold;display: inline-block;line-height: 1.2em;}#sk-container-id-7 div.sk-label-container {text-align: center;}#sk-container-id-7 div.sk-container {/* jupyter's `normalize.less` sets `[hidden] { display: none; }` but bootstrap.min.css set `[hidden] { display: none !important; }` so we also need the `!important` here to be able to override the default hidden behavior on the sphinx rendered scikit-learn.org. See: https://github.com/scikit-learn/scikit-learn/issues/21755 */display: inline-block !important;position: relative;}#sk-container-id-7 div.sk-text-repr-fallback {display: none;}</style><div id=\"sk-container-id-7\" class=\"sk-top-container\"><div class=\"sk-text-repr-fallback\"><pre>MultiOutputRegressor(estimator=GradientBoostingRegressor(learning_rate=0.01,\n",
       "                                                         max_depth=4,\n",
       "                                                         min_samples_split=5,\n",
       "                                                         n_estimators=500))</pre><b>In a Jupyter environment, please rerun this cell to show the HTML representation or trust the notebook. <br />On GitHub, the HTML representation is unable to render, please try loading this page with nbviewer.org.</b></div><div class=\"sk-container\" hidden><div class=\"sk-item sk-dashed-wrapped\"><div class=\"sk-label-container\"><div class=\"sk-label sk-toggleable\"><input class=\"sk-toggleable__control sk-hidden--visually\" id=\"sk-estimator-id-7\" type=\"checkbox\" ><label for=\"sk-estimator-id-7\" class=\"sk-toggleable__label sk-toggleable__label-arrow\">MultiOutputRegressor</label><div class=\"sk-toggleable__content\"><pre>MultiOutputRegressor(estimator=GradientBoostingRegressor(learning_rate=0.01,\n",
       "                                                         max_depth=4,\n",
       "                                                         min_samples_split=5,\n",
       "                                                         n_estimators=500))</pre></div></div></div><div class=\"sk-parallel\"><div class=\"sk-parallel-item\"><div class=\"sk-item\"><div class=\"sk-label-container\"><div class=\"sk-label sk-toggleable\"><input class=\"sk-toggleable__control sk-hidden--visually\" id=\"sk-estimator-id-8\" type=\"checkbox\" ><label for=\"sk-estimator-id-8\" class=\"sk-toggleable__label sk-toggleable__label-arrow\">estimator: GradientBoostingRegressor</label><div class=\"sk-toggleable__content\"><pre>GradientBoostingRegressor(learning_rate=0.01, max_depth=4, min_samples_split=5,\n",
       "                          n_estimators=500)</pre></div></div></div><div class=\"sk-serial\"><div class=\"sk-item\"><div class=\"sk-estimator sk-toggleable\"><input class=\"sk-toggleable__control sk-hidden--visually\" id=\"sk-estimator-id-9\" type=\"checkbox\" ><label for=\"sk-estimator-id-9\" class=\"sk-toggleable__label sk-toggleable__label-arrow\">GradientBoostingRegressor</label><div class=\"sk-toggleable__content\"><pre>GradientBoostingRegressor(learning_rate=0.01, max_depth=4, min_samples_split=5,\n",
       "                          n_estimators=500)</pre></div></div></div></div></div></div></div></div></div></div>"
      ],
      "text/plain": [
       "MultiOutputRegressor(estimator=GradientBoostingRegressor(learning_rate=0.01,\n",
       "                                                         max_depth=4,\n",
       "                                                         min_samples_split=5,\n",
       "                                                         n_estimators=500))"
      ]
     },
     "execution_count": 40,
     "metadata": {},
     "output_type": "execute_result"
    }
   ],
   "source": [
    "from sklearn.ensemble import GradientBoostingRegressor\n",
    "from sklearn.multioutput import MultiOutputRegressor\n",
    "\n",
    "params = {\n",
    "    \"n_estimators\": 500,\n",
    "    \"max_depth\": 4,\n",
    "    \"min_samples_split\": 5,\n",
    "    \"learning_rate\": 0.01,\n",
    "    \"loss\": \"squared_error\",\n",
    "}\n",
    "\n",
    "gb_reg = GradientBoostingRegressor(**params)\n",
    "multi_gb_reg = MultiOutputRegressor(gb_reg)\n",
    "multi_gb_reg.fit(preprocessed_X_train, y_train_reg)"
   ]
  },
  {
   "cell_type": "code",
   "execution_count": 41,
   "id": "9f82a13a-aa76-4a97-8c5d-034bef2567e6",
   "metadata": {},
   "outputs": [
    {
     "name": "stdout",
     "output_type": "stream",
     "text": [
      "0.12\n"
     ]
    }
   ],
   "source": [
    "gb_reg_predictions = multi_gb_reg.predict(preprocessed_X_train)\n",
    "gb_mae = mean_absolute_error(y_train_reg, gb_reg_predictions)\n",
    "print(round(gb_mae, 2))"
   ]
  },
  {
   "cell_type": "code",
   "execution_count": 42,
   "id": "bb2186e5-349d-432e-9ade-a257f0593c2d",
   "metadata": {},
   "outputs": [
    {
     "name": "stdout",
     "output_type": "stream",
     "text": [
      "Mean: 0.26\n",
      "Scores: [0.28 0.24 0.25 0.21 0.27 0.23 0.29 0.3  0.27 0.24]\n",
      "Standard deviation: 0.03\n"
     ]
    }
   ],
   "source": [
    "gb_scores = cross_val_score(multi_gb_reg, preprocessed_X_train, y_train_reg, n_jobs=-1, scoring=\"neg_mean_squared_error\", cv=10)\n",
    "gb_rmse_scores = np.sqrt(-gb_scores)\n",
    "display_scores(gb_rmse_scores)"
   ]
  },
  {
   "cell_type": "markdown",
   "id": "c0a4d99f-57c7-4979-acad-511017c4e455",
   "metadata": {},
   "source": [
    "|Model|RMSE|MAE| \n",
    "| --- | --- | --- |\n",
    "|Linear Regression| 0.39 | 0.19 |\n",
    "|K-nearest Neighbour|0.34|0\n",
    "|Decision Tree|0.28|0.16\n",
    "|Random Forest|0.25|0.07\n",
    "|XGBoost|0.33|0.21\n",
    "|Gradient Boost|0.26|0.12"
   ]
  },
  {
   "cell_type": "markdown",
   "id": "b45dc5ef-4f3b-4b3b-aef2-793a25bca7b6",
   "metadata": {},
   "source": [
    "#### Finetune the model using Random Search\n",
    "In the phase of model selection, we specifically refine the Gradient Boosting Regressor since it has the best performance. Through a Randomized Search approach, we tried to optimizied it to yield the most favorable outcomes."
   ]
  },
  {
   "cell_type": "code",
   "execution_count": 43,
   "id": "3cc0e03b-40e9-482e-9cf1-8bd81af0a190",
   "metadata": {},
   "outputs": [
    {
     "name": "stdout",
     "output_type": "stream",
     "text": [
      "{'estimator__learning_rate': 0.1, 'estimator__max_depth': 5, 'estimator__min_samples_split': 10, 'estimator__n_estimators': 300}\n"
     ]
    }
   ],
   "source": [
    "from sklearn.model_selection import RandomizedSearchCV\n",
    "from scipy.stats import randint\n",
    "\n",
    "params = {\n",
    "    'estimator__n_estimators': [100, 300, 500],\n",
    "    'estimator__max_depth': randint(low=2, high=6),\n",
    "    'estimator__min_samples_split': [5, 10],\n",
    "    'estimator__learning_rate': [0.1, 0.01, 0.001],\n",
    "}\n",
    "rnd_search = RandomizedSearchCV(multi_gb_reg, param_distributions=params,\n",
    "                               n_jobs=-1, n_iter=10, cv=5, scoring='neg_mean_squared_error', random_state=42)\n",
    "rnd_search.fit(preprocessed_X_train, y_train_reg)\n",
    "print(rnd_search.best_params_)"
   ]
  },
  {
   "cell_type": "code",
   "execution_count": 44,
   "id": "25751ad3-4ed5-4d82-91b7-bca3d2986d10",
   "metadata": {},
   "outputs": [
    {
     "name": "stdout",
     "output_type": "stream",
     "text": [
      "0.12\n"
     ]
    }
   ],
   "source": [
    "rnd_search_predictions = rnd_search.predict(preprocessed_X_train)\n",
    "rnd_mae = mean_absolute_error(y_train_reg, gb_reg_predictions)\n",
    "print(round(rnd_mae, 2))"
   ]
  },
  {
   "cell_type": "code",
   "execution_count": 45,
   "id": "c7d4179c-ac33-441f-a8f1-13806a476c89",
   "metadata": {},
   "outputs": [
    {
     "name": "stdout",
     "output_type": "stream",
     "text": [
      "Mean: 0.26\n",
      "Scores: [0.27 0.25 0.25 0.22 0.28 0.23 0.28 0.31 0.29 0.25]\n",
      "Standard deviation: 0.03\n"
     ]
    }
   ],
   "source": [
    "rnd_scores = cross_val_score(rnd_search, preprocessed_X_train, y_train_reg, n_jobs=-1, scoring=\"neg_mean_squared_error\", cv=10)\n",
    "rnd_rmse_scores = np.sqrt(-rnd_scores)\n",
    "display_scores(rnd_rmse_scores)"
   ]
  },
  {
   "cell_type": "markdown",
   "id": "2468a779-902a-43f7-84c0-5c7d36333949",
   "metadata": {},
   "source": [
    "|Model|RMSE|MAE| \n",
    "| --- | --- | --- |\n",
    "|Linear Regression| 0.39 | 0.19 |\n",
    "|K-nearest Neighbour|0.34|0\n",
    "|Decision Tree|0.28|0.16\n",
    "|Random Forest|0.25|0.07\n",
    "|XGBoost|0.33|0.21\n",
    "|Gradient Boost|0.26|0.12\n",
    "|Finetuned Gradient Boost|0.26|0.12"
   ]
  },
  {
   "cell_type": "markdown",
   "id": "ea473d81-1df4-4b4d-9da6-f97746953316",
   "metadata": {},
   "source": [
    "#### 7. Neural Network"
   ]
  },
  {
   "cell_type": "code",
   "execution_count": 46,
   "id": "c68bca79-f03f-49f1-b7cf-2dc16090d66c",
   "metadata": {},
   "outputs": [
    {
     "name": "stdout",
     "output_type": "stream",
     "text": [
      "Epoch 1/50\n",
      "11/11 [==============================] - 1s 15ms/step - loss: 1283.2484 - mae: 35.8039 - val_loss: 1188.5688 - val_mae: 34.4312\n",
      "Epoch 2/50\n",
      "11/11 [==============================] - 0s 3ms/step - loss: 1122.6860 - mae: 33.3965 - val_loss: 1017.6412 - val_mae: 31.6936\n",
      "Epoch 3/50\n",
      "11/11 [==============================] - 0s 3ms/step - loss: 948.3980 - mae: 30.4207 - val_loss: 836.3958 - val_mae: 28.2969\n",
      "Epoch 4/50\n",
      "11/11 [==============================] - 0s 3ms/step - loss: 771.2151 - mae: 26.9356 - val_loss: 664.6614 - val_mae: 24.7298\n",
      "Epoch 5/50\n",
      "11/11 [==============================] - 0s 3ms/step - loss: 614.3752 - mae: 23.4462 - val_loss: 529.6434 - val_mae: 21.5110\n",
      "Epoch 6/50\n",
      "11/11 [==============================] - 0s 3ms/step - loss: 495.1150 - mae: 20.5668 - val_loss: 443.1170 - val_mae: 19.0379\n",
      "Epoch 7/50\n",
      "11/11 [==============================] - 0s 3ms/step - loss: 427.2427 - mae: 18.6790 - val_loss: 412.2758 - val_mae: 18.1775\n",
      "Epoch 8/50\n",
      "11/11 [==============================] - 0s 3ms/step - loss: 385.5988 - mae: 17.7173 - val_loss: 374.2398 - val_mae: 16.7960\n",
      "Epoch 9/50\n",
      "11/11 [==============================] - 0s 3ms/step - loss: 343.8944 - mae: 16.5550 - val_loss: 336.4825 - val_mae: 15.5894\n",
      "Epoch 10/50\n",
      "11/11 [==============================] - 0s 3ms/step - loss: 297.7238 - mae: 15.2840 - val_loss: 279.8363 - val_mae: 14.6161\n",
      "Epoch 11/50\n",
      "11/11 [==============================] - 0s 3ms/step - loss: 249.9928 - mae: 14.0120 - val_loss: 241.3438 - val_mae: 12.9988\n",
      "Epoch 12/50\n",
      "11/11 [==============================] - 0s 3ms/step - loss: 200.0362 - mae: 12.3570 - val_loss: 185.9915 - val_mae: 11.2399\n",
      "Epoch 13/50\n",
      "11/11 [==============================] - 0s 3ms/step - loss: 149.9207 - mae: 10.5367 - val_loss: 137.0341 - val_mae: 9.4473\n",
      "Epoch 14/50\n",
      "11/11 [==============================] - 0s 4ms/step - loss: 104.7539 - mae: 8.5666 - val_loss: 96.3341 - val_mae: 8.0501\n",
      "Epoch 15/50\n",
      "11/11 [==============================] - 0s 3ms/step - loss: 68.6330 - mae: 6.8445 - val_loss: 62.9307 - val_mae: 6.3126\n",
      "Epoch 16/50\n",
      "11/11 [==============================] - 0s 3ms/step - loss: 42.6115 - mae: 5.1841 - val_loss: 41.2833 - val_mae: 4.7551\n",
      "Epoch 17/50\n",
      "11/11 [==============================] - 0s 4ms/step - loss: 26.3772 - mae: 3.9604 - val_loss: 24.7797 - val_mae: 3.7307\n",
      "Epoch 18/50\n",
      "11/11 [==============================] - 0s 3ms/step - loss: 17.3685 - mae: 3.1088 - val_loss: 15.2727 - val_mae: 2.8774\n",
      "Epoch 19/50\n",
      "11/11 [==============================] - 0s 3ms/step - loss: 11.4041 - mae: 2.5014 - val_loss: 10.6916 - val_mae: 2.3784\n",
      "Epoch 20/50\n",
      "11/11 [==============================] - 0s 3ms/step - loss: 8.1584 - mae: 2.0990 - val_loss: 6.6653 - val_mae: 1.8697\n",
      "Epoch 21/50\n",
      "11/11 [==============================] - 0s 3ms/step - loss: 6.1064 - mae: 1.7742 - val_loss: 7.0130 - val_mae: 1.9867\n",
      "Epoch 22/50\n",
      "11/11 [==============================] - 0s 3ms/step - loss: 4.4448 - mae: 1.5084 - val_loss: 5.9662 - val_mae: 1.8278\n",
      "Epoch 23/50\n",
      "11/11 [==============================] - 0s 3ms/step - loss: 3.5982 - mae: 1.3694 - val_loss: 3.5670 - val_mae: 1.3930\n",
      "Epoch 24/50\n",
      "11/11 [==============================] - 0s 3ms/step - loss: 2.8650 - mae: 1.1957 - val_loss: 2.5914 - val_mae: 1.1177\n",
      "Epoch 25/50\n",
      "11/11 [==============================] - 0s 3ms/step - loss: 2.6172 - mae: 1.1586 - val_loss: 2.2272 - val_mae: 1.0350\n",
      "Epoch 26/50\n",
      "11/11 [==============================] - 0s 3ms/step - loss: 2.0354 - mae: 1.0036 - val_loss: 2.3855 - val_mae: 1.1375\n",
      "Epoch 27/50\n",
      "11/11 [==============================] - 0s 3ms/step - loss: 1.7856 - mae: 0.9624 - val_loss: 2.4280 - val_mae: 1.1319\n",
      "Epoch 28/50\n",
      "11/11 [==============================] - 0s 4ms/step - loss: 1.8157 - mae: 0.9522 - val_loss: 1.5173 - val_mae: 0.9177\n",
      "Epoch 29/50\n",
      "11/11 [==============================] - 0s 4ms/step - loss: 1.3492 - mae: 0.8434 - val_loss: 2.5713 - val_mae: 1.1091\n",
      "Epoch 30/50\n",
      "11/11 [==============================] - 0s 3ms/step - loss: 1.4059 - mae: 0.8594 - val_loss: 1.4118 - val_mae: 0.8203\n",
      "Epoch 31/50\n",
      "11/11 [==============================] - 0s 3ms/step - loss: 1.2107 - mae: 0.8122 - val_loss: 2.0491 - val_mae: 0.9541\n",
      "Epoch 32/50\n",
      "11/11 [==============================] - 0s 3ms/step - loss: 1.1236 - mae: 0.7617 - val_loss: 1.1229 - val_mae: 0.7814\n",
      "Epoch 33/50\n",
      "11/11 [==============================] - 0s 3ms/step - loss: 0.9981 - mae: 0.7332 - val_loss: 0.9588 - val_mae: 0.6679\n",
      "Epoch 34/50\n",
      "11/11 [==============================] - 0s 3ms/step - loss: 1.2215 - mae: 0.8026 - val_loss: 1.5713 - val_mae: 0.9247\n",
      "Epoch 35/50\n",
      "11/11 [==============================] - 0s 3ms/step - loss: 0.8871 - mae: 0.6485 - val_loss: 1.0730 - val_mae: 0.7805\n",
      "Epoch 36/50\n",
      "11/11 [==============================] - 0s 3ms/step - loss: 1.1418 - mae: 0.7671 - val_loss: 2.1094 - val_mae: 1.0828\n",
      "Epoch 37/50\n",
      "11/11 [==============================] - 0s 3ms/step - loss: 0.6006 - mae: 0.5717 - val_loss: 0.8928 - val_mae: 0.6517\n",
      "Epoch 38/50\n",
      "11/11 [==============================] - 0s 3ms/step - loss: 0.7342 - mae: 0.6357 - val_loss: 4.1313 - val_mae: 1.5142\n",
      "Epoch 39/50\n",
      "11/11 [==============================] - 0s 3ms/step - loss: 0.7672 - mae: 0.6142 - val_loss: 0.8427 - val_mae: 0.6685\n",
      "Epoch 40/50\n",
      "11/11 [==============================] - 0s 3ms/step - loss: 0.6859 - mae: 0.6157 - val_loss: 1.2745 - val_mae: 0.8958\n",
      "Epoch 41/50\n",
      "11/11 [==============================] - 0s 3ms/step - loss: 0.8771 - mae: 0.6497 - val_loss: 1.1723 - val_mae: 0.8878\n",
      "Epoch 42/50\n",
      "11/11 [==============================] - 0s 3ms/step - loss: 0.7566 - mae: 0.6278 - val_loss: 0.5931 - val_mae: 0.5712\n",
      "Epoch 43/50\n",
      "11/11 [==============================] - 0s 3ms/step - loss: 0.8724 - mae: 0.6791 - val_loss: 0.5931 - val_mae: 0.5390\n",
      "Epoch 44/50\n",
      "11/11 [==============================] - 0s 3ms/step - loss: 0.4053 - mae: 0.4724 - val_loss: 1.8681 - val_mae: 0.9992\n",
      "Epoch 45/50\n",
      "11/11 [==============================] - 0s 3ms/step - loss: 0.8660 - mae: 0.6221 - val_loss: 0.7345 - val_mae: 0.6845\n",
      "Epoch 46/50\n",
      "11/11 [==============================] - 0s 3ms/step - loss: 0.5812 - mae: 0.5632 - val_loss: 0.8737 - val_mae: 0.7458\n",
      "Epoch 47/50\n",
      "11/11 [==============================] - 0s 3ms/step - loss: 0.6858 - mae: 0.5901 - val_loss: 1.1115 - val_mae: 0.7139\n",
      "Epoch 48/50\n",
      "11/11 [==============================] - 0s 3ms/step - loss: 0.5097 - mae: 0.5472 - val_loss: 1.2726 - val_mae: 0.8788\n",
      "Epoch 49/50\n",
      "11/11 [==============================] - 0s 4ms/step - loss: 0.6797 - mae: 0.5991 - val_loss: 0.6192 - val_mae: 0.6093\n",
      "Epoch 50/50\n",
      "11/11 [==============================] - 0s 3ms/step - loss: 0.4881 - mae: 0.5002 - val_loss: 1.7856 - val_mae: 0.9510\n"
     ]
    }
   ],
   "source": [
    "import tensorflow as tf\n",
    "\n",
    "def build_reg_model():\n",
    "    reg_model = tf.keras.models.Sequential()\n",
    "    reg_model.add(tf.keras.layers.Dense(64, activation='relu', input_shape=(preprocessed_X_train.shape[1],)))\n",
    "    reg_model.add(tf.keras.layers.Dense(32, activation='relu'))\n",
    "    reg_model.add(tf.keras.layers.Dense(1))\n",
    "    reg_model.compile(\n",
    "        optimizer='rmsprop',\n",
    "        loss='mean_squared_error',\n",
    "        metrics=['mae'])\n",
    "    return reg_model\n",
    "\n",
    "def train_model(reg_model):\n",
    "    history = reg_model.fit(preprocessed_X_train, y_train_reg, epochs=50, batch_size=64, validation_split=0.2)\n",
    "    return history\n",
    "\n",
    "reg_model = build_reg_model()\n",
    "history = train_model(reg_model)"
   ]
  },
  {
   "cell_type": "code",
   "execution_count": 53,
   "id": "7d504906-e283-4a36-9f1a-8cc4b1c2f6ed",
   "metadata": {},
   "outputs": [
    {
     "name": "stdout",
     "output_type": "stream",
     "text": [
      "[35.1310920715332, 31.928741455078125, 28.162172317504883, 24.437183380126953, 21.1909236907959, 18.718772888183594, 16.93651008605957, 15.477943420410156, 13.922677993774414, 12.133501052856445, 10.229660034179688, 8.296262741088867, 6.404357433319092, 4.783324718475342, 3.4627010822296143, 2.7730441093444824, 2.3231916427612305, 2.065319538116455, 1.843589186668396, 1.6612844467163086, 1.554192066192627, 1.3914355039596558, 1.3442494869232178, 1.228460431098938, 1.1499727964401245, 1.1569894552230835, 1.0661704540252686, 1.0318658351898193, 0.9946366548538208, 1.0703208446502686, 0.8303524851799011, 0.9310629367828369, 0.9475102424621582, 0.7600771188735962, 0.7785393595695496, 0.872438371181488, 0.7234257459640503, 0.7804140448570251, 0.7433257699012756, 0.6530493497848511, 0.8313597440719604, 0.6303205490112305, 0.6775476932525635, 0.7199714779853821, 0.6330408453941345, 0.6571311950683594, 0.7034947872161865, 0.6475878953933716, 0.6474498510360718, 0.6780005693435669]\n",
      "[33.515625, 29.948808670043945, 25.750871658325195, 21.998817443847656, 19.140047073364258, 17.307218551635742, 15.911141395568848, 14.357606887817383, 12.62937068939209, 10.664073944091797, 8.952134132385254, 7.335507869720459, 5.529601573944092, 4.02486515045166, 3.2697055339813232, 2.8511252403259277, 2.525810718536377, 2.373586416244507, 2.0194454193115234, 1.7878882884979248, 1.8811969757080078, 2.1498799324035645, 1.8410272598266602, 1.694253921508789, 1.3082247972488403, 1.2405433654785156, 1.6547785997390747, 1.3232908248901367, 1.0349990129470825, 1.030263066291809, 1.0898675918579102, 1.0963099002838135, 1.049539566040039, 0.9230465888977051, 1.0835000276565552, 0.8846057653427124, 1.0622522830963135, 0.8097212910652161, 0.7942443490028381, 0.885100781917572, 0.7051032781600952, 0.9002206325531006, 0.9139789342880249, 0.7440204620361328, 0.7475888133049011, 1.017884612083435, 0.6844613552093506, 0.7812345623970032, 0.9358620047569275, 0.6139895915985107]\n"
     ]
    }
   ],
   "source": [
    "acc = history.history['mae']\n",
    "print(acc)\n",
    "val_acc = history.history['val_mae']\n",
    "print(val_acc)"
   ]
  },
  {
   "cell_type": "code",
   "execution_count": 47,
   "id": "394dc063-4c79-4ac4-8a0d-04bcf5d99126",
   "metadata": {},
   "outputs": [
    {
     "name": "stdout",
     "output_type": "stream",
     "text": [
      "26/26 [==============================] - 0s 680us/step\n",
      "1.059686462472813\n"
     ]
    }
   ],
   "source": [
    "from sklearn.metrics import mean_squared_error\n",
    "nn_prediction = reg_model.predict(preprocessed_X_train)\n",
    "mse = mean_squared_error(y_train_reg['aveOralF'], nn_prediction)\n",
    "rmse = np.sqrt(mse)\n",
    "print(rmse)"
   ]
  },
  {
   "cell_type": "markdown",
   "id": "f3550b5f-8ffd-475e-b71c-9f3e2fa8333f",
   "metadata": {},
   "source": [
    "|Model|RMSE|MAE| \n",
    "| --- | --- | --- |\n",
    "|Linear Regression| 0.39 | 0.19 |\n",
    "|K-nearest Neighbour|0.34|0\n",
    "|Decision Tree|0.28|0.16\n",
    "|Random Forest|0.25|0.07\n",
    "|XGBoost|0.33|0.21\n",
    "|Gradient Boost|0.26|0.12\n",
    "|Finetuned Gradient Boost|0.26|0.12\n",
    "|Neural Network|0.66|0.67"
   ]
  },
  {
   "cell_type": "markdown",
   "id": "d6f96f03-cb0f-410d-b4d6-17170b946abf",
   "metadata": {},
   "source": [
    "Finally, to introduce a diverse set of predictions and enhance the model's overall performance, we combined the three most effective models—a finely-tuned Gradient Boosting Regressor, a Linear Regressor, and a XGBoost Regressor into a unified ensemble via a Voting Regressor. This strategic combination aims to leverage the strengths of each individual model, culminating in a robust and versatile final regressor."
   ]
  },
  {
   "cell_type": "markdown",
   "id": "f9415a16-7d69-4c23-b806-a940324c28c7",
   "metadata": {},
   "source": [
    "#### 8. Ensemble the model: Multi-output voting Regressor"
   ]
  },
  {
   "cell_type": "code",
   "execution_count": 48,
   "id": "c2feb12a-0272-48f8-a08a-ef1b3d908b20",
   "metadata": {},
   "outputs": [
    {
     "data": {
      "text/plain": [
       "<__main__.MultiOutputVotingRegressor at 0x1628cf439a0>"
      ]
     },
     "execution_count": 48,
     "metadata": {},
     "output_type": "execute_result"
    }
   ],
   "source": [
    "class MultiOutputVotingRegressor:\n",
    "    def __init__(self, estimators):\n",
    "        self.estimators = estimators\n",
    "\n",
    "    def fit(self, X, y):\n",
    "        for estimator in self.estimators:\n",
    "            estimator.fit(X, y)\n",
    "        return self\n",
    "\n",
    "    def predict(self, X):\n",
    "        predictions = np.array([estimator.predict(X) for estimator in self.estimators])\n",
    "        avg_predictions = np.mean(predictions, axis=0)\n",
    "        return avg_predictions\n",
    "\n",
    "    def get_params(self, deep=True):\n",
    "        return {'estimators': self.estimators}\n",
    "\n",
    "    def set_params(self, **parameters):\n",
    "        for parameter, value in parameters.items():\n",
    "            setattr(self, parameter, value)\n",
    "        return self\n",
    "\n",
    "\n",
    "multi_output_voting_regressor = MultiOutputVotingRegressor(estimators=[rnd_search, lin_reg, xgb_reg])\n",
    "multi_output_voting_regressor.fit(preprocessed_X_train, y_train_reg) "
   ]
  },
  {
   "cell_type": "code",
   "execution_count": 55,
   "id": "d4515f7b-a6d8-40cd-9765-691ab440073f",
   "metadata": {
    "scrolled": true
   },
   "outputs": [
    {
     "name": "stdout",
     "output_type": "stream",
     "text": [
      "Mean: 0.32\n",
      "Scores: [0.44 0.27 0.27]\n",
      "Standard deviation: 0.08\n"
     ]
    }
   ],
   "source": [
    "ens_scores = cross_val_score(multi_output_voting_regressor, preprocessed_X_train, y_train_reg, n_jobs=-1, scoring=\"neg_mean_squared_error\", cv=3)\n",
    "ens_rmse_scores = np.sqrt(-ens_scores)\n",
    "display_scores(ens_rmse_scores)"
   ]
  },
  {
   "cell_type": "code",
   "execution_count": 49,
   "id": "1d01d2c5-99c5-41f8-b3cc-6fa547f1ad0c",
   "metadata": {},
   "outputs": [
    {
     "name": "stdout",
     "output_type": "stream",
     "text": [
      "0.12\n"
     ]
    }
   ],
   "source": [
    "multi_predictions = multi_output_voting_regressor.predict(preprocessed_X_train)\n",
    "multi_mae = mean_absolute_error(y_train_reg, multi_predictions)\n",
    "print(round(multi_mae, 2))"
   ]
  },
  {
   "cell_type": "markdown",
   "id": "3c2e9288-d42e-469f-8627-ccfa62ae31c9",
   "metadata": {},
   "source": [
    "|Model|RMSE|MAE| \n",
    "| --- | --- | --- |\n",
    "|Linear Regression| 0.39 | 0.19 |\n",
    "|K-nearest Neighbour|0.34|0\n",
    "|Decision Tree|0.28|0.16\n",
    "|Random Forest|0.25|0.07\n",
    "|XGBoost|0.33|0.21\n",
    "|Gradient Boost|0.26|0.12\n",
    "|Finetuned Gradient Boost|0.26|0.12\n",
    "|Neural Network|0.66|0.67\n",
    "|Multi-output Voting Regressor|0.32|0.12"
   ]
  },
  {
   "cell_type": "markdown",
   "id": "28d53c7d-8446-4c4e-a435-cabeeb43d4f0",
   "metadata": {},
   "source": [
    "### 5.2 Train a binary classifer"
   ]
  },
  {
   "cell_type": "markdown",
   "id": "6da1c3c5-ed23-4e10-946a-c8a6444eba1a",
   "metadata": {},
   "source": [
    "In our binary classification task, we aim to distinguish between individuals with and without fever based on labeled target values. Similar to our approach in the regression task, we will **evaluate various models to identify the most effective solution**. Once the optimal model is determined, we will proceed to **finetune it for enhanced performance**. The final step involves **assembling the top-performing models into an ensemble**, thereby constructing a robust predictive framework capable of accurately classifying fever cases."
   ]
  },
  {
   "cell_type": "code",
   "execution_count": 50,
   "id": "18f3fc3f-56a5-4ed5-bb5f-537d80700a23",
   "metadata": {},
   "outputs": [],
   "source": [
    "from sklearn.metrics import accuracy_score, precision_score, recall_score, f1_score\n",
    "from sklearn.model_selection import cross_val_predict\n",
    "def scores(y_train, predictions):\n",
    "    print(\"Accuracy:\", round(accuracy_score(y_train, predictions), 2))\n",
    "    print(\"Precision:\", round(precision_score(y_train, predictions), 2))\n",
    "    print(\"Recall:\", round(recall_score(y_train, predictions), 2))\n",
    "    print(\"F1:\", round(f1_score(y_train, predictions), 2))"
   ]
  },
  {
   "cell_type": "markdown",
   "id": "dd33bac9-867d-440c-b644-7fe72bc25c74",
   "metadata": {},
   "source": [
    "- Use Precision to minimizing false positives: High precision is crucial in this situation where the consequence of a false positive (such as unnecessary treatment or anxiety) is significant.\n",
    "- Public health concerns: In outbreaks or screening programs, a high recall rate ensures that most individuals with the condition are identified, even at the expense of some false positives.\n",
    "- The F1 is useful in medical diagnostics where both false negatives and false positives carry significant consequences."
   ]
  },
  {
   "cell_type": "markdown",
   "id": "5ed18a88-c5ce-4168-86d1-8eb24c7bb998",
   "metadata": {},
   "source": [
    "#### 1. Stochastic Gradient Descend Classiffier"
   ]
  },
  {
   "cell_type": "code",
   "execution_count": 51,
   "id": "bc663c6e-c3c3-4afe-a948-97dea4cf3e64",
   "metadata": {},
   "outputs": [
    {
     "data": {
      "text/html": [
       "<style>#sk-container-id-8 {color: black;}#sk-container-id-8 pre{padding: 0;}#sk-container-id-8 div.sk-toggleable {background-color: white;}#sk-container-id-8 label.sk-toggleable__label {cursor: pointer;display: block;width: 100%;margin-bottom: 0;padding: 0.3em;box-sizing: border-box;text-align: center;}#sk-container-id-8 label.sk-toggleable__label-arrow:before {content: \"▸\";float: left;margin-right: 0.25em;color: #696969;}#sk-container-id-8 label.sk-toggleable__label-arrow:hover:before {color: black;}#sk-container-id-8 div.sk-estimator:hover label.sk-toggleable__label-arrow:before {color: black;}#sk-container-id-8 div.sk-toggleable__content {max-height: 0;max-width: 0;overflow: hidden;text-align: left;background-color: #f0f8ff;}#sk-container-id-8 div.sk-toggleable__content pre {margin: 0.2em;color: black;border-radius: 0.25em;background-color: #f0f8ff;}#sk-container-id-8 input.sk-toggleable__control:checked~div.sk-toggleable__content {max-height: 200px;max-width: 100%;overflow: auto;}#sk-container-id-8 input.sk-toggleable__control:checked~label.sk-toggleable__label-arrow:before {content: \"▾\";}#sk-container-id-8 div.sk-estimator input.sk-toggleable__control:checked~label.sk-toggleable__label {background-color: #d4ebff;}#sk-container-id-8 div.sk-label input.sk-toggleable__control:checked~label.sk-toggleable__label {background-color: #d4ebff;}#sk-container-id-8 input.sk-hidden--visually {border: 0;clip: rect(1px 1px 1px 1px);clip: rect(1px, 1px, 1px, 1px);height: 1px;margin: -1px;overflow: hidden;padding: 0;position: absolute;width: 1px;}#sk-container-id-8 div.sk-estimator {font-family: monospace;background-color: #f0f8ff;border: 1px dotted black;border-radius: 0.25em;box-sizing: border-box;margin-bottom: 0.5em;}#sk-container-id-8 div.sk-estimator:hover {background-color: #d4ebff;}#sk-container-id-8 div.sk-parallel-item::after {content: \"\";width: 100%;border-bottom: 1px solid gray;flex-grow: 1;}#sk-container-id-8 div.sk-label:hover label.sk-toggleable__label {background-color: #d4ebff;}#sk-container-id-8 div.sk-serial::before {content: \"\";position: absolute;border-left: 1px solid gray;box-sizing: border-box;top: 0;bottom: 0;left: 50%;z-index: 0;}#sk-container-id-8 div.sk-serial {display: flex;flex-direction: column;align-items: center;background-color: white;padding-right: 0.2em;padding-left: 0.2em;position: relative;}#sk-container-id-8 div.sk-item {position: relative;z-index: 1;}#sk-container-id-8 div.sk-parallel {display: flex;align-items: stretch;justify-content: center;background-color: white;position: relative;}#sk-container-id-8 div.sk-item::before, #sk-container-id-8 div.sk-parallel-item::before {content: \"\";position: absolute;border-left: 1px solid gray;box-sizing: border-box;top: 0;bottom: 0;left: 50%;z-index: -1;}#sk-container-id-8 div.sk-parallel-item {display: flex;flex-direction: column;z-index: 1;position: relative;background-color: white;}#sk-container-id-8 div.sk-parallel-item:first-child::after {align-self: flex-end;width: 50%;}#sk-container-id-8 div.sk-parallel-item:last-child::after {align-self: flex-start;width: 50%;}#sk-container-id-8 div.sk-parallel-item:only-child::after {width: 0;}#sk-container-id-8 div.sk-dashed-wrapped {border: 1px dashed gray;margin: 0 0.4em 0.5em 0.4em;box-sizing: border-box;padding-bottom: 0.4em;background-color: white;}#sk-container-id-8 div.sk-label label {font-family: monospace;font-weight: bold;display: inline-block;line-height: 1.2em;}#sk-container-id-8 div.sk-label-container {text-align: center;}#sk-container-id-8 div.sk-container {/* jupyter's `normalize.less` sets `[hidden] { display: none; }` but bootstrap.min.css set `[hidden] { display: none !important; }` so we also need the `!important` here to be able to override the default hidden behavior on the sphinx rendered scikit-learn.org. See: https://github.com/scikit-learn/scikit-learn/issues/21755 */display: inline-block !important;position: relative;}#sk-container-id-8 div.sk-text-repr-fallback {display: none;}</style><div id=\"sk-container-id-8\" class=\"sk-top-container\"><div class=\"sk-text-repr-fallback\"><pre>SGDClassifier(random_state=42)</pre><b>In a Jupyter environment, please rerun this cell to show the HTML representation or trust the notebook. <br />On GitHub, the HTML representation is unable to render, please try loading this page with nbviewer.org.</b></div><div class=\"sk-container\" hidden><div class=\"sk-item\"><div class=\"sk-estimator sk-toggleable\"><input class=\"sk-toggleable__control sk-hidden--visually\" id=\"sk-estimator-id-10\" type=\"checkbox\" checked><label for=\"sk-estimator-id-10\" class=\"sk-toggleable__label sk-toggleable__label-arrow\">SGDClassifier</label><div class=\"sk-toggleable__content\"><pre>SGDClassifier(random_state=42)</pre></div></div></div></div></div>"
      ],
      "text/plain": [
       "SGDClassifier(random_state=42)"
      ]
     },
     "execution_count": 51,
     "metadata": {},
     "output_type": "execute_result"
    }
   ],
   "source": [
    "from sklearn.linear_model import SGDClassifier\n",
    "\n",
    "sgd_clf_F= SGDClassifier(max_iter=1000, tol=1e-3, random_state=42)\n",
    "sgd_clf_F.fit(preprocessed_X_train, y_train_feverF)\n"
   ]
  },
  {
   "cell_type": "code",
   "execution_count": 27,
   "id": "a074b872-cb0e-44da-b86f-91b4d4619762",
   "metadata": {},
   "outputs": [
    {
     "name": "stdout",
     "output_type": "stream",
     "text": [
      "Accuracy: 0.97\n",
      "Precision: 0.81\n",
      "Recall: 0.67\n",
      "F1: 0.74\n"
     ]
    }
   ],
   "source": [
    "cross_val_score(sgd_clf_F, preprocessed_X_train, y_train_feverF, cv=3, n_jobs=-1, scoring=\"accuracy\")\n",
    "predictions = sgd_clf_F.predict(preprocessed_X_train)\n",
    "scores(y_train_feverF, predictions)"
   ]
  },
  {
   "cell_type": "markdown",
   "id": "96c15c83-085e-44ae-96d1-daa121af1ff7",
   "metadata": {},
   "source": [
    "|Classifier for Fast Mode|Accurary|Precision|Recall|F1\n",
    "| --- | --- | --- | --- | --- |\n",
    "|Stochastic Gradient Descend| 0.97 | 0.81 | 0.67 | 0.74"
   ]
  },
  {
   "cell_type": "code",
   "execution_count": 52,
   "id": "e4651278-e8df-4cae-9f09-01a280d18b6e",
   "metadata": {},
   "outputs": [
    {
     "data": {
      "text/html": [
       "<style>#sk-container-id-9 {color: black;}#sk-container-id-9 pre{padding: 0;}#sk-container-id-9 div.sk-toggleable {background-color: white;}#sk-container-id-9 label.sk-toggleable__label {cursor: pointer;display: block;width: 100%;margin-bottom: 0;padding: 0.3em;box-sizing: border-box;text-align: center;}#sk-container-id-9 label.sk-toggleable__label-arrow:before {content: \"▸\";float: left;margin-right: 0.25em;color: #696969;}#sk-container-id-9 label.sk-toggleable__label-arrow:hover:before {color: black;}#sk-container-id-9 div.sk-estimator:hover label.sk-toggleable__label-arrow:before {color: black;}#sk-container-id-9 div.sk-toggleable__content {max-height: 0;max-width: 0;overflow: hidden;text-align: left;background-color: #f0f8ff;}#sk-container-id-9 div.sk-toggleable__content pre {margin: 0.2em;color: black;border-radius: 0.25em;background-color: #f0f8ff;}#sk-container-id-9 input.sk-toggleable__control:checked~div.sk-toggleable__content {max-height: 200px;max-width: 100%;overflow: auto;}#sk-container-id-9 input.sk-toggleable__control:checked~label.sk-toggleable__label-arrow:before {content: \"▾\";}#sk-container-id-9 div.sk-estimator input.sk-toggleable__control:checked~label.sk-toggleable__label {background-color: #d4ebff;}#sk-container-id-9 div.sk-label input.sk-toggleable__control:checked~label.sk-toggleable__label {background-color: #d4ebff;}#sk-container-id-9 input.sk-hidden--visually {border: 0;clip: rect(1px 1px 1px 1px);clip: rect(1px, 1px, 1px, 1px);height: 1px;margin: -1px;overflow: hidden;padding: 0;position: absolute;width: 1px;}#sk-container-id-9 div.sk-estimator {font-family: monospace;background-color: #f0f8ff;border: 1px dotted black;border-radius: 0.25em;box-sizing: border-box;margin-bottom: 0.5em;}#sk-container-id-9 div.sk-estimator:hover {background-color: #d4ebff;}#sk-container-id-9 div.sk-parallel-item::after {content: \"\";width: 100%;border-bottom: 1px solid gray;flex-grow: 1;}#sk-container-id-9 div.sk-label:hover label.sk-toggleable__label {background-color: #d4ebff;}#sk-container-id-9 div.sk-serial::before {content: \"\";position: absolute;border-left: 1px solid gray;box-sizing: border-box;top: 0;bottom: 0;left: 50%;z-index: 0;}#sk-container-id-9 div.sk-serial {display: flex;flex-direction: column;align-items: center;background-color: white;padding-right: 0.2em;padding-left: 0.2em;position: relative;}#sk-container-id-9 div.sk-item {position: relative;z-index: 1;}#sk-container-id-9 div.sk-parallel {display: flex;align-items: stretch;justify-content: center;background-color: white;position: relative;}#sk-container-id-9 div.sk-item::before, #sk-container-id-9 div.sk-parallel-item::before {content: \"\";position: absolute;border-left: 1px solid gray;box-sizing: border-box;top: 0;bottom: 0;left: 50%;z-index: -1;}#sk-container-id-9 div.sk-parallel-item {display: flex;flex-direction: column;z-index: 1;position: relative;background-color: white;}#sk-container-id-9 div.sk-parallel-item:first-child::after {align-self: flex-end;width: 50%;}#sk-container-id-9 div.sk-parallel-item:last-child::after {align-self: flex-start;width: 50%;}#sk-container-id-9 div.sk-parallel-item:only-child::after {width: 0;}#sk-container-id-9 div.sk-dashed-wrapped {border: 1px dashed gray;margin: 0 0.4em 0.5em 0.4em;box-sizing: border-box;padding-bottom: 0.4em;background-color: white;}#sk-container-id-9 div.sk-label label {font-family: monospace;font-weight: bold;display: inline-block;line-height: 1.2em;}#sk-container-id-9 div.sk-label-container {text-align: center;}#sk-container-id-9 div.sk-container {/* jupyter's `normalize.less` sets `[hidden] { display: none; }` but bootstrap.min.css set `[hidden] { display: none !important; }` so we also need the `!important` here to be able to override the default hidden behavior on the sphinx rendered scikit-learn.org. See: https://github.com/scikit-learn/scikit-learn/issues/21755 */display: inline-block !important;position: relative;}#sk-container-id-9 div.sk-text-repr-fallback {display: none;}</style><div id=\"sk-container-id-9\" class=\"sk-top-container\"><div class=\"sk-text-repr-fallback\"><pre>SGDClassifier(random_state=42)</pre><b>In a Jupyter environment, please rerun this cell to show the HTML representation or trust the notebook. <br />On GitHub, the HTML representation is unable to render, please try loading this page with nbviewer.org.</b></div><div class=\"sk-container\" hidden><div class=\"sk-item\"><div class=\"sk-estimator sk-toggleable\"><input class=\"sk-toggleable__control sk-hidden--visually\" id=\"sk-estimator-id-11\" type=\"checkbox\" checked><label for=\"sk-estimator-id-11\" class=\"sk-toggleable__label sk-toggleable__label-arrow\">SGDClassifier</label><div class=\"sk-toggleable__content\"><pre>SGDClassifier(random_state=42)</pre></div></div></div></div></div>"
      ],
      "text/plain": [
       "SGDClassifier(random_state=42)"
      ]
     },
     "execution_count": 52,
     "metadata": {},
     "output_type": "execute_result"
    }
   ],
   "source": [
    "sgd_clf_M = SGDClassifier(max_iter=1000, tol=1e-3, random_state=42)\n",
    "sgd_clf_M.fit(preprocessed_X_train, y_train_feverM)"
   ]
  },
  {
   "cell_type": "code",
   "execution_count": 61,
   "id": "1242f3ac-128a-4ed0-876d-e17806b1b9c0",
   "metadata": {},
   "outputs": [
    {
     "name": "stdout",
     "output_type": "stream",
     "text": [
      "Accuracy: 0.97\n",
      "Precision: 0.87\n",
      "Recall: 0.83\n",
      "F1: 0.85\n"
     ]
    }
   ],
   "source": [
    "cross_val_score(sgd_clf_M, preprocessed_X_train, y_train_feverM, cv=3, n_jobs=-1, scoring=\"accuracy\")\n",
    "predictions = sgd_clf_M.predict(preprocessed_X_train)\n",
    "scores(y_train_feverM, predictions)"
   ]
  },
  {
   "cell_type": "markdown",
   "id": "4eb19ece-5275-48e5-b7dd-a047c0895292",
   "metadata": {},
   "source": [
    "|Classifier for Monitor Mode|Accurary|Precision|Recall|F1\n",
    "| --- | --- | --- | --- | --- |\n",
    "|Stochastic Gradient Descend| 0.97 | 0.87 | 0.83 | 0.85"
   ]
  },
  {
   "cell_type": "markdown",
   "id": "7bf79bb5-7629-46fc-be8e-9469e4287380",
   "metadata": {},
   "source": [
    "#### 2. Random Forest Classifier"
   ]
  },
  {
   "cell_type": "code",
   "execution_count": 53,
   "id": "2b1abf5e-8f33-4ffd-810b-11861cc91d89",
   "metadata": {},
   "outputs": [
    {
     "name": "stdout",
     "output_type": "stream",
     "text": [
      "Accuracy: 0.96\n",
      "Precision: 0.71\n",
      "Recall: 0.58\n",
      "F1: 0.64\n"
     ]
    }
   ],
   "source": [
    "from sklearn.ensemble import RandomForestClassifier\n",
    "\n",
    "forest_clf_F= RandomForestClassifier(n_estimators=100, random_state=42)\n",
    "forest_clf_F.fit(preprocessed_X_train, y_train_feverF)\n",
    "\n",
    "prediction = cross_val_predict(forest_clf_F, preprocessed_X_train, y_train_feverF, cv=3, n_jobs=-1, method=\"predict_proba\")\n",
    "predictions_binary = (prediction[:, 1] > 0.5).astype(int)\n",
    "scores(y_train_feverF, predictions_binary)"
   ]
  },
  {
   "cell_type": "markdown",
   "id": "7629efe2-ace4-4c3e-a909-9df14d1e82b1",
   "metadata": {},
   "source": [
    "|Classifier for Fast Mode|Accurary|Precision|Recall|F1\n",
    "| --- | --- | --- | --- | --- |\n",
    "|Stochastic Gradient Descend| 0.97 | 0.81 | 0.67 | 0.74\n",
    "|Random Forest| 0.96 | 0.71 | 0.58|0.64"
   ]
  },
  {
   "cell_type": "code",
   "execution_count": 54,
   "id": "6f0fa4c1-02c1-45b5-a9a4-d6b8c0dcf74f",
   "metadata": {},
   "outputs": [
    {
     "name": "stdout",
     "output_type": "stream",
     "text": [
      "Accuracy: 0.95\n",
      "Precision: 0.85\n",
      "Recall: 0.69\n",
      "F1: 0.76\n"
     ]
    }
   ],
   "source": [
    "forest_clf_M= RandomForestClassifier(n_estimators=100, random_state=42)\n",
    "forest_clf_M.fit(preprocessed_X_train, y_train_feverM)\n",
    "\n",
    "prediction = cross_val_predict(forest_clf_M, preprocessed_X_train, y_train_feverM, cv=3, n_jobs=-1, method=\"predict_proba\")\n",
    "predictions_binary = (prediction[:, 1] > 0.5).astype(int)\n",
    "scores(y_train_feverM, predictions_binary)"
   ]
  },
  {
   "cell_type": "markdown",
   "id": "42f9c281-bb7f-4a83-9a54-523930b81aad",
   "metadata": {},
   "source": [
    "|Classifier for Monitor Mode|Accurary|Precision|Recall|F1\n",
    "| --- | --- | --- | --- | --- |\n",
    "|Stochastic Gradient Descend| 0.97 | 0.87 | 0.83 | 0.85\n",
    "|Random Forest| 0.95| 0.85| 0.69|0.76"
   ]
  },
  {
   "cell_type": "markdown",
   "id": "bfba38a0-715e-4c7f-81a9-63bb025e23f5",
   "metadata": {},
   "source": [
    "#### 3. Decision Tree Classifier"
   ]
  },
  {
   "cell_type": "code",
   "execution_count": 55,
   "id": "f1a55522-afc4-46d7-8412-0a1a5f3aaf13",
   "metadata": {},
   "outputs": [
    {
     "name": "stdout",
     "output_type": "stream",
     "text": [
      "Accuracy: 0.95\n",
      "Precision: 0.63\n",
      "Recall: 0.46\n",
      "F1: 0.53\n"
     ]
    }
   ],
   "source": [
    "# decision tree\n",
    "from sklearn.tree import DecisionTreeClassifier\n",
    "\n",
    "dt_clf_F = DecisionTreeClassifier(max_depth=3, random_state=42)\n",
    "dt_clf_F.fit(preprocessed_X_train, y_train_feverF)\n",
    "\n",
    "prediction = cross_val_predict(dt_clf_F, preprocessed_X_train, y_train_feverF, cv=3, n_jobs=-1, method=\"predict_proba\")\n",
    "predictions_binary = (prediction[:, 1] > 0.5).astype(int)\n",
    "scores(y_train_feverF, predictions_binary)"
   ]
  },
  {
   "cell_type": "markdown",
   "id": "ae51b113-152f-4dca-9be5-ec4df8b57de1",
   "metadata": {},
   "source": [
    "|Classifier for Fast Mode|Accurary|Precision|Recall|F1\n",
    "| --- | --- | --- | --- | --- |\n",
    "|Stochastic Gradient Descend| 0.97 | 0.81 | 0.67 | 0.74\n",
    "|Random Forest| 0.96 | 0.71 | 0.58|0.64\n",
    "|Decision Tree| 0.95 | 0.63 | 0.46| 0.53"
   ]
  },
  {
   "cell_type": "code",
   "execution_count": 56,
   "id": "474d4ddc-8df8-44a0-a93e-9cbca8596c26",
   "metadata": {},
   "outputs": [
    {
     "name": "stdout",
     "output_type": "stream",
     "text": [
      "Accuracy: 0.94\n",
      "Precision: 0.77\n",
      "Recall: 0.64\n",
      "F1: 0.7\n"
     ]
    }
   ],
   "source": [
    "dt_clf_M = DecisionTreeClassifier(max_depth=3, random_state=42)\n",
    "dt_clf_M.fit(preprocessed_X_train, y_train_feverM)\n",
    "\n",
    "prediction = cross_val_predict(dt_clf_M, preprocessed_X_train, y_train_feverM, cv=3, n_jobs=-1, method=\"predict_proba\")\n",
    "predictions_binary = (prediction[:, 1] > 0.5).astype(int)\n",
    "scores(y_train_feverM, predictions_binary)"
   ]
  },
  {
   "cell_type": "markdown",
   "id": "bbf2a434-a600-46fb-9a45-b118f5a18c78",
   "metadata": {},
   "source": [
    "|Classifier for Monitor Mode|Accurary|Precision|Recall|F1\n",
    "| --- | --- | --- | --- | --- |\n",
    "|Stochastic Gradient Descend| 0.97 | 0.87 | 0.83 | 0.85\n",
    "|Random Forest| 0.95| 0.85| 0.69|0.76\n",
    "|Decision Tree| 0.94 | 0.77 | 0.64 | 0.7"
   ]
  },
  {
   "cell_type": "markdown",
   "id": "ea0451b8-b47a-4924-9515-a54b7ce6aa73",
   "metadata": {},
   "source": [
    "#### 4. XGBoost Classifier"
   ]
  },
  {
   "cell_type": "code",
   "execution_count": 57,
   "id": "c09cadd7-744c-4f13-9551-96a4a06a6761",
   "metadata": {},
   "outputs": [
    {
     "name": "stdout",
     "output_type": "stream",
     "text": [
      "Accuracy: 0.96\n",
      "Precision: 0.72\n",
      "Recall: 0.6\n",
      "F1: 0.65\n"
     ]
    }
   ],
   "source": [
    "# XGboost\n",
    "\n",
    "xgb_clf_F = xgb.XGBClassifier()\n",
    "xgb_clf_F.fit(preprocessed_X_train, y_train_feverF)\n",
    "\n",
    "prediction = cross_val_predict(xgb_clf_F, preprocessed_X_train, y_train_feverF, cv=3, n_jobs=-1, method=\"predict_proba\")\n",
    "predictions_binary = (prediction[:, 1] > 0.5).astype(int)\n",
    "scores(y_train_feverF, predictions_binary)"
   ]
  },
  {
   "cell_type": "markdown",
   "id": "d353d09d-2822-4064-b2db-75f43c261d63",
   "metadata": {},
   "source": [
    "|Classifier for Fast Mode|Accurary|Precision|Recall|F1\n",
    "| --- | --- | --- | --- | --- |\n",
    "|Stochastic Gradient Descend| 0.97 | 0.81 | 0.67 | 0.74\n",
    "|Random Forest| 0.96 | 0.71 | 0.58|0.64\n",
    "|Decision Tree| 0.95 | 0.63 | 0.46| 0.53\n",
    "|XGBoost| 0.96 | 0.72 | 0.6|0.65"
   ]
  },
  {
   "cell_type": "code",
   "execution_count": 58,
   "id": "0b97f556-66b7-448f-b697-db2bb472f176",
   "metadata": {},
   "outputs": [
    {
     "name": "stdout",
     "output_type": "stream",
     "text": [
      "Accuracy: 0.94\n",
      "Precision: 0.93\n",
      "Recall: 0.46\n",
      "F1: 0.62\n"
     ]
    }
   ],
   "source": [
    "xgb_clf_M = xgb.XGBClassifier()\n",
    "xgb_clf_M.fit(preprocessed_X_train, y_train_feverM)\n",
    "\n",
    "prediction = cross_val_predict(xgb_clf_M, preprocessed_X_train, y_train_feverF, cv=3, n_jobs=-1, method=\"predict_proba\")\n",
    "predictions_binary = (prediction[:, 1] > 0.5).astype(int)\n",
    "scores(y_train_feverM, predictions_binary)"
   ]
  },
  {
   "cell_type": "markdown",
   "id": "3c628bbd-8899-4c81-86c5-c1cac9ec78e3",
   "metadata": {},
   "source": [
    "|Classifier for Monitor Mode|Accurary|Precision|Recall|F1\n",
    "| --- | --- | --- | --- | --- |\n",
    "|Stochastic Gradient Descend| 0.97 | 0.87 | 0.83 | 0.85\n",
    "|Random Forest| 0.95 | 0.85| 0.69|0.76\n",
    "|Decision Tree| 0.94 | 0.93 | 0.46 | 0.62\n",
    "|XGBoost| 0.94 | 0.93 | 0.46 | 0.62"
   ]
  },
  {
   "cell_type": "markdown",
   "id": "12b05066-8879-4bcd-a3c3-227c69d7a9cb",
   "metadata": {},
   "source": [
    "#### 5. Support Vector Machine Classifier"
   ]
  },
  {
   "cell_type": "code",
   "execution_count": 59,
   "id": "cee18811-6f8a-412e-bf87-dff46f65b023",
   "metadata": {},
   "outputs": [
    {
     "name": "stdout",
     "output_type": "stream",
     "text": [
      "Accuracy: 0.96\n",
      "Precision: 0.74\n",
      "Recall: 0.5\n",
      "F1: 0.6\n"
     ]
    }
   ],
   "source": [
    "# support vector machine\n",
    "from sklearn.svm import SVC\n",
    "\n",
    "svm_clf_F = SVC(probability=True)\n",
    "svm_clf_F.fit(preprocessed_X_train, y_train_feverF)\n",
    "\n",
    "prediction = cross_val_predict(svm_clf_F, preprocessed_X_train, y_train_feverF, cv=3, n_jobs=-1, method=\"predict_proba\")\n",
    "predictions_binary = (prediction[:, 1] > 0.5).astype(int)\n",
    "scores(y_train_feverF, predictions_binary)"
   ]
  },
  {
   "cell_type": "markdown",
   "id": "51e44f5d-9924-45f7-b8ea-897372862dc6",
   "metadata": {},
   "source": [
    "|Classifier for Fast Mode|Accurary|Precision|Recall|F1\n",
    "| --- | --- | --- | --- | --- |\n",
    "|Stochastic Gradient Descend| 0.97 | 0.81 | 0.67 | 0.74\n",
    "|Random Forest| 0.96 | 0.71 | 0.58|0.64\n",
    "|Decision Tree| 0.95 | 0.63 | 0.46| 0.53\n",
    "|XGBoost| 0.96 | 0.72 | 0.6|0.65\n",
    "|Support Vector Machine| 0.96 | 0.76 | 0.54 | 0.63"
   ]
  },
  {
   "cell_type": "code",
   "execution_count": 60,
   "id": "7aa40aff-0029-4876-8c85-dc509f00d9db",
   "metadata": {},
   "outputs": [
    {
     "name": "stdout",
     "output_type": "stream",
     "text": [
      "Accuracy: 0.96\n",
      "Precision: 0.9\n",
      "Recall: 0.7\n",
      "F1: 0.79\n"
     ]
    }
   ],
   "source": [
    "svm_clf_M = SVC(probability=True)\n",
    "svm_clf_M.fit(preprocessed_X_train, y_train_feverM)\n",
    "\n",
    "prediction = cross_val_predict(svm_clf_M, preprocessed_X_train, y_train_feverM, cv=3, n_jobs=-1, method=\"predict_proba\")\n",
    "predictions_binary = (prediction[:, 1] > 0.5).astype(int)\n",
    "scores(y_train_feverM, predictions_binary)"
   ]
  },
  {
   "cell_type": "markdown",
   "id": "d37416c1-64a8-4034-9faa-de7154128418",
   "metadata": {},
   "source": [
    "|Classifier for Monitor Mode|Accurary|Precision|Recall|F1\n",
    "| --- | --- | --- | --- | --- |\n",
    "|Stochastic Gradient Descend| 0.97 | 0.87 | 0.83 | 0.85\n",
    "|Random Forest| 0.95 | 0.85| 0.69|0.76\n",
    "|Decision Tree| 0.94 | 0.93 | 0.46 | 0.62\n",
    "|XGBoost| 0.94 | 0.93 | 0.46 | 0.62\n",
    "|Support Vector Machine| 0.96 | 0.9 | 0.7 | 0.79"
   ]
  },
  {
   "cell_type": "markdown",
   "id": "3d98bdad-581e-4c8c-a399-d6a5a0400583",
   "metadata": {},
   "source": [
    "#### 6. Neural Network"
   ]
  },
  {
   "cell_type": "code",
   "execution_count": 61,
   "id": "08c13529-9a50-487b-ae02-d368a5ec3490",
   "metadata": {},
   "outputs": [
    {
     "name": "stdout",
     "output_type": "stream",
     "text": [
      "Epoch 1/100\n",
      "13/13 [==============================] - 1s 2ms/step - loss: 1.1438 - out_feverF_loss: 0.5422 - out_feverM_loss: 0.6016 - out_feverF_accuracy: 0.7635 - out_feverF_recall: 0.3077 - out_feverF_precision: 0.0925 - out_feverM_accuracy: 0.6581 - out_feverM_recall_1: 0.6552 - out_feverM_precision_1: 0.1863     \n",
      "Epoch 2/100\n",
      "13/13 [==============================] - 0s 2ms/step - loss: 0.8850 - out_feverF_loss: 0.4360 - out_feverM_loss: 0.4490 - out_feverF_accuracy: 0.8664 - out_feverF_recall: 0.2692 - out_feverF_precision: 0.1647 - out_feverM_accuracy: 0.7855 - out_feverM_recall_1: 0.6552 - out_feverM_precision_1: 0.2822\n",
      "Epoch 3/100\n",
      "13/13 [==============================] - 0s 2ms/step - loss: 0.7178 - out_feverF_loss: 0.3474 - out_feverM_loss: 0.3704 - out_feverF_accuracy: 0.8909 - out_feverF_recall: 0.4231 - out_feverF_precision: 0.2716 - out_feverM_accuracy: 0.8591 - out_feverM_recall_1: 0.7011 - out_feverM_precision_1: 0.4067    \n",
      "Epoch 4/100\n",
      "13/13 [==============================] - 0s 2ms/step - loss: 0.6285 - out_feverF_loss: 0.3020 - out_feverM_loss: 0.3265 - out_feverF_accuracy: 0.9093 - out_feverF_recall: 0.3269 - out_feverF_precision: 0.3036 - out_feverM_accuracy: 0.8750 - out_feverM_recall_1: 0.7241 - out_feverM_precision_1: 0.4468    \n",
      "Epoch 5/100\n",
      "13/13 [==============================] - 0s 2ms/step - loss: 0.5482 - out_feverF_loss: 0.2709 - out_feverM_loss: 0.2773 - out_feverF_accuracy: 0.9228 - out_feverF_recall: 0.3846 - out_feverF_precision: 0.3922 - out_feverM_accuracy: 0.9069 - out_feverM_recall_1: 0.6897 - out_feverM_precision_1: 0.5505\n",
      "Epoch 6/100\n",
      "13/13 [==============================] - 0s 2ms/step - loss: 0.4797 - out_feverF_loss: 0.2341 - out_feverM_loss: 0.2456 - out_feverF_accuracy: 0.9301 - out_feverF_recall: 0.3654 - out_feverF_precision: 0.4419 - out_feverM_accuracy: 0.9277 - out_feverM_recall_1: 0.7356 - out_feverM_precision_1: 0.6400\n",
      "Epoch 7/100\n",
      "13/13 [==============================] - 0s 2ms/step - loss: 0.4247 - out_feverF_loss: 0.2084 - out_feverM_loss: 0.2163 - out_feverF_accuracy: 0.9510 - out_feverF_recall: 0.4231 - out_feverF_precision: 0.6875 - out_feverM_accuracy: 0.9375 - out_feverM_recall_1: 0.7126 - out_feverM_precision_1: 0.7045\n",
      "Epoch 8/100\n",
      "13/13 [==============================] - 0s 2ms/step - loss: 0.3976 - out_feverF_loss: 0.1947 - out_feverM_loss: 0.2029 - out_feverF_accuracy: 0.9412 - out_feverF_recall: 0.4038 - out_feverF_precision: 0.5526 - out_feverM_accuracy: 0.9485 - out_feverM_recall_1: 0.7126 - out_feverM_precision_1: 0.7848    \n",
      "Epoch 9/100\n",
      "13/13 [==============================] - 0s 2ms/step - loss: 0.3598 - out_feverF_loss: 0.1714 - out_feverM_loss: 0.1885 - out_feverF_accuracy: 0.9498 - out_feverF_recall: 0.5192 - out_feverF_precision: 0.6279 - out_feverM_accuracy: 0.9534 - out_feverM_recall_1: 0.7586 - out_feverM_precision_1: 0.7952\n",
      "Epoch 10/100\n",
      "13/13 [==============================] - 0s 2ms/step - loss: 0.3463 - out_feverF_loss: 0.1597 - out_feverM_loss: 0.1866 - out_feverF_accuracy: 0.9547 - out_feverF_recall: 0.5000 - out_feverF_precision: 0.7027 - out_feverM_accuracy: 0.9350 - out_feverM_recall_1: 0.6322 - out_feverM_precision_1: 0.7237\n",
      "Epoch 11/100\n",
      "13/13 [==============================] - 0s 2ms/step - loss: 0.3152 - out_feverF_loss: 0.1481 - out_feverM_loss: 0.1670 - out_feverF_accuracy: 0.9620 - out_feverF_recall: 0.5385 - out_feverF_precision: 0.8000 - out_feverM_accuracy: 0.9436 - out_feverM_recall_1: 0.7011 - out_feverM_precision_1: 0.7531    \n",
      "Epoch 12/100\n",
      "13/13 [==============================] - 0s 2ms/step - loss: 0.3024 - out_feverF_loss: 0.1419 - out_feverM_loss: 0.1605 - out_feverF_accuracy: 0.9608 - out_feverF_recall: 0.6154 - out_feverF_precision: 0.7273 - out_feverM_accuracy: 0.9547 - out_feverM_recall_1: 0.6897 - out_feverM_precision_1: 0.8571\n",
      "Epoch 13/100\n",
      "13/13 [==============================] - 0s 2ms/step - loss: 0.2814 - out_feverF_loss: 0.1370 - out_feverM_loss: 0.1444 - out_feverF_accuracy: 0.9559 - out_feverF_recall: 0.5000 - out_feverF_precision: 0.7222 - out_feverM_accuracy: 0.9583 - out_feverM_recall_1: 0.7356 - out_feverM_precision_1: 0.8533\n",
      "Epoch 14/100\n",
      "13/13 [==============================] - 0s 2ms/step - loss: 0.2827 - out_feverF_loss: 0.1340 - out_feverM_loss: 0.1487 - out_feverF_accuracy: 0.9571 - out_feverF_recall: 0.5192 - out_feverF_precision: 0.7297 - out_feverM_accuracy: 0.9510 - out_feverM_recall_1: 0.7126 - out_feverM_precision_1: 0.8052\n",
      "Epoch 15/100\n",
      "13/13 [==============================] - 0s 2ms/step - loss: 0.2733 - out_feverF_loss: 0.1331 - out_feverM_loss: 0.1402 - out_feverF_accuracy: 0.9571 - out_feverF_recall: 0.5962 - out_feverF_precision: 0.6889 - out_feverM_accuracy: 0.9608 - out_feverM_recall_1: 0.7701 - out_feverM_precision_1: 0.8481\n",
      "Epoch 16/100\n",
      "13/13 [==============================] - 0s 2ms/step - loss: 0.2591 - out_feverF_loss: 0.1194 - out_feverM_loss: 0.1397 - out_feverF_accuracy: 0.9596 - out_feverF_recall: 0.5385 - out_feverF_precision: 0.7568 - out_feverM_accuracy: 0.9522 - out_feverM_recall_1: 0.6897 - out_feverM_precision_1: 0.8333\n",
      "Epoch 17/100\n",
      "13/13 [==============================] - 0s 2ms/step - loss: 0.2454 - out_feverF_loss: 0.1217 - out_feverM_loss: 0.1238 - out_feverF_accuracy: 0.9571 - out_feverF_recall: 0.6154 - out_feverF_precision: 0.6809 - out_feverM_accuracy: 0.9534 - out_feverM_recall_1: 0.7356 - out_feverM_precision_1: 0.8101\n",
      "Epoch 18/100\n",
      "13/13 [==============================] - 0s 2ms/step - loss: 0.2471 - out_feverF_loss: 0.1126 - out_feverM_loss: 0.1345 - out_feverF_accuracy: 0.9571 - out_feverF_recall: 0.5577 - out_feverF_precision: 0.7073 - out_feverM_accuracy: 0.9620 - out_feverM_recall_1: 0.7126 - out_feverM_precision_1: 0.9118\n",
      "Epoch 19/100\n",
      "13/13 [==============================] - 0s 2ms/step - loss: 0.2348 - out_feverF_loss: 0.1076 - out_feverM_loss: 0.1272 - out_feverF_accuracy: 0.9657 - out_feverF_recall: 0.6923 - out_feverF_precision: 0.7500 - out_feverM_accuracy: 0.9596 - out_feverM_recall_1: 0.7126 - out_feverM_precision_1: 0.8857\n",
      "Epoch 20/100\n",
      "13/13 [==============================] - 0s 2ms/step - loss: 0.2374 - out_feverF_loss: 0.1128 - out_feverM_loss: 0.1246 - out_feverF_accuracy: 0.9608 - out_feverF_recall: 0.5769 - out_feverF_precision: 0.7500 - out_feverM_accuracy: 0.9583 - out_feverM_recall_1: 0.7011 - out_feverM_precision_1: 0.8841\n",
      "Epoch 21/100\n",
      "13/13 [==============================] - 0s 2ms/step - loss: 0.2372 - out_feverF_loss: 0.1109 - out_feverM_loss: 0.1262 - out_feverF_accuracy: 0.9608 - out_feverF_recall: 0.5769 - out_feverF_precision: 0.7500 - out_feverM_accuracy: 0.9547 - out_feverM_recall_1: 0.7241 - out_feverM_precision_1: 0.8289\n",
      "Epoch 22/100\n",
      "13/13 [==============================] - 0s 2ms/step - loss: 0.2185 - out_feverF_loss: 0.1020 - out_feverM_loss: 0.1165 - out_feverF_accuracy: 0.9657 - out_feverF_recall: 0.6346 - out_feverF_precision: 0.7857 - out_feverM_accuracy: 0.9559 - out_feverM_recall_1: 0.7241 - out_feverM_precision_1: 0.8400\n",
      "Epoch 23/100\n",
      "13/13 [==============================] - 0s 2ms/step - loss: 0.2107 - out_feverF_loss: 0.0962 - out_feverM_loss: 0.1145 - out_feverF_accuracy: 0.9669 - out_feverF_recall: 0.7115 - out_feverF_precision: 0.7551 - out_feverM_accuracy: 0.9645 - out_feverM_recall_1: 0.7931 - out_feverM_precision_1: 0.8625\n",
      "Epoch 24/100\n",
      "13/13 [==============================] - 0s 2ms/step - loss: 0.2125 - out_feverF_loss: 0.1002 - out_feverM_loss: 0.1123 - out_feverF_accuracy: 0.9632 - out_feverF_recall: 0.5962 - out_feverF_precision: 0.7750 - out_feverM_accuracy: 0.9620 - out_feverM_recall_1: 0.7356 - out_feverM_precision_1: 0.8889\n",
      "Epoch 25/100\n",
      "13/13 [==============================] - 0s 2ms/step - loss: 0.2199 - out_feverF_loss: 0.1034 - out_feverM_loss: 0.1165 - out_feverF_accuracy: 0.9620 - out_feverF_recall: 0.6346 - out_feverF_precision: 0.7333 - out_feverM_accuracy: 0.9608 - out_feverM_recall_1: 0.7126 - out_feverM_precision_1: 0.8986\n",
      "Epoch 26/100\n",
      "13/13 [==============================] - 0s 2ms/step - loss: 0.2106 - out_feverF_loss: 0.0988 - out_feverM_loss: 0.1118 - out_feverF_accuracy: 0.9669 - out_feverF_recall: 0.6346 - out_feverF_precision: 0.8049 - out_feverM_accuracy: 0.9620 - out_feverM_recall_1: 0.7471 - out_feverM_precision_1: 0.8784\n",
      "Epoch 27/100\n",
      "13/13 [==============================] - 0s 2ms/step - loss: 0.1887 - out_feverF_loss: 0.0862 - out_feverM_loss: 0.1024 - out_feverF_accuracy: 0.9730 - out_feverF_recall: 0.7115 - out_feverF_precision: 0.8409 - out_feverM_accuracy: 0.9669 - out_feverM_recall_1: 0.7701 - out_feverM_precision_1: 0.9054\n",
      "Epoch 28/100\n",
      "13/13 [==============================] - 0s 2ms/step - loss: 0.2075 - out_feverF_loss: 0.0953 - out_feverM_loss: 0.1122 - out_feverF_accuracy: 0.9620 - out_feverF_recall: 0.5962 - out_feverF_precision: 0.7561 - out_feverM_accuracy: 0.9632 - out_feverM_recall_1: 0.7701 - out_feverM_precision_1: 0.8701    \n",
      "Epoch 29/100\n",
      "13/13 [==============================] - 0s 3ms/step - loss: 0.2066 - out_feverF_loss: 0.0971 - out_feverM_loss: 0.1095 - out_feverF_accuracy: 0.9620 - out_feverF_recall: 0.5769 - out_feverF_precision: 0.7692 - out_feverM_accuracy: 0.9559 - out_feverM_recall_1: 0.7471 - out_feverM_precision_1: 0.8228    \n",
      "Epoch 30/100\n",
      "13/13 [==============================] - 0s 2ms/step - loss: 0.2023 - out_feverF_loss: 0.0929 - out_feverM_loss: 0.1094 - out_feverF_accuracy: 0.9620 - out_feverF_recall: 0.6346 - out_feverF_precision: 0.7333 - out_feverM_accuracy: 0.9571 - out_feverM_recall_1: 0.7816 - out_feverM_precision_1: 0.8095\n",
      "Epoch 31/100\n",
      "13/13 [==============================] - 0s 2ms/step - loss: 0.1880 - out_feverF_loss: 0.0888 - out_feverM_loss: 0.0992 - out_feverF_accuracy: 0.9632 - out_feverF_recall: 0.6538 - out_feverF_precision: 0.7391 - out_feverM_accuracy: 0.9645 - out_feverM_recall_1: 0.7471 - out_feverM_precision_1: 0.9028\n",
      "Epoch 32/100\n",
      "13/13 [==============================] - 0s 2ms/step - loss: 0.1891 - out_feverF_loss: 0.0886 - out_feverM_loss: 0.1005 - out_feverF_accuracy: 0.9669 - out_feverF_recall: 0.6731 - out_feverF_precision: 0.7778 - out_feverM_accuracy: 0.9583 - out_feverM_recall_1: 0.7126 - out_feverM_precision_1: 0.8732\n",
      "Epoch 33/100\n",
      "13/13 [==============================] - 0s 2ms/step - loss: 0.1897 - out_feverF_loss: 0.0888 - out_feverM_loss: 0.1009 - out_feverF_accuracy: 0.9571 - out_feverF_recall: 0.5577 - out_feverF_precision: 0.7073 - out_feverM_accuracy: 0.9559 - out_feverM_recall_1: 0.7126 - out_feverM_precision_1: 0.8493\n",
      "Epoch 34/100\n",
      "13/13 [==============================] - 0s 2ms/step - loss: 0.1934 - out_feverF_loss: 0.0851 - out_feverM_loss: 0.1083 - out_feverF_accuracy: 0.9730 - out_feverF_recall: 0.7308 - out_feverF_precision: 0.8261 - out_feverM_accuracy: 0.9608 - out_feverM_recall_1: 0.7586 - out_feverM_precision_1: 0.8571\n",
      "Epoch 35/100\n",
      "13/13 [==============================] - 0s 2ms/step - loss: 0.1850 - out_feverF_loss: 0.0871 - out_feverM_loss: 0.0979 - out_feverF_accuracy: 0.9694 - out_feverF_recall: 0.6538 - out_feverF_precision: 0.8293 - out_feverM_accuracy: 0.9645 - out_feverM_recall_1: 0.7701 - out_feverM_precision_1: 0.8816\n",
      "Epoch 36/100\n",
      "13/13 [==============================] - 0s 2ms/step - loss: 0.1983 - out_feverF_loss: 0.0969 - out_feverM_loss: 0.1013 - out_feverF_accuracy: 0.9620 - out_feverF_recall: 0.6154 - out_feverF_precision: 0.7442 - out_feverM_accuracy: 0.9645 - out_feverM_recall_1: 0.7931 - out_feverM_precision_1: 0.8625\n",
      "Epoch 37/100\n",
      "13/13 [==============================] - 0s 2ms/step - loss: 0.1879 - out_feverF_loss: 0.0846 - out_feverM_loss: 0.1033 - out_feverF_accuracy: 0.9669 - out_feverF_recall: 0.6346 - out_feverF_precision: 0.8049 - out_feverM_accuracy: 0.9645 - out_feverM_recall_1: 0.7471 - out_feverM_precision_1: 0.9028\n",
      "Epoch 38/100\n",
      "13/13 [==============================] - 0s 2ms/step - loss: 0.1758 - out_feverF_loss: 0.0819 - out_feverM_loss: 0.0939 - out_feverF_accuracy: 0.9681 - out_feverF_recall: 0.6923 - out_feverF_precision: 0.7826 - out_feverM_accuracy: 0.9645 - out_feverM_recall_1: 0.7471 - out_feverM_precision_1: 0.9028\n",
      "Epoch 39/100\n",
      "13/13 [==============================] - 0s 2ms/step - loss: 0.2061 - out_feverF_loss: 0.0959 - out_feverM_loss: 0.1102 - out_feverF_accuracy: 0.9645 - out_feverF_recall: 0.6731 - out_feverF_precision: 0.7447 - out_feverM_accuracy: 0.9620 - out_feverM_recall_1: 0.7586 - out_feverM_precision_1: 0.8684\n",
      "Epoch 40/100\n",
      "13/13 [==============================] - 0s 2ms/step - loss: 0.1877 - out_feverF_loss: 0.0845 - out_feverM_loss: 0.1032 - out_feverF_accuracy: 0.9694 - out_feverF_recall: 0.6731 - out_feverF_precision: 0.8140 - out_feverM_accuracy: 0.9620 - out_feverM_recall_1: 0.7701 - out_feverM_precision_1: 0.8590\n",
      "Epoch 41/100\n",
      "13/13 [==============================] - 0s 2ms/step - loss: 0.1850 - out_feverF_loss: 0.0835 - out_feverM_loss: 0.1015 - out_feverF_accuracy: 0.9669 - out_feverF_recall: 0.5962 - out_feverF_precision: 0.8378 - out_feverM_accuracy: 0.9657 - out_feverM_recall_1: 0.7586 - out_feverM_precision_1: 0.9041\n",
      "Epoch 42/100\n",
      "13/13 [==============================] - 0s 2ms/step - loss: 0.1727 - out_feverF_loss: 0.0796 - out_feverM_loss: 0.0931 - out_feverF_accuracy: 0.9730 - out_feverF_recall: 0.6923 - out_feverF_precision: 0.8571 - out_feverM_accuracy: 0.9681 - out_feverM_recall_1: 0.7931 - out_feverM_precision_1: 0.8961\n",
      "Epoch 43/100\n",
      "13/13 [==============================] - 0s 2ms/step - loss: 0.1705 - out_feverF_loss: 0.0800 - out_feverM_loss: 0.0905 - out_feverF_accuracy: 0.9706 - out_feverF_recall: 0.7115 - out_feverF_precision: 0.8043 - out_feverM_accuracy: 0.9706 - out_feverM_recall_1: 0.8046 - out_feverM_precision_1: 0.9091\n",
      "Epoch 44/100\n",
      "13/13 [==============================] - 0s 2ms/step - loss: 0.1829 - out_feverF_loss: 0.0864 - out_feverM_loss: 0.0965 - out_feverF_accuracy: 0.9694 - out_feverF_recall: 0.6731 - out_feverF_precision: 0.8140 - out_feverM_accuracy: 0.9583 - out_feverM_recall_1: 0.7126 - out_feverM_precision_1: 0.8732\n",
      "Epoch 45/100\n",
      "13/13 [==============================] - 0s 2ms/step - loss: 0.1790 - out_feverF_loss: 0.0825 - out_feverM_loss: 0.0966 - out_feverF_accuracy: 0.9669 - out_feverF_recall: 0.6538 - out_feverF_precision: 0.7907 - out_feverM_accuracy: 0.9620 - out_feverM_recall_1: 0.7586 - out_feverM_precision_1: 0.8684\n",
      "Epoch 46/100\n",
      "13/13 [==============================] - 0s 2ms/step - loss: 0.1732 - out_feverF_loss: 0.0786 - out_feverM_loss: 0.0946 - out_feverF_accuracy: 0.9669 - out_feverF_recall: 0.7115 - out_feverF_precision: 0.7551 - out_feverM_accuracy: 0.9694 - out_feverM_recall_1: 0.7931 - out_feverM_precision_1: 0.9079\n",
      "Epoch 47/100\n",
      "13/13 [==============================] - 0s 2ms/step - loss: 0.1812 - out_feverF_loss: 0.0828 - out_feverM_loss: 0.0983 - out_feverF_accuracy: 0.9694 - out_feverF_recall: 0.6923 - out_feverF_precision: 0.8000 - out_feverM_accuracy: 0.9669 - out_feverM_recall_1: 0.7816 - out_feverM_precision_1: 0.8947\n",
      "Epoch 48/100\n",
      "13/13 [==============================] - 0s 2ms/step - loss: 0.1761 - out_feverF_loss: 0.0830 - out_feverM_loss: 0.0932 - out_feverF_accuracy: 0.9694 - out_feverF_recall: 0.6923 - out_feverF_precision: 0.8000 - out_feverM_accuracy: 0.9657 - out_feverM_recall_1: 0.8046 - out_feverM_precision_1: 0.8642\n",
      "Epoch 49/100\n",
      "13/13 [==============================] - 0s 2ms/step - loss: 0.1644 - out_feverF_loss: 0.0763 - out_feverM_loss: 0.0882 - out_feverF_accuracy: 0.9779 - out_feverF_recall: 0.7885 - out_feverF_precision: 0.8542 - out_feverM_accuracy: 0.9694 - out_feverM_recall_1: 0.8046 - out_feverM_precision_1: 0.8974\n",
      "Epoch 50/100\n",
      "13/13 [==============================] - 0s 2ms/step - loss: 0.1802 - out_feverF_loss: 0.0807 - out_feverM_loss: 0.0995 - out_feverF_accuracy: 0.9694 - out_feverF_recall: 0.7500 - out_feverF_precision: 0.7647 - out_feverM_accuracy: 0.9645 - out_feverM_recall_1: 0.7931 - out_feverM_precision_1: 0.8625\n",
      "Epoch 51/100\n",
      "13/13 [==============================] - 0s 2ms/step - loss: 0.1630 - out_feverF_loss: 0.0728 - out_feverM_loss: 0.0903 - out_feverF_accuracy: 0.9706 - out_feverF_recall: 0.6731 - out_feverF_precision: 0.8333 - out_feverM_accuracy: 0.9681 - out_feverM_recall_1: 0.7701 - out_feverM_precision_1: 0.9178\n",
      "Epoch 52/100\n",
      "13/13 [==============================] - 0s 2ms/step - loss: 0.1816 - out_feverF_loss: 0.0837 - out_feverM_loss: 0.0979 - out_feverF_accuracy: 0.9645 - out_feverF_recall: 0.6154 - out_feverF_precision: 0.7805 - out_feverM_accuracy: 0.9694 - out_feverM_recall_1: 0.8046 - out_feverM_precision_1: 0.8974\n",
      "Epoch 53/100\n",
      "13/13 [==============================] - 0s 2ms/step - loss: 0.1661 - out_feverF_loss: 0.0782 - out_feverM_loss: 0.0879 - out_feverF_accuracy: 0.9632 - out_feverF_recall: 0.6538 - out_feverF_precision: 0.7391 - out_feverM_accuracy: 0.9743 - out_feverM_recall_1: 0.8276 - out_feverM_precision_1: 0.9231\n",
      "Epoch 54/100\n",
      "13/13 [==============================] - 0s 2ms/step - loss: 0.1777 - out_feverF_loss: 0.0884 - out_feverM_loss: 0.0893 - out_feverF_accuracy: 0.9645 - out_feverF_recall: 0.6731 - out_feverF_precision: 0.7447 - out_feverM_accuracy: 0.9669 - out_feverM_recall_1: 0.7931 - out_feverM_precision_1: 0.8846\n",
      "Epoch 55/100\n",
      "13/13 [==============================] - 0s 2ms/step - loss: 0.1766 - out_feverF_loss: 0.0828 - out_feverM_loss: 0.0938 - out_feverF_accuracy: 0.9645 - out_feverF_recall: 0.6346 - out_feverF_precision: 0.7674 - out_feverM_accuracy: 0.9632 - out_feverM_recall_1: 0.7586 - out_feverM_precision_1: 0.8800\n",
      "Epoch 56/100\n",
      "13/13 [==============================] - 0s 2ms/step - loss: 0.1772 - out_feverF_loss: 0.0872 - out_feverM_loss: 0.0899 - out_feverF_accuracy: 0.9669 - out_feverF_recall: 0.7115 - out_feverF_precision: 0.7551 - out_feverM_accuracy: 0.9657 - out_feverM_recall_1: 0.7816 - out_feverM_precision_1: 0.8831\n",
      "Epoch 57/100\n",
      "13/13 [==============================] - 0s 2ms/step - loss: 0.1633 - out_feverF_loss: 0.0765 - out_feverM_loss: 0.0868 - out_feverF_accuracy: 0.9694 - out_feverF_recall: 0.6923 - out_feverF_precision: 0.8000 - out_feverM_accuracy: 0.9718 - out_feverM_recall_1: 0.8046 - out_feverM_precision_1: 0.9211\n",
      "Epoch 58/100\n",
      "13/13 [==============================] - 0s 1ms/step - loss: 0.1574 - out_feverF_loss: 0.0741 - out_feverM_loss: 0.0833 - out_feverF_accuracy: 0.9657 - out_feverF_recall: 0.6923 - out_feverF_precision: 0.7500 - out_feverM_accuracy: 0.9694 - out_feverM_recall_1: 0.7816 - out_feverM_precision_1: 0.9189\n",
      "Epoch 59/100\n",
      "13/13 [==============================] - 0s 2ms/step - loss: 0.1707 - out_feverF_loss: 0.0873 - out_feverM_loss: 0.0834 - out_feverF_accuracy: 0.9694 - out_feverF_recall: 0.7115 - out_feverF_precision: 0.7872 - out_feverM_accuracy: 0.9706 - out_feverM_recall_1: 0.8046 - out_feverM_precision_1: 0.9091\n",
      "Epoch 60/100\n",
      "13/13 [==============================] - 0s 2ms/step - loss: 0.1684 - out_feverF_loss: 0.0780 - out_feverM_loss: 0.0903 - out_feverF_accuracy: 0.9681 - out_feverF_recall: 0.6538 - out_feverF_precision: 0.8095 - out_feverM_accuracy: 0.9694 - out_feverM_recall_1: 0.7931 - out_feverM_precision_1: 0.9079\n",
      "Epoch 61/100\n",
      "13/13 [==============================] - 0s 2ms/step - loss: 0.1578 - out_feverF_loss: 0.0718 - out_feverM_loss: 0.0860 - out_feverF_accuracy: 0.9669 - out_feverF_recall: 0.6346 - out_feverF_precision: 0.8049 - out_feverM_accuracy: 0.9706 - out_feverM_recall_1: 0.8046 - out_feverM_precision_1: 0.9091\n",
      "Epoch 62/100\n",
      "13/13 [==============================] - 0s 2ms/step - loss: 0.1668 - out_feverF_loss: 0.0791 - out_feverM_loss: 0.0877 - out_feverF_accuracy: 0.9730 - out_feverF_recall: 0.7692 - out_feverF_precision: 0.8000 - out_feverM_accuracy: 0.9681 - out_feverM_recall_1: 0.7931 - out_feverM_precision_1: 0.8961\n",
      "Epoch 63/100\n",
      "13/13 [==============================] - 0s 2ms/step - loss: 0.1577 - out_feverF_loss: 0.0737 - out_feverM_loss: 0.0840 - out_feverF_accuracy: 0.9706 - out_feverF_recall: 0.7115 - out_feverF_precision: 0.8043 - out_feverM_accuracy: 0.9632 - out_feverM_recall_1: 0.7586 - out_feverM_precision_1: 0.8800\n",
      "Epoch 64/100\n",
      "13/13 [==============================] - 0s 2ms/step - loss: 0.1678 - out_feverF_loss: 0.0852 - out_feverM_loss: 0.0827 - out_feverF_accuracy: 0.9657 - out_feverF_recall: 0.6346 - out_feverF_precision: 0.7857 - out_feverM_accuracy: 0.9681 - out_feverM_recall_1: 0.7931 - out_feverM_precision_1: 0.8961\n",
      "Epoch 65/100\n",
      "13/13 [==============================] - 0s 2ms/step - loss: 0.1602 - out_feverF_loss: 0.0746 - out_feverM_loss: 0.0855 - out_feverF_accuracy: 0.9706 - out_feverF_recall: 0.7115 - out_feverF_precision: 0.8043 - out_feverM_accuracy: 0.9681 - out_feverM_recall_1: 0.7816 - out_feverM_precision_1: 0.9067    \n",
      "Epoch 66/100\n",
      "13/13 [==============================] - 0s 2ms/step - loss: 0.1603 - out_feverF_loss: 0.0736 - out_feverM_loss: 0.0867 - out_feverF_accuracy: 0.9681 - out_feverF_recall: 0.6923 - out_feverF_precision: 0.7826 - out_feverM_accuracy: 0.9681 - out_feverM_recall_1: 0.8161 - out_feverM_precision_1: 0.8765\n",
      "Epoch 67/100\n",
      "13/13 [==============================] - 0s 2ms/step - loss: 0.1559 - out_feverF_loss: 0.0763 - out_feverM_loss: 0.0797 - out_feverF_accuracy: 0.9718 - out_feverF_recall: 0.7115 - out_feverF_precision: 0.8222 - out_feverM_accuracy: 0.9743 - out_feverM_recall_1: 0.8276 - out_feverM_precision_1: 0.9231\n",
      "Epoch 68/100\n",
      "13/13 [==============================] - 0s 2ms/step - loss: 0.1622 - out_feverF_loss: 0.0802 - out_feverM_loss: 0.0820 - out_feverF_accuracy: 0.9645 - out_feverF_recall: 0.6346 - out_feverF_precision: 0.7674 - out_feverM_accuracy: 0.9669 - out_feverM_recall_1: 0.7701 - out_feverM_precision_1: 0.9054\n",
      "Epoch 69/100\n",
      "13/13 [==============================] - 0s 2ms/step - loss: 0.1544 - out_feverF_loss: 0.0723 - out_feverM_loss: 0.0821 - out_feverF_accuracy: 0.9681 - out_feverF_recall: 0.6731 - out_feverF_precision: 0.7955 - out_feverM_accuracy: 0.9681 - out_feverM_recall_1: 0.7931 - out_feverM_precision_1: 0.8961\n",
      "Epoch 70/100\n",
      "13/13 [==============================] - 0s 2ms/step - loss: 0.1655 - out_feverF_loss: 0.0778 - out_feverM_loss: 0.0878 - out_feverF_accuracy: 0.9694 - out_feverF_recall: 0.6923 - out_feverF_precision: 0.8000 - out_feverM_accuracy: 0.9706 - out_feverM_recall_1: 0.7816 - out_feverM_precision_1: 0.9315\n",
      "Epoch 71/100\n",
      "13/13 [==============================] - 0s 2ms/step - loss: 0.1613 - out_feverF_loss: 0.0750 - out_feverM_loss: 0.0862 - out_feverF_accuracy: 0.9706 - out_feverF_recall: 0.7115 - out_feverF_precision: 0.8043 - out_feverM_accuracy: 0.9657 - out_feverM_recall_1: 0.7701 - out_feverM_precision_1: 0.8933\n",
      "Epoch 72/100\n",
      "13/13 [==============================] - 0s 2ms/step - loss: 0.1527 - out_feverF_loss: 0.0755 - out_feverM_loss: 0.0772 - out_feverF_accuracy: 0.9681 - out_feverF_recall: 0.6731 - out_feverF_precision: 0.7955 - out_feverM_accuracy: 0.9767 - out_feverM_recall_1: 0.8161 - out_feverM_precision_1: 0.9595\n",
      "Epoch 73/100\n",
      "13/13 [==============================] - 0s 2ms/step - loss: 0.1629 - out_feverF_loss: 0.0770 - out_feverM_loss: 0.0859 - out_feverF_accuracy: 0.9706 - out_feverF_recall: 0.6923 - out_feverF_precision: 0.8182 - out_feverM_accuracy: 0.9657 - out_feverM_recall_1: 0.7701 - out_feverM_precision_1: 0.8933\n",
      "Epoch 74/100\n",
      "13/13 [==============================] - 0s 2ms/step - loss: 0.1523 - out_feverF_loss: 0.0718 - out_feverM_loss: 0.0804 - out_feverF_accuracy: 0.9706 - out_feverF_recall: 0.6923 - out_feverF_precision: 0.8182 - out_feverM_accuracy: 0.9694 - out_feverM_recall_1: 0.7931 - out_feverM_precision_1: 0.9079\n",
      "Epoch 75/100\n",
      "13/13 [==============================] - 0s 2ms/step - loss: 0.1615 - out_feverF_loss: 0.0831 - out_feverM_loss: 0.0784 - out_feverF_accuracy: 0.9681 - out_feverF_recall: 0.6923 - out_feverF_precision: 0.7826 - out_feverM_accuracy: 0.9681 - out_feverM_recall_1: 0.8161 - out_feverM_precision_1: 0.8765\n",
      "Epoch 76/100\n",
      "13/13 [==============================] - 0s 2ms/step - loss: 0.1568 - out_feverF_loss: 0.0777 - out_feverM_loss: 0.0791 - out_feverF_accuracy: 0.9694 - out_feverF_recall: 0.7308 - out_feverF_precision: 0.7755 - out_feverM_accuracy: 0.9706 - out_feverM_recall_1: 0.8161 - out_feverM_precision_1: 0.8987\n",
      "Epoch 77/100\n",
      "13/13 [==============================] - 0s 2ms/step - loss: 0.1487 - out_feverF_loss: 0.0699 - out_feverM_loss: 0.0788 - out_feverF_accuracy: 0.9706 - out_feverF_recall: 0.7115 - out_feverF_precision: 0.8043 - out_feverM_accuracy: 0.9718 - out_feverM_recall_1: 0.8276 - out_feverM_precision_1: 0.9000\n",
      "Epoch 78/100\n",
      "13/13 [==============================] - 0s 2ms/step - loss: 0.1510 - out_feverF_loss: 0.0702 - out_feverM_loss: 0.0808 - out_feverF_accuracy: 0.9743 - out_feverF_recall: 0.7692 - out_feverF_precision: 0.8163 - out_feverM_accuracy: 0.9718 - out_feverM_recall_1: 0.8046 - out_feverM_precision_1: 0.9211\n",
      "Epoch 79/100\n",
      "13/13 [==============================] - 0s 3ms/step - loss: 0.1548 - out_feverF_loss: 0.0726 - out_feverM_loss: 0.0822 - out_feverF_accuracy: 0.9669 - out_feverF_recall: 0.6923 - out_feverF_precision: 0.7660 - out_feverM_accuracy: 0.9694 - out_feverM_recall_1: 0.8161 - out_feverM_precision_1: 0.8875\n",
      "Epoch 80/100\n",
      "13/13 [==============================] - 0s 2ms/step - loss: 0.1451 - out_feverF_loss: 0.0676 - out_feverM_loss: 0.0774 - out_feverF_accuracy: 0.9706 - out_feverF_recall: 0.6923 - out_feverF_precision: 0.8182 - out_feverM_accuracy: 0.9718 - out_feverM_recall_1: 0.8161 - out_feverM_precision_1: 0.9103\n",
      "Epoch 81/100\n",
      "13/13 [==============================] - 0s 2ms/step - loss: 0.1315 - out_feverF_loss: 0.0640 - out_feverM_loss: 0.0675 - out_feverF_accuracy: 0.9718 - out_feverF_recall: 0.7115 - out_feverF_precision: 0.8222 - out_feverM_accuracy: 0.9706 - out_feverM_recall_1: 0.8161 - out_feverM_precision_1: 0.8987\n",
      "Epoch 82/100\n",
      "13/13 [==============================] - 0s 1ms/step - loss: 0.1513 - out_feverF_loss: 0.0752 - out_feverM_loss: 0.0761 - out_feverF_accuracy: 0.9718 - out_feverF_recall: 0.7308 - out_feverF_precision: 0.8085 - out_feverM_accuracy: 0.9681 - out_feverM_recall_1: 0.8161 - out_feverM_precision_1: 0.8765\n",
      "Epoch 83/100\n",
      "13/13 [==============================] - 0s 2ms/step - loss: 0.1475 - out_feverF_loss: 0.0687 - out_feverM_loss: 0.0788 - out_feverF_accuracy: 0.9706 - out_feverF_recall: 0.7500 - out_feverF_precision: 0.7800 - out_feverM_accuracy: 0.9681 - out_feverM_recall_1: 0.7701 - out_feverM_precision_1: 0.9178\n",
      "Epoch 84/100\n",
      "13/13 [==============================] - 0s 2ms/step - loss: 0.1493 - out_feverF_loss: 0.0743 - out_feverM_loss: 0.0751 - out_feverF_accuracy: 0.9681 - out_feverF_recall: 0.6923 - out_feverF_precision: 0.7826 - out_feverM_accuracy: 0.9730 - out_feverM_recall_1: 0.8276 - out_feverM_precision_1: 0.9114\n",
      "Epoch 85/100\n",
      "13/13 [==============================] - 0s 2ms/step - loss: 0.1426 - out_feverF_loss: 0.0688 - out_feverM_loss: 0.0738 - out_feverF_accuracy: 0.9706 - out_feverF_recall: 0.6923 - out_feverF_precision: 0.8182 - out_feverM_accuracy: 0.9755 - out_feverM_recall_1: 0.8391 - out_feverM_precision_1: 0.9241\n",
      "Epoch 86/100\n",
      "13/13 [==============================] - 0s 2ms/step - loss: 0.1411 - out_feverF_loss: 0.0731 - out_feverM_loss: 0.0680 - out_feverF_accuracy: 0.9706 - out_feverF_recall: 0.7500 - out_feverF_precision: 0.7800 - out_feverM_accuracy: 0.9718 - out_feverM_recall_1: 0.8161 - out_feverM_precision_1: 0.9103\n",
      "Epoch 87/100\n",
      "13/13 [==============================] - 0s 2ms/step - loss: 0.1445 - out_feverF_loss: 0.0687 - out_feverM_loss: 0.0758 - out_feverF_accuracy: 0.9718 - out_feverF_recall: 0.7308 - out_feverF_precision: 0.8085 - out_feverM_accuracy: 0.9694 - out_feverM_recall_1: 0.8046 - out_feverM_precision_1: 0.8974\n",
      "Epoch 88/100\n",
      "13/13 [==============================] - 0s 2ms/step - loss: 0.1402 - out_feverF_loss: 0.0727 - out_feverM_loss: 0.0675 - out_feverF_accuracy: 0.9706 - out_feverF_recall: 0.6923 - out_feverF_precision: 0.8182 - out_feverM_accuracy: 0.9755 - out_feverM_recall_1: 0.8391 - out_feverM_precision_1: 0.9241\n",
      "Epoch 89/100\n",
      "13/13 [==============================] - 0s 2ms/step - loss: 0.1448 - out_feverF_loss: 0.0734 - out_feverM_loss: 0.0714 - out_feverF_accuracy: 0.9743 - out_feverF_recall: 0.7500 - out_feverF_precision: 0.8298 - out_feverM_accuracy: 0.9730 - out_feverM_recall_1: 0.8276 - out_feverM_precision_1: 0.9114\n",
      "Epoch 90/100\n",
      "13/13 [==============================] - 0s 2ms/step - loss: 0.1386 - out_feverF_loss: 0.0687 - out_feverM_loss: 0.0698 - out_feverF_accuracy: 0.9706 - out_feverF_recall: 0.7308 - out_feverF_precision: 0.7917 - out_feverM_accuracy: 0.9767 - out_feverM_recall_1: 0.8391 - out_feverM_precision_1: 0.9359\n",
      "Epoch 91/100\n",
      "13/13 [==============================] - 0s 2ms/step - loss: 0.1528 - out_feverF_loss: 0.0711 - out_feverM_loss: 0.0816 - out_feverF_accuracy: 0.9681 - out_feverF_recall: 0.6923 - out_feverF_precision: 0.7826 - out_feverM_accuracy: 0.9694 - out_feverM_recall_1: 0.8046 - out_feverM_precision_1: 0.8974\n",
      "Epoch 92/100\n",
      "13/13 [==============================] - 0s 2ms/step - loss: 0.1397 - out_feverF_loss: 0.0681 - out_feverM_loss: 0.0716 - out_feverF_accuracy: 0.9706 - out_feverF_recall: 0.6731 - out_feverF_precision: 0.8333 - out_feverM_accuracy: 0.9743 - out_feverM_recall_1: 0.8391 - out_feverM_precision_1: 0.9125\n",
      "Epoch 93/100\n",
      "13/13 [==============================] - 0s 2ms/step - loss: 0.1452 - out_feverF_loss: 0.0695 - out_feverM_loss: 0.0757 - out_feverF_accuracy: 0.9706 - out_feverF_recall: 0.6923 - out_feverF_precision: 0.8182 - out_feverM_accuracy: 0.9706 - out_feverM_recall_1: 0.7816 - out_feverM_precision_1: 0.9315\n",
      "Epoch 94/100\n",
      "13/13 [==============================] - 0s 2ms/step - loss: 0.1484 - out_feverF_loss: 0.0681 - out_feverM_loss: 0.0802 - out_feverF_accuracy: 0.9730 - out_feverF_recall: 0.7115 - out_feverF_precision: 0.8409 - out_feverM_accuracy: 0.9706 - out_feverM_recall_1: 0.8506 - out_feverM_precision_1: 0.8706\n",
      "Epoch 95/100\n",
      "13/13 [==============================] - 0s 2ms/step - loss: 0.1430 - out_feverF_loss: 0.0666 - out_feverM_loss: 0.0765 - out_feverF_accuracy: 0.9694 - out_feverF_recall: 0.7115 - out_feverF_precision: 0.7872 - out_feverM_accuracy: 0.9706 - out_feverM_recall_1: 0.7931 - out_feverM_precision_1: 0.9200\n",
      "Epoch 96/100\n",
      "13/13 [==============================] - 0s 1ms/step - loss: 0.1409 - out_feverF_loss: 0.0684 - out_feverM_loss: 0.0725 - out_feverF_accuracy: 0.9706 - out_feverF_recall: 0.7115 - out_feverF_precision: 0.8043 - out_feverM_accuracy: 0.9730 - out_feverM_recall_1: 0.8276 - out_feverM_precision_1: 0.9114\n",
      "Epoch 97/100\n",
      "13/13 [==============================] - 0s 1ms/step - loss: 0.1443 - out_feverF_loss: 0.0691 - out_feverM_loss: 0.0752 - out_feverF_accuracy: 0.9706 - out_feverF_recall: 0.7115 - out_feverF_precision: 0.8043 - out_feverM_accuracy: 0.9718 - out_feverM_recall_1: 0.8046 - out_feverM_precision_1: 0.9211\n",
      "Epoch 98/100\n",
      "13/13 [==============================] - 0s 1ms/step - loss: 0.1468 - out_feverF_loss: 0.0704 - out_feverM_loss: 0.0763 - out_feverF_accuracy: 0.9743 - out_feverF_recall: 0.7308 - out_feverF_precision: 0.8444 - out_feverM_accuracy: 0.9755 - out_feverM_recall_1: 0.8391 - out_feverM_precision_1: 0.9241\n",
      "Epoch 99/100\n",
      "13/13 [==============================] - 0s 2ms/step - loss: 0.1408 - out_feverF_loss: 0.0679 - out_feverM_loss: 0.0729 - out_feverF_accuracy: 0.9730 - out_feverF_recall: 0.7500 - out_feverF_precision: 0.8125 - out_feverM_accuracy: 0.9730 - out_feverM_recall_1: 0.8391 - out_feverM_precision_1: 0.9012\n",
      "Epoch 100/100\n",
      "13/13 [==============================] - 0s 2ms/step - loss: 0.1273 - out_feverF_loss: 0.0636 - out_feverM_loss: 0.0637 - out_feverF_accuracy: 0.9767 - out_feverF_recall: 0.7885 - out_feverF_precision: 0.8367 - out_feverM_accuracy: 0.9767 - out_feverM_recall_1: 0.8506 - out_feverM_precision_1: 0.9250\n"
     ]
    },
    {
     "data": {
      "text/plain": [
       "<keras.callbacks.History at 0x1628dfd8550>"
      ]
     },
     "execution_count": 61,
     "metadata": {},
     "output_type": "execute_result"
    }
   ],
   "source": [
    "from tensorflow.keras.models import Model\n",
    "from tensorflow.keras.layers import Dense, Input, Dropout\n",
    "from tensorflow.keras.optimizers import Adam\n",
    "from tensorflow.keras.metrics import Recall, Precision\n",
    "\n",
    "\n",
    "input_layer = Input(shape=(preprocessed_X_train.shape[1],))\n",
    "shared = Dense(64, activation='relu')(input_layer)\n",
    "shared = Dropout(0.5)(shared)\n",
    "\n",
    "out_feverF = Dense(1, activation='sigmoid', name='out_feverF')(shared)\n",
    "out_feverM = Dense(1, activation='sigmoid', name='out_feverM')(shared)\n",
    "model = Model(inputs=input_layer, outputs=[out_feverF, out_feverM])\n",
    "model.compile(loss={'out_feverF':'binary_crossentropy', 'out_feverM':'binary_crossentropy'},\n",
    "                    optimizer='Adam', metrics={'out_feverF': ['accuracy', Recall(), Precision()],\n",
    "                                               'out_feverM': ['accuracy', Recall(), Precision()],\n",
    "                                               })\n",
    "model.fit(preprocessed_X_train, {'out_feverF': y_train_feverF, 'out_feverM': y_train_feverM}, epochs=100, batch_size=64)"
   ]
  },
  {
   "cell_type": "markdown",
   "id": "81e05b86-2005-46cc-af4a-e75757ffe4da",
   "metadata": {},
   "source": [
    "| Classifier for Fast Mode|Accurary|Precision|Recall|F1\n",
    "| --- | --- | --- | --- | --- |\n",
    "| Stochastic Gradient Descend| 0.97 | 0.81 | 0.67 | 0.74\n",
    "| Random Forest| 0.96 | 0.71 | 0.58|0.64\n",
    "| Decision Tree| 0.95 | 0.63 | 0.46| 0.53\n",
    "| XGBoost| 0.96 | 0.72 | 0.6|0.65\n",
    "| Support Vector Machine| 0.96 | 0.76 | 0.54 | 0.63\n",
    "| Neural Network| 0.98 | 0.85| 0.75 | 0.8"
   ]
  },
  {
   "cell_type": "markdown",
   "id": "6c714cff-6bde-414e-bf4f-966d2b824da0",
   "metadata": {},
   "source": [
    "|Classifier for Monitor Mode|Accurary|Precision|Recall|F1\n",
    "| --- | --- | --- | --- | --- |\n",
    "|Stochastic Gradient Descend| 0.97 | 0.87 | 0.83 | 0.85\n",
    "|Random Forest| 0.95 | 0.85| 0.69|0.76\n",
    "|Decision Tree| 0.94 | 0.93 | 0.46 | 0.62\n",
    "|XGBoost| 0.94 | 0.93 | 0.46 | 0.62\n",
    "|Support Vector Machine| 0.96 | 0.9 | 0.7 | 0.79\n",
    "|Neural Network | 0.97 | 0.91 | 0.8 | 0.85"
   ]
  },
  {
   "cell_type": "markdown",
   "id": "1f8cd17b-0954-4334-b969-e728bf222e3d",
   "metadata": {},
   "source": [
    "#### Grid search for best parameters"
   ]
  },
  {
   "cell_type": "code",
   "execution_count": 62,
   "id": "c4d3e31e-f2e6-4ad6-9403-e5cf6ddc58e5",
   "metadata": {},
   "outputs": [
    {
     "name": "stdout",
     "output_type": "stream",
     "text": [
      "Best parameters: {'learning_rate': 0.01, 'max_depth': 3, 'n_estimators': 600, 'subsample': 0.6}\n"
     ]
    }
   ],
   "source": [
    "from sklearn.model_selection import GridSearchCV\n",
    "\n",
    "param_grid = {\n",
    "    'n_estimators': [200, 400, 600],\n",
    "    'learning_rate': [0.1, 0.01],\n",
    "    'max_depth': [3, 5],\n",
    "    'subsample': [0.6, 0.8, 1.0]\n",
    "}\n",
    "\n",
    "grid_search_F = GridSearchCV(estimator=xgb_clf_F, param_grid=param_grid, cv=5, scoring='accuracy')\n",
    "grid_search_F.fit(preprocessed_X_train, y_train_feverF)\n",
    "print(\"Best parameters:\", grid_search_F.best_params_)"
   ]
  },
  {
   "cell_type": "code",
   "execution_count": 76,
   "id": "8979d942-4e68-4c3c-8aaa-27f02c548425",
   "metadata": {},
   "outputs": [
    {
     "name": "stdout",
     "output_type": "stream",
     "text": [
      "Accuracy: 0.96\n",
      "Precision: 0.7\n",
      "Recall: 0.54\n",
      "F1: 0.61\n"
     ]
    }
   ],
   "source": [
    "prediction = cross_val_predict(grid_search_F, preprocessed_X_train, y_train_feverF, cv=3, n_jobs=-1, method=\"predict_proba\")\n",
    "predictions_binary = (prediction[:, 1] > 0.5).astype(int)\n",
    "scores(y_train_feverF, predictions_binary)"
   ]
  },
  {
   "cell_type": "markdown",
   "id": "20baa300-453f-4510-9ea0-581299527cda",
   "metadata": {},
   "source": [
    "| Classifier for Fast Mode|Accurary|Precision|Recall|F1\n",
    "| --- | --- | --- | --- | --- |\n",
    "| Stochastic Gradient Descend| 0.97 | 0.81 | 0.67 | 0.74\n",
    "| Random Forest| 0.96 | 0.71 | 0.58|0.64\n",
    "| Decision Tree| 0.95 | 0.63 | 0.46| 0.53\n",
    "| XGBoost| 0.96 | 0.72 | 0.6|0.65\n",
    "| Support Vector Machine| 0.96 | 0.76 | 0.54 | 0.63\n",
    "| Neural Network| 0.98 | 0.85| 0.75 | 0.8\n",
    "| Finetuned XGBoost| 0.96 | 0.7| 0.54 | 0.61"
   ]
  },
  {
   "cell_type": "code",
   "execution_count": 63,
   "id": "4f9b2400-b755-4f9f-861c-6768a889dbbd",
   "metadata": {},
   "outputs": [
    {
     "name": "stdout",
     "output_type": "stream",
     "text": [
      "Best parameters: {'C': 0.1, 'gamma': 'scale', 'kernel': 'linear'}\n"
     ]
    }
   ],
   "source": [
    "from sklearn.model_selection import GridSearchCV\n",
    "\n",
    "param_grid = {\n",
    "    'C': [0.1, 1, 10],\n",
    "    'kernel': ['linear', 'rbf', 'poly'],\n",
    "    'gamma': ['scale', 'auto'],\n",
    "}\n",
    "\n",
    "grid_search_M = GridSearchCV(estimator=svm_clf_M, param_grid=param_grid, cv=5, scoring='accuracy')\n",
    "grid_search_M.fit(preprocessed_X_train, y_train_feverM)\n",
    "print(\"Best parameters:\", grid_search_M.best_params_)"
   ]
  },
  {
   "cell_type": "code",
   "execution_count": 78,
   "id": "cc5f5bc5-a555-4498-a50a-cef7b26a2252",
   "metadata": {},
   "outputs": [
    {
     "name": "stdout",
     "output_type": "stream",
     "text": [
      "Accuracy: 0.96\n",
      "Precision: 0.87\n",
      "Recall: 0.69\n",
      "F1: 0.77\n"
     ]
    }
   ],
   "source": [
    "prediction = cross_val_predict(grid_search_M, preprocessed_X_train, y_train_feverM, cv=3, n_jobs=-1, method=\"predict_proba\")\n",
    "predictions_binary = (prediction[:, 1] > 0.5).astype(int)\n",
    "scores(y_train_feverM, predictions_binary)"
   ]
  },
  {
   "cell_type": "markdown",
   "id": "6fbcac8b-0d38-4967-a09e-0af29cf5eefb",
   "metadata": {},
   "source": [
    "|Classifier for Monitor Mode|Accurary|Precision|Recall|F1\n",
    "| --- | --- | --- | --- | --- |\n",
    "|Stochastic Gradient Descend| 0.97 | 0.87 | 0.83 | 0.85\n",
    "|Random Forest| 0.95 | 0.85| 0.69|0.76\n",
    "|Decision Tree| 0.94 | 0.93 | 0.46 | 0.62\n",
    "|XGBoost| 0.94 | 0.93 | 0.46 | 0.62\n",
    "|Support Vector Machine| 0.96 | 0.9 | 0.7 | 0.79\n",
    "|Neural Network | 0.97 | 0.91 | 0.8 | 0.85\n",
    "|Finetuned XGBoost | 0.96|0.87|0.69|0.77"
   ]
  },
  {
   "cell_type": "markdown",
   "id": "7cb411ea-1f88-4e12-a986-c1cf931638d4",
   "metadata": {},
   "source": [
    "#### 7. Ensemble the model"
   ]
  },
  {
   "cell_type": "code",
   "execution_count": 64,
   "id": "b5126349-507e-4c47-b7d0-815e3b635fe3",
   "metadata": {},
   "outputs": [],
   "source": [
    "from sklearn.base import BaseEstimator, ClassifierMixin\n",
    "\n",
    "class CustomWrapper(BaseEstimator, ClassifierMixin):\n",
    "    def __init__(self, model, output_index=0):\n",
    "        self.model = model\n",
    "        self.output_index = output_index\n",
    "\n",
    "    def fit(self, X, y):\n",
    "        return self\n",
    "\n",
    "    def predict(self, X):\n",
    "        outputs = self.model.predict(X)\n",
    "        return outputs[self.output_index]"
   ]
  },
  {
   "cell_type": "code",
   "execution_count": 65,
   "id": "4348b5d4-9174-4d99-9b61-e6408429598e",
   "metadata": {},
   "outputs": [
    {
     "name": "stdout",
     "output_type": "stream",
     "text": [
      "6/6 [==============================] - 0s 0s/step\n",
      "6/6 [==============================] - 0s 0s/step\n",
      "6/6 [==============================] - 0s 3ms/step\n",
      "6/6 [==============================] - 0s 3ms/step\n",
      "6/6 [==============================] - 0s 0s/step\n"
     ]
    },
    {
     "data": {
      "text/html": [
       "<style>#sk-container-id-10 {color: black;}#sk-container-id-10 pre{padding: 0;}#sk-container-id-10 div.sk-toggleable {background-color: white;}#sk-container-id-10 label.sk-toggleable__label {cursor: pointer;display: block;width: 100%;margin-bottom: 0;padding: 0.3em;box-sizing: border-box;text-align: center;}#sk-container-id-10 label.sk-toggleable__label-arrow:before {content: \"▸\";float: left;margin-right: 0.25em;color: #696969;}#sk-container-id-10 label.sk-toggleable__label-arrow:hover:before {color: black;}#sk-container-id-10 div.sk-estimator:hover label.sk-toggleable__label-arrow:before {color: black;}#sk-container-id-10 div.sk-toggleable__content {max-height: 0;max-width: 0;overflow: hidden;text-align: left;background-color: #f0f8ff;}#sk-container-id-10 div.sk-toggleable__content pre {margin: 0.2em;color: black;border-radius: 0.25em;background-color: #f0f8ff;}#sk-container-id-10 input.sk-toggleable__control:checked~div.sk-toggleable__content {max-height: 200px;max-width: 100%;overflow: auto;}#sk-container-id-10 input.sk-toggleable__control:checked~label.sk-toggleable__label-arrow:before {content: \"▾\";}#sk-container-id-10 div.sk-estimator input.sk-toggleable__control:checked~label.sk-toggleable__label {background-color: #d4ebff;}#sk-container-id-10 div.sk-label input.sk-toggleable__control:checked~label.sk-toggleable__label {background-color: #d4ebff;}#sk-container-id-10 input.sk-hidden--visually {border: 0;clip: rect(1px 1px 1px 1px);clip: rect(1px, 1px, 1px, 1px);height: 1px;margin: -1px;overflow: hidden;padding: 0;position: absolute;width: 1px;}#sk-container-id-10 div.sk-estimator {font-family: monospace;background-color: #f0f8ff;border: 1px dotted black;border-radius: 0.25em;box-sizing: border-box;margin-bottom: 0.5em;}#sk-container-id-10 div.sk-estimator:hover {background-color: #d4ebff;}#sk-container-id-10 div.sk-parallel-item::after {content: \"\";width: 100%;border-bottom: 1px solid gray;flex-grow: 1;}#sk-container-id-10 div.sk-label:hover label.sk-toggleable__label {background-color: #d4ebff;}#sk-container-id-10 div.sk-serial::before {content: \"\";position: absolute;border-left: 1px solid gray;box-sizing: border-box;top: 0;bottom: 0;left: 50%;z-index: 0;}#sk-container-id-10 div.sk-serial {display: flex;flex-direction: column;align-items: center;background-color: white;padding-right: 0.2em;padding-left: 0.2em;position: relative;}#sk-container-id-10 div.sk-item {position: relative;z-index: 1;}#sk-container-id-10 div.sk-parallel {display: flex;align-items: stretch;justify-content: center;background-color: white;position: relative;}#sk-container-id-10 div.sk-item::before, #sk-container-id-10 div.sk-parallel-item::before {content: \"\";position: absolute;border-left: 1px solid gray;box-sizing: border-box;top: 0;bottom: 0;left: 50%;z-index: -1;}#sk-container-id-10 div.sk-parallel-item {display: flex;flex-direction: column;z-index: 1;position: relative;background-color: white;}#sk-container-id-10 div.sk-parallel-item:first-child::after {align-self: flex-end;width: 50%;}#sk-container-id-10 div.sk-parallel-item:last-child::after {align-self: flex-start;width: 50%;}#sk-container-id-10 div.sk-parallel-item:only-child::after {width: 0;}#sk-container-id-10 div.sk-dashed-wrapped {border: 1px dashed gray;margin: 0 0.4em 0.5em 0.4em;box-sizing: border-box;padding-bottom: 0.4em;background-color: white;}#sk-container-id-10 div.sk-label label {font-family: monospace;font-weight: bold;display: inline-block;line-height: 1.2em;}#sk-container-id-10 div.sk-label-container {text-align: center;}#sk-container-id-10 div.sk-container {/* jupyter's `normalize.less` sets `[hidden] { display: none; }` but bootstrap.min.css set `[hidden] { display: none !important; }` so we also need the `!important` here to be able to override the default hidden behavior on the sphinx rendered scikit-learn.org. See: https://github.com/scikit-learn/scikit-learn/issues/21755 */display: inline-block !important;position: relative;}#sk-container-id-10 div.sk-text-repr-fallback {display: none;}</style><div id=\"sk-container-id-10\" class=\"sk-top-container\"><div class=\"sk-text-repr-fallback\"><pre>StackingClassifier(estimators=[(&#x27;xgb_clf_F&#x27;,\n",
       "                                GridSearchCV(cv=5,\n",
       "                                             estimator=XGBClassifier(base_score=None,\n",
       "                                                                     booster=None,\n",
       "                                                                     callbacks=None,\n",
       "                                                                     colsample_bylevel=None,\n",
       "                                                                     colsample_bynode=None,\n",
       "                                                                     colsample_bytree=None,\n",
       "                                                                     device=None,\n",
       "                                                                     early_stopping_rounds=None,\n",
       "                                                                     enable_categorical=False,\n",
       "                                                                     eval_metric=None,\n",
       "                                                                     feature_types=None,\n",
       "                                                                     gamma=None,\n",
       "                                                                     grow_policy=None,\n",
       "                                                                     importance_type=None,\n",
       "                                                                     inte...\n",
       "                                                                     num_parallel_tree=None,\n",
       "                                                                     random_state=None, ...),\n",
       "                                             param_grid={&#x27;learning_rate&#x27;: [0.1,\n",
       "                                                                           0.01],\n",
       "                                                         &#x27;max_depth&#x27;: [3, 5],\n",
       "                                                         &#x27;n_estimators&#x27;: [200,\n",
       "                                                                          400,\n",
       "                                                                          600],\n",
       "                                                         &#x27;subsample&#x27;: [0.6, 0.8,\n",
       "                                                                       1.0]},\n",
       "                                             scoring=&#x27;accuracy&#x27;)),\n",
       "                               (&#x27;sgd_clf_F&#x27;, SGDClassifier(random_state=42)),\n",
       "                               (&#x27;model_F&#x27;,\n",
       "                                CustomWrapper(model=&lt;keras.engine.functional.Functional object at 0x000001628CFCA700&gt;))],\n",
       "                   final_estimator=LogisticRegression())</pre><b>In a Jupyter environment, please rerun this cell to show the HTML representation or trust the notebook. <br />On GitHub, the HTML representation is unable to render, please try loading this page with nbviewer.org.</b></div><div class=\"sk-container\" hidden><div class=\"sk-item sk-dashed-wrapped\"><div class=\"sk-label-container\"><div class=\"sk-label sk-toggleable\"><input class=\"sk-toggleable__control sk-hidden--visually\" id=\"sk-estimator-id-12\" type=\"checkbox\" ><label for=\"sk-estimator-id-12\" class=\"sk-toggleable__label sk-toggleable__label-arrow\">StackingClassifier</label><div class=\"sk-toggleable__content\"><pre>StackingClassifier(estimators=[(&#x27;xgb_clf_F&#x27;,\n",
       "                                GridSearchCV(cv=5,\n",
       "                                             estimator=XGBClassifier(base_score=None,\n",
       "                                                                     booster=None,\n",
       "                                                                     callbacks=None,\n",
       "                                                                     colsample_bylevel=None,\n",
       "                                                                     colsample_bynode=None,\n",
       "                                                                     colsample_bytree=None,\n",
       "                                                                     device=None,\n",
       "                                                                     early_stopping_rounds=None,\n",
       "                                                                     enable_categorical=False,\n",
       "                                                                     eval_metric=None,\n",
       "                                                                     feature_types=None,\n",
       "                                                                     gamma=None,\n",
       "                                                                     grow_policy=None,\n",
       "                                                                     importance_type=None,\n",
       "                                                                     inte...\n",
       "                                                                     num_parallel_tree=None,\n",
       "                                                                     random_state=None, ...),\n",
       "                                             param_grid={&#x27;learning_rate&#x27;: [0.1,\n",
       "                                                                           0.01],\n",
       "                                                         &#x27;max_depth&#x27;: [3, 5],\n",
       "                                                         &#x27;n_estimators&#x27;: [200,\n",
       "                                                                          400,\n",
       "                                                                          600],\n",
       "                                                         &#x27;subsample&#x27;: [0.6, 0.8,\n",
       "                                                                       1.0]},\n",
       "                                             scoring=&#x27;accuracy&#x27;)),\n",
       "                               (&#x27;sgd_clf_F&#x27;, SGDClassifier(random_state=42)),\n",
       "                               (&#x27;model_F&#x27;,\n",
       "                                CustomWrapper(model=&lt;keras.engine.functional.Functional object at 0x000001628CFCA700&gt;))],\n",
       "                   final_estimator=LogisticRegression())</pre></div></div></div><div class=\"sk-serial\"><div class=\"sk-item\"><div class=\"sk-parallel\"><div class=\"sk-parallel-item\"><div class=\"sk-item\"><div class=\"sk-label-container\"><div class=\"sk-label sk-toggleable\"><label>xgb_clf_F</label></div></div><div class=\"sk-serial\"><div class=\"sk-item sk-dashed-wrapped\"><div class=\"sk-parallel\"><div class=\"sk-parallel-item\"><div class=\"sk-item\"><div class=\"sk-label-container\"><div class=\"sk-label sk-toggleable\"><input class=\"sk-toggleable__control sk-hidden--visually\" id=\"sk-estimator-id-13\" type=\"checkbox\" ><label for=\"sk-estimator-id-13\" class=\"sk-toggleable__label sk-toggleable__label-arrow\">estimator: XGBClassifier</label><div class=\"sk-toggleable__content\"><pre>XGBClassifier(base_score=None, booster=None, callbacks=None,\n",
       "              colsample_bylevel=None, colsample_bynode=None,\n",
       "              colsample_bytree=None, device=None, early_stopping_rounds=None,\n",
       "              enable_categorical=False, eval_metric=None, feature_types=None,\n",
       "              gamma=None, grow_policy=None, importance_type=None,\n",
       "              interaction_constraints=None, learning_rate=None, max_bin=None,\n",
       "              max_cat_threshold=None, max_cat_to_onehot=None,\n",
       "              max_delta_step=None, max_depth=None, max_leaves=None,\n",
       "              min_child_weight=None, missing=nan, monotone_constraints=None,\n",
       "              multi_strategy=None, n_estimators=None, n_jobs=None,\n",
       "              num_parallel_tree=None, random_state=None, ...)</pre></div></div></div><div class=\"sk-serial\"><div class=\"sk-item\"><div class=\"sk-estimator sk-toggleable\"><input class=\"sk-toggleable__control sk-hidden--visually\" id=\"sk-estimator-id-14\" type=\"checkbox\" ><label for=\"sk-estimator-id-14\" class=\"sk-toggleable__label sk-toggleable__label-arrow\">XGBClassifier</label><div class=\"sk-toggleable__content\"><pre>XGBClassifier(base_score=None, booster=None, callbacks=None,\n",
       "              colsample_bylevel=None, colsample_bynode=None,\n",
       "              colsample_bytree=None, device=None, early_stopping_rounds=None,\n",
       "              enable_categorical=False, eval_metric=None, feature_types=None,\n",
       "              gamma=None, grow_policy=None, importance_type=None,\n",
       "              interaction_constraints=None, learning_rate=None, max_bin=None,\n",
       "              max_cat_threshold=None, max_cat_to_onehot=None,\n",
       "              max_delta_step=None, max_depth=None, max_leaves=None,\n",
       "              min_child_weight=None, missing=nan, monotone_constraints=None,\n",
       "              multi_strategy=None, n_estimators=None, n_jobs=None,\n",
       "              num_parallel_tree=None, random_state=None, ...)</pre></div></div></div></div></div></div></div></div></div></div></div><div class=\"sk-parallel-item\"><div class=\"sk-item\"><div class=\"sk-label-container\"><div class=\"sk-label sk-toggleable\"><label>sgd_clf_F</label></div></div><div class=\"sk-serial\"><div class=\"sk-item\"><div class=\"sk-estimator sk-toggleable\"><input class=\"sk-toggleable__control sk-hidden--visually\" id=\"sk-estimator-id-15\" type=\"checkbox\" ><label for=\"sk-estimator-id-15\" class=\"sk-toggleable__label sk-toggleable__label-arrow\">SGDClassifier</label><div class=\"sk-toggleable__content\"><pre>SGDClassifier(random_state=42)</pre></div></div></div></div></div></div><div class=\"sk-parallel-item\"><div class=\"sk-item\"><div class=\"sk-label-container\"><div class=\"sk-label sk-toggleable\"><label>model_F</label></div></div><div class=\"sk-serial\"><div class=\"sk-item\"><div class=\"sk-estimator sk-toggleable\"><input class=\"sk-toggleable__control sk-hidden--visually\" id=\"sk-estimator-id-16\" type=\"checkbox\" ><label for=\"sk-estimator-id-16\" class=\"sk-toggleable__label sk-toggleable__label-arrow\">CustomWrapper</label><div class=\"sk-toggleable__content\"><pre>CustomWrapper(model=&lt;keras.engine.functional.Functional object at 0x000001628CFCA700&gt;)</pre></div></div></div></div></div></div></div></div><div class=\"sk-item\"><div class=\"sk-parallel\"><div class=\"sk-parallel-item\"><div class=\"sk-item\"><div class=\"sk-label-container\"><div class=\"sk-label sk-toggleable\"><label>final_estimator</label></div></div><div class=\"sk-serial\"><div class=\"sk-item\"><div class=\"sk-estimator sk-toggleable\"><input class=\"sk-toggleable__control sk-hidden--visually\" id=\"sk-estimator-id-17\" type=\"checkbox\" ><label for=\"sk-estimator-id-17\" class=\"sk-toggleable__label sk-toggleable__label-arrow\">LogisticRegression</label><div class=\"sk-toggleable__content\"><pre>LogisticRegression()</pre></div></div></div></div></div></div></div></div></div></div></div></div>"
      ],
      "text/plain": [
       "StackingClassifier(estimators=[('xgb_clf_F',\n",
       "                                GridSearchCV(cv=5,\n",
       "                                             estimator=XGBClassifier(base_score=None,\n",
       "                                                                     booster=None,\n",
       "                                                                     callbacks=None,\n",
       "                                                                     colsample_bylevel=None,\n",
       "                                                                     colsample_bynode=None,\n",
       "                                                                     colsample_bytree=None,\n",
       "                                                                     device=None,\n",
       "                                                                     early_stopping_rounds=None,\n",
       "                                                                     enable_categorical=False,\n",
       "                                                                     eval_metric=None,\n",
       "                                                                     feature_types=None,\n",
       "                                                                     gamma=None,\n",
       "                                                                     grow_policy=None,\n",
       "                                                                     importance_type=None,\n",
       "                                                                     inte...\n",
       "                                                                     num_parallel_tree=None,\n",
       "                                                                     random_state=None, ...),\n",
       "                                             param_grid={'learning_rate': [0.1,\n",
       "                                                                           0.01],\n",
       "                                                         'max_depth': [3, 5],\n",
       "                                                         'n_estimators': [200,\n",
       "                                                                          400,\n",
       "                                                                          600],\n",
       "                                                         'subsample': [0.6, 0.8,\n",
       "                                                                       1.0]},\n",
       "                                             scoring='accuracy')),\n",
       "                               ('sgd_clf_F', SGDClassifier(random_state=42)),\n",
       "                               ('model_F',\n",
       "                                CustomWrapper(model=<keras.engine.functional.Functional object at 0x000001628CFCA700>))],\n",
       "                   final_estimator=LogisticRegression())"
      ]
     },
     "execution_count": 65,
     "metadata": {},
     "output_type": "execute_result"
    }
   ],
   "source": [
    "# ensemble methods\n",
    "from sklearn.ensemble import StackingClassifier\n",
    "from sklearn.linear_model import LogisticRegression\n",
    "\n",
    "wrapped_model_F = CustomWrapper(model=model, output_index=0)\n",
    "base_models = [\n",
    "    ('xgb_clf_F', grid_search_F),\n",
    "    ('sgd_clf_F', sgd_clf_F),\n",
    "    ('model_F', wrapped_model_F)\n",
    "]\n",
    "meta_learner = LogisticRegression()\n",
    "stacking_clf_F = StackingClassifier(estimators=base_models, final_estimator=meta_learner)\n",
    "stacking_clf_F.fit(preprocessed_X_train, y_train_feverF)"
   ]
  },
  {
   "cell_type": "code",
   "execution_count": 86,
   "id": "79f50f42-a122-486a-80f8-7d5e385b652b",
   "metadata": {},
   "outputs": [
    {
     "name": "stdout",
     "output_type": "stream",
     "text": [
      "Accuracy: 0.97\n",
      "Precision: 0.81\n",
      "Recall: 0.65\n",
      "F1: 0.72\n"
     ]
    }
   ],
   "source": [
    "prediction = cross_val_predict(stacking_clf_F, preprocessed_X_train, y_train_feverF, cv=3, n_jobs=-1, method=\"predict_proba\")\n",
    "predictions_binary = (prediction[:, 1] > 0.5).astype(int)\n",
    "scores(y_train_feverF, predictions_binary)"
   ]
  },
  {
   "cell_type": "markdown",
   "id": "b549ebaa-887c-45d3-92c4-d3bc0a5eb125",
   "metadata": {},
   "source": [
    "| Classifier for Fast Mode|Accurary|Precision|Recall|F1\n",
    "| --- | --- | --- | --- | --- |\n",
    "| Stochastic Gradient Descend| 0.97 | 0.81 | 0.67 | 0.74\n",
    "| Random Forest| 0.96 | 0.71 | 0.58|0.64\n",
    "| Decision Tree| 0.95 | 0.63 | 0.46| 0.53\n",
    "| XGBoost| 0.96 | 0.72 | 0.6|0.65\n",
    "| Support Vector Machine| 0.96 | 0.76 | 0.54 | 0.63\n",
    "| Neural Network| 0.98 | 0.85| 0.75 | 0.8\n",
    "| Finetuned XGBoost| 0.96 | 0.7| 0.54 | 0.61\n",
    "| Stacking Classifier | 0.97 | 0.81 | 0.65 |0.72"
   ]
  },
  {
   "cell_type": "code",
   "execution_count": 66,
   "id": "c7644c65-dd99-4224-bd78-ee99820f6cfd",
   "metadata": {},
   "outputs": [
    {
     "name": "stdout",
     "output_type": "stream",
     "text": [
      "6/6 [==============================] - 0s 1ms/step\n",
      "6/6 [==============================] - 0s 1ms/step\n",
      "6/6 [==============================] - 0s 1ms/step\n",
      "6/6 [==============================] - 0s 996us/step\n",
      "6/6 [==============================] - 0s 801us/step\n"
     ]
    },
    {
     "data": {
      "text/html": [
       "<style>#sk-container-id-11 {color: black;}#sk-container-id-11 pre{padding: 0;}#sk-container-id-11 div.sk-toggleable {background-color: white;}#sk-container-id-11 label.sk-toggleable__label {cursor: pointer;display: block;width: 100%;margin-bottom: 0;padding: 0.3em;box-sizing: border-box;text-align: center;}#sk-container-id-11 label.sk-toggleable__label-arrow:before {content: \"▸\";float: left;margin-right: 0.25em;color: #696969;}#sk-container-id-11 label.sk-toggleable__label-arrow:hover:before {color: black;}#sk-container-id-11 div.sk-estimator:hover label.sk-toggleable__label-arrow:before {color: black;}#sk-container-id-11 div.sk-toggleable__content {max-height: 0;max-width: 0;overflow: hidden;text-align: left;background-color: #f0f8ff;}#sk-container-id-11 div.sk-toggleable__content pre {margin: 0.2em;color: black;border-radius: 0.25em;background-color: #f0f8ff;}#sk-container-id-11 input.sk-toggleable__control:checked~div.sk-toggleable__content {max-height: 200px;max-width: 100%;overflow: auto;}#sk-container-id-11 input.sk-toggleable__control:checked~label.sk-toggleable__label-arrow:before {content: \"▾\";}#sk-container-id-11 div.sk-estimator input.sk-toggleable__control:checked~label.sk-toggleable__label {background-color: #d4ebff;}#sk-container-id-11 div.sk-label input.sk-toggleable__control:checked~label.sk-toggleable__label {background-color: #d4ebff;}#sk-container-id-11 input.sk-hidden--visually {border: 0;clip: rect(1px 1px 1px 1px);clip: rect(1px, 1px, 1px, 1px);height: 1px;margin: -1px;overflow: hidden;padding: 0;position: absolute;width: 1px;}#sk-container-id-11 div.sk-estimator {font-family: monospace;background-color: #f0f8ff;border: 1px dotted black;border-radius: 0.25em;box-sizing: border-box;margin-bottom: 0.5em;}#sk-container-id-11 div.sk-estimator:hover {background-color: #d4ebff;}#sk-container-id-11 div.sk-parallel-item::after {content: \"\";width: 100%;border-bottom: 1px solid gray;flex-grow: 1;}#sk-container-id-11 div.sk-label:hover label.sk-toggleable__label {background-color: #d4ebff;}#sk-container-id-11 div.sk-serial::before {content: \"\";position: absolute;border-left: 1px solid gray;box-sizing: border-box;top: 0;bottom: 0;left: 50%;z-index: 0;}#sk-container-id-11 div.sk-serial {display: flex;flex-direction: column;align-items: center;background-color: white;padding-right: 0.2em;padding-left: 0.2em;position: relative;}#sk-container-id-11 div.sk-item {position: relative;z-index: 1;}#sk-container-id-11 div.sk-parallel {display: flex;align-items: stretch;justify-content: center;background-color: white;position: relative;}#sk-container-id-11 div.sk-item::before, #sk-container-id-11 div.sk-parallel-item::before {content: \"\";position: absolute;border-left: 1px solid gray;box-sizing: border-box;top: 0;bottom: 0;left: 50%;z-index: -1;}#sk-container-id-11 div.sk-parallel-item {display: flex;flex-direction: column;z-index: 1;position: relative;background-color: white;}#sk-container-id-11 div.sk-parallel-item:first-child::after {align-self: flex-end;width: 50%;}#sk-container-id-11 div.sk-parallel-item:last-child::after {align-self: flex-start;width: 50%;}#sk-container-id-11 div.sk-parallel-item:only-child::after {width: 0;}#sk-container-id-11 div.sk-dashed-wrapped {border: 1px dashed gray;margin: 0 0.4em 0.5em 0.4em;box-sizing: border-box;padding-bottom: 0.4em;background-color: white;}#sk-container-id-11 div.sk-label label {font-family: monospace;font-weight: bold;display: inline-block;line-height: 1.2em;}#sk-container-id-11 div.sk-label-container {text-align: center;}#sk-container-id-11 div.sk-container {/* jupyter's `normalize.less` sets `[hidden] { display: none; }` but bootstrap.min.css set `[hidden] { display: none !important; }` so we also need the `!important` here to be able to override the default hidden behavior on the sphinx rendered scikit-learn.org. See: https://github.com/scikit-learn/scikit-learn/issues/21755 */display: inline-block !important;position: relative;}#sk-container-id-11 div.sk-text-repr-fallback {display: none;}</style><div id=\"sk-container-id-11\" class=\"sk-top-container\"><div class=\"sk-text-repr-fallback\"><pre>StackingClassifier(estimators=[(&#x27;sgd_clf_M&#x27;, SGDClassifier(random_state=42)),\n",
       "                               (&#x27;svm_clf_M&#x27;,\n",
       "                                GridSearchCV(cv=5,\n",
       "                                             estimator=SVC(probability=True),\n",
       "                                             param_grid={&#x27;C&#x27;: [0.1, 1, 10],\n",
       "                                                         &#x27;gamma&#x27;: [&#x27;scale&#x27;,\n",
       "                                                                   &#x27;auto&#x27;],\n",
       "                                                         &#x27;kernel&#x27;: [&#x27;linear&#x27;,\n",
       "                                                                    &#x27;rbf&#x27;,\n",
       "                                                                    &#x27;poly&#x27;]},\n",
       "                                             scoring=&#x27;accuracy&#x27;)),\n",
       "                               (&#x27;model_M&#x27;,\n",
       "                                CustomWrapper(model=&lt;keras.engine.functional.Functional object at 0x000001628CFCA700&gt;,\n",
       "                                              output_index=1))],\n",
       "                   final_estimator=LogisticRegression())</pre><b>In a Jupyter environment, please rerun this cell to show the HTML representation or trust the notebook. <br />On GitHub, the HTML representation is unable to render, please try loading this page with nbviewer.org.</b></div><div class=\"sk-container\" hidden><div class=\"sk-item sk-dashed-wrapped\"><div class=\"sk-label-container\"><div class=\"sk-label sk-toggleable\"><input class=\"sk-toggleable__control sk-hidden--visually\" id=\"sk-estimator-id-18\" type=\"checkbox\" ><label for=\"sk-estimator-id-18\" class=\"sk-toggleable__label sk-toggleable__label-arrow\">StackingClassifier</label><div class=\"sk-toggleable__content\"><pre>StackingClassifier(estimators=[(&#x27;sgd_clf_M&#x27;, SGDClassifier(random_state=42)),\n",
       "                               (&#x27;svm_clf_M&#x27;,\n",
       "                                GridSearchCV(cv=5,\n",
       "                                             estimator=SVC(probability=True),\n",
       "                                             param_grid={&#x27;C&#x27;: [0.1, 1, 10],\n",
       "                                                         &#x27;gamma&#x27;: [&#x27;scale&#x27;,\n",
       "                                                                   &#x27;auto&#x27;],\n",
       "                                                         &#x27;kernel&#x27;: [&#x27;linear&#x27;,\n",
       "                                                                    &#x27;rbf&#x27;,\n",
       "                                                                    &#x27;poly&#x27;]},\n",
       "                                             scoring=&#x27;accuracy&#x27;)),\n",
       "                               (&#x27;model_M&#x27;,\n",
       "                                CustomWrapper(model=&lt;keras.engine.functional.Functional object at 0x000001628CFCA700&gt;,\n",
       "                                              output_index=1))],\n",
       "                   final_estimator=LogisticRegression())</pre></div></div></div><div class=\"sk-serial\"><div class=\"sk-item\"><div class=\"sk-parallel\"><div class=\"sk-parallel-item\"><div class=\"sk-item\"><div class=\"sk-label-container\"><div class=\"sk-label sk-toggleable\"><label>sgd_clf_M</label></div></div><div class=\"sk-serial\"><div class=\"sk-item\"><div class=\"sk-estimator sk-toggleable\"><input class=\"sk-toggleable__control sk-hidden--visually\" id=\"sk-estimator-id-19\" type=\"checkbox\" ><label for=\"sk-estimator-id-19\" class=\"sk-toggleable__label sk-toggleable__label-arrow\">SGDClassifier</label><div class=\"sk-toggleable__content\"><pre>SGDClassifier(random_state=42)</pre></div></div></div></div></div></div><div class=\"sk-parallel-item\"><div class=\"sk-item\"><div class=\"sk-label-container\"><div class=\"sk-label sk-toggleable\"><label>svm_clf_M</label></div></div><div class=\"sk-serial\"><div class=\"sk-item sk-dashed-wrapped\"><div class=\"sk-parallel\"><div class=\"sk-parallel-item\"><div class=\"sk-item\"><div class=\"sk-label-container\"><div class=\"sk-label sk-toggleable\"><input class=\"sk-toggleable__control sk-hidden--visually\" id=\"sk-estimator-id-20\" type=\"checkbox\" ><label for=\"sk-estimator-id-20\" class=\"sk-toggleable__label sk-toggleable__label-arrow\">estimator: SVC</label><div class=\"sk-toggleable__content\"><pre>SVC(probability=True)</pre></div></div></div><div class=\"sk-serial\"><div class=\"sk-item\"><div class=\"sk-estimator sk-toggleable\"><input class=\"sk-toggleable__control sk-hidden--visually\" id=\"sk-estimator-id-21\" type=\"checkbox\" ><label for=\"sk-estimator-id-21\" class=\"sk-toggleable__label sk-toggleable__label-arrow\">SVC</label><div class=\"sk-toggleable__content\"><pre>SVC(probability=True)</pre></div></div></div></div></div></div></div></div></div></div></div><div class=\"sk-parallel-item\"><div class=\"sk-item\"><div class=\"sk-label-container\"><div class=\"sk-label sk-toggleable\"><label>model_M</label></div></div><div class=\"sk-serial\"><div class=\"sk-item\"><div class=\"sk-estimator sk-toggleable\"><input class=\"sk-toggleable__control sk-hidden--visually\" id=\"sk-estimator-id-22\" type=\"checkbox\" ><label for=\"sk-estimator-id-22\" class=\"sk-toggleable__label sk-toggleable__label-arrow\">CustomWrapper</label><div class=\"sk-toggleable__content\"><pre>CustomWrapper(model=&lt;keras.engine.functional.Functional object at 0x000001628CFCA700&gt;,\n",
       "              output_index=1)</pre></div></div></div></div></div></div></div></div><div class=\"sk-item\"><div class=\"sk-parallel\"><div class=\"sk-parallel-item\"><div class=\"sk-item\"><div class=\"sk-label-container\"><div class=\"sk-label sk-toggleable\"><label>final_estimator</label></div></div><div class=\"sk-serial\"><div class=\"sk-item\"><div class=\"sk-estimator sk-toggleable\"><input class=\"sk-toggleable__control sk-hidden--visually\" id=\"sk-estimator-id-23\" type=\"checkbox\" ><label for=\"sk-estimator-id-23\" class=\"sk-toggleable__label sk-toggleable__label-arrow\">LogisticRegression</label><div class=\"sk-toggleable__content\"><pre>LogisticRegression()</pre></div></div></div></div></div></div></div></div></div></div></div></div>"
      ],
      "text/plain": [
       "StackingClassifier(estimators=[('sgd_clf_M', SGDClassifier(random_state=42)),\n",
       "                               ('svm_clf_M',\n",
       "                                GridSearchCV(cv=5,\n",
       "                                             estimator=SVC(probability=True),\n",
       "                                             param_grid={'C': [0.1, 1, 10],\n",
       "                                                         'gamma': ['scale',\n",
       "                                                                   'auto'],\n",
       "                                                         'kernel': ['linear',\n",
       "                                                                    'rbf',\n",
       "                                                                    'poly']},\n",
       "                                             scoring='accuracy')),\n",
       "                               ('model_M',\n",
       "                                CustomWrapper(model=<keras.engine.functional.Functional object at 0x000001628CFCA700>,\n",
       "                                              output_index=1))],\n",
       "                   final_estimator=LogisticRegression())"
      ]
     },
     "execution_count": 66,
     "metadata": {},
     "output_type": "execute_result"
    }
   ],
   "source": [
    "wrapped_model_M = CustomWrapper(model=model, output_index=1)\n",
    "base_models = [\n",
    "    ('sgd_clf_M', sgd_clf_M),\n",
    "    ('svm_clf_M', grid_search_M),\n",
    "    ('model_M', wrapped_model_M)\n",
    "]\n",
    "stacking_clf_M= StackingClassifier(estimators=base_models, final_estimator=meta_learner)\n",
    "stacking_clf_M.fit(preprocessed_X_train, y_train_feverM)"
   ]
  },
  {
   "cell_type": "code",
   "execution_count": 87,
   "id": "f37b0b1e-55b3-4e50-87de-1bcda0af8de7",
   "metadata": {},
   "outputs": [
    {
     "name": "stdout",
     "output_type": "stream",
     "text": [
      "Accuracy: 0.95\n",
      "Precision: 1.0\n",
      "Recall: 0.54\n",
      "F1: 0.7\n"
     ]
    }
   ],
   "source": [
    "prediction = cross_val_predict(stacking_clf_M, preprocessed_X_train, y_train_feverF, cv=3, n_jobs=-1, method=\"predict_proba\")\n",
    "predictions_binary = (prediction[:, 1] > 0.5).astype(int)\n",
    "scores(y_train_feverM, predictions_binary)"
   ]
  },
  {
   "cell_type": "markdown",
   "id": "214534ae-1bb0-4339-af5a-a3d54a4b1a0b",
   "metadata": {},
   "source": [
    "|Classifier for Monitor Mode|Accurary|Precision|Recall|F1\n",
    "| --- | --- | --- | --- | --- |\n",
    "|Stochastic Gradient Descend| 0.97 | 0.87 | 0.83 | 0.85\n",
    "|Random Forest| 0.95 | 0.85| 0.69|0.76\n",
    "|Decision Tree| 0.94 | 0.93 | 0.46 | 0.62\n",
    "|XGBoost| 0.94 | 0.93 | 0.46 | 0.62\n",
    "|Support Vector Machine| 0.96 | 0.9 | 0.7 | 0.79\n",
    "|Neural Network | 0.97 | 0.91 | 0.8 | 0.85\n",
    "|Finetuned XGBoost | 0.96|0.87|0.69|0.77\n",
    "|Stacking Classifier | 0.95 | 1.0 | 0.54 | 0.7"
   ]
  },
  {
   "cell_type": "markdown",
   "id": "e9f93059-18f9-4b4c-895c-80e611c9cd0c",
   "metadata": {},
   "source": [
    "## Finalise the model\n",
    "In this section, I will evaluate the performance of the optimal model **using the test dataset and apply permutation importance to gain a deeper understanding of model performance.** This analysis aims to lay the groundwork for more refined feature selection in subsequent iterations. By identifying which features significantly impact the model's predictions, we can focus our efforts on the most influential factors, potentially improving the model's accuracy and interpretability."
   ]
  },
  {
   "cell_type": "code",
   "execution_count": 120,
   "id": "0950f868-4be5-4758-b07f-9bab45b7f432",
   "metadata": {},
   "outputs": [
    {
     "name": "stdout",
     "output_type": "stream",
     "text": [
      "MSE =  0.04895716090476859\n",
      "RMSE = 0.22125858643617963\n",
      "MAE = 0.16920248867826926\n"
     ]
    }
   ],
   "source": [
    "predictions = multi_output_voting_regressor.predict(preprocessed_X_test)\n",
    "mse = mean_squared_error(y_test, predictions)\n",
    "rmse = mean_squared_error(y_test, predictions, squared=False)\n",
    "mae = mean_absolute_error(y_test, predictions)\n",
    "print(\"MSE = \", mse)\n",
    "print(\"RMSE =\",rmse)\n",
    "print(\"MAE =\", mae)"
   ]
  },
  {
   "cell_type": "markdown",
   "id": "c6dca7b0-f214-4642-a8ef-86095c43ce8e",
   "metadata": {},
   "source": [
    "|Model|RMSE|MAE| \n",
    "| --- | --- | --- |\n",
    "|Linear Regression| 0.39 | 0.19 |\n",
    "|K-nearest Neighbour|0.34|0\n",
    "|Decision Tree|0.28|0.16\n",
    "|Random Forest|0.25|0.07\n",
    "|XGBoost|0.33|0.21\n",
    "|Gradient Boost|0.26|0.12\n",
    "|Finetuned Gradient Boost|0.26|0.12\n",
    "|Neural Network|0.66|0.67\n",
    "|Multi-output Voting Regressor|0.32|0.12\n",
    "|Final Model| 0.22 | 0.17"
   ]
  },
  {
   "cell_type": "code",
   "execution_count": 132,
   "id": "cbe893a7-9636-47f2-b380-fdae685ee41f",
   "metadata": {},
   "outputs": [
    {
     "name": "stdout",
     "output_type": "stream",
     "text": [
      "Feature 0: Importance: 0.0048\n",
      "Feature 1: Importance: 0.0004\n",
      "Feature 2: Importance: 0.0003\n",
      "Feature 3: Importance: 0.0010\n",
      "Feature 4: Importance: 0.0036\n",
      "Feature 5: Importance: 0.0007\n",
      "Feature 6: Importance: 0.0006\n",
      "Feature 7: Importance: -0.0004\n",
      "Feature 8: Importance: 0.0006\n",
      "Feature 9: Importance: 0.0052\n",
      "Feature 10: Importance: 0.0017\n",
      "Feature 11: Importance: 0.0191\n",
      "Feature 12: Importance: 0.0214\n",
      "Feature 13: Importance: -0.0006\n",
      "Feature 14: Importance: -0.0001\n",
      "Feature 15: Importance: 0.0024\n",
      "Feature 16: Importance: 0.0003\n",
      "Feature 17: Importance: 0.0034\n",
      "Feature 18: Importance: 0.0159\n",
      "Feature 19: Importance: 0.0167\n",
      "Feature 20: Importance: -0.0005\n",
      "Feature 21: Importance: 0.0002\n",
      "Feature 22: Importance: 0.0003\n",
      "Feature 23: Importance: 0.0028\n",
      "Feature 24: Importance: 0.0013\n",
      "Feature 25: Importance: 0.0038\n",
      "Feature 26: Importance: 0.0012\n",
      "Feature 27: Importance: 0.0684\n",
      "Feature 28: Importance: 0.0338\n",
      "Feature 29: Importance: 0.0020\n",
      "Feature 30: Importance: -0.0001\n",
      "Feature 31: Importance: 0.0001\n",
      "Feature 32: Importance: 0.0005\n",
      "Feature 33: Importance: -0.0001\n",
      "Feature 34: Importance: -0.0000\n",
      "Feature 35: Importance: 0.0001\n",
      "Feature 36: Importance: -0.0000\n",
      "Feature 37: Importance: 0.0000\n",
      "Feature 38: Importance: 0.0000\n",
      "Feature 39: Importance: -0.0001\n",
      "Feature 40: Importance: 0.0001\n",
      "Feature 41: Importance: -0.0001\n",
      "Feature 42: Importance: 0.0002\n",
      "Feature 43: Importance: -0.0000\n",
      "Feature 44: Importance: -0.0001\n",
      "Feature 45: Importance: -0.0001\n"
     ]
    }
   ],
   "source": [
    "result = permutation_importance(multi_output_voting_regressor, preprocessed_X_test, y_test, n_repeats=10, scoring='neg_mean_squared_error', random_state=42, n_jobs=-1)\n",
    "importances = result.importances_mean\n",
    "for i in range(len(importances)):\n",
    "    print(f\"Feature {i}: Importance: {importances[i]:.4f}\")"
   ]
  },
  {
   "cell_type": "markdown",
   "id": "8faf2bf8-5996-42b4-8bdf-fb9fddc39887",
   "metadata": {},
   "source": [
    "Applying the final ensemble model to the test set, we observed that the regression model demonstrated the best generalization capabilities. On the test set, the model achieved a Root Mean Squared Error of 0.22, and Mean Absolute Error of 0.17."
   ]
  },
  {
   "cell_type": "code",
   "execution_count": 68,
   "id": "7bc84f44-23af-4d79-b03b-24a782d39d84",
   "metadata": {},
   "outputs": [
    {
     "name": "stdout",
     "output_type": "stream",
     "text": [
      "7/7 [==============================] - 0s 1000us/step\n",
      "Accuracy: 0.97\n",
      "Precision: 1.0\n",
      "Recall: 0.42\n",
      "F1: 0.59\n"
     ]
    }
   ],
   "source": [
    "y_test_feverF_binary = (y_test_feverF > 37.5).astype(int)\n",
    "predictions = stacking_clf_F.predict(preprocessed_X_test)\n",
    "scores(y_test_feverF_binary, predictions)"
   ]
  },
  {
   "cell_type": "markdown",
   "id": "d4656bcf-8b9e-47c9-ac79-46bdade29b22",
   "metadata": {},
   "source": [
    "| Classifier for Fast Mode|Accurary|Precision|Recall|F1\n",
    "| --- | --- | --- | --- | --- |\n",
    "| Stochastic Gradient Descend| 0.97 | 0.81 | 0.67 | 0.74\n",
    "| Random Forest| 0.96 | 0.71 | 0.58|0.64\n",
    "| Decision Tree| 0.95 | 0.63 | 0.46| 0.53\n",
    "| XGBoost| 0.96 | 0.72 | 0.6|0.65\n",
    "| Support Vector Machine| 0.96 | 0.76 | 0.54 | 0.63\n",
    "| Neural Network| 0.98 | 0.85| 0.75 | 0.8\n",
    "| Finetuned XGBoost| 0.96 | 0.7| 0.54 | 0.61\n",
    "| Stacking Classifier | 0.97 | 0.81 | 0.65 |0.72\n",
    "| Final Model | 0.98 | 1.0 | 0.67 | 0.8"
   ]
  },
  {
   "cell_type": "markdown",
   "id": "ed5b7851-3fc2-4660-8702-038a2b4ee7cd",
   "metadata": {},
   "source": [
    "Applying the final ensemble model to the test set, we observed that the classification model on Fast Mode demonstrated good generalization capabilities. On the test set, the model achieved an accuracy of 98%, a precision of 100%, a recall of 0.67%, and an F1 score of 0.8, proving the efficacy of our model. \n",
    "\n",
    "I noticed there is a trade off between Precision and Recall. For the next step, I will try to set a different threhold to achieve better result."
   ]
  },
  {
   "cell_type": "code",
   "execution_count": 73,
   "id": "1dc9964a-926f-41b7-a36e-9a8ca844fe41",
   "metadata": {},
   "outputs": [
    {
     "name": "stdout",
     "output_type": "stream",
     "text": [
      "7/7 [==============================] - 0s 1ms/step\n",
      "Optimal Threshold: 0.36577337482172734\n",
      "Maximum F1 Score: 0.8571428571428571\n",
      "Precision at Maximum F1: 1.0000\n",
      "Recall at Maximum F1: 0.7500\n"
     ]
    }
   ],
   "source": [
    "from sklearn.metrics import precision_recall_curve\n",
    "\n",
    "probabilities = stacking_clf_F.predict_proba(preprocessed_X_test)[:, 1]\n",
    "\n",
    "precisions, recalls, thresholds = precision_recall_curve(y_test_feverF_binary, probabilities)\n",
    "\n",
    "f1_scores = 2*recalls*precisions / (recalls + precisions)\n",
    "\n",
    "max_f1_index = np.argmax(f1_scores)\n",
    "\n",
    "optimal_threshold = thresholds[max_f1_index]\n",
    "\n",
    "print(f\"Optimal Threshold: {optimal_threshold}\")\n",
    "print(f\"Maximum F1 Score: {f1_scores[max_f1_index]}\")\n",
    "print(f\"Precision at Maximum F1: {precisions[max_f1_index]:.4f}\")\n",
    "print(f\"Recall at Maximum F1: {recalls[max_f1_index]:.4f}\")\n",
    "\n",
    "predictions = np.where(probabilities > optimal_threshold, 1, 0)\n",
    "\n"
   ]
  },
  {
   "cell_type": "markdown",
   "id": "37c88854-7e3d-4415-9db7-2b8de2503c4a",
   "metadata": {},
   "source": [
    "| Classifier for Fast Mode|Accurary|Precision|Recall|F1\n",
    "| --- | --- | --- | --- | --- |\n",
    "| Stochastic Gradient Descend| 0.97 | 0.81 | 0.67 | 0.74\n",
    "| Random Forest| 0.96 | 0.71 | 0.58|0.64\n",
    "| Decision Tree| 0.95 | 0.63 | 0.46| 0.53\n",
    "| XGBoost| 0.96 | 0.72 | 0.6|0.65\n",
    "| Support Vector Machine| 0.96 | 0.76 | 0.54 | 0.63\n",
    "| Neural Network| 0.98 | 0.85| 0.75 | 0.8\n",
    "| Finetuned XGBoost| 0.96 | 0.7| 0.54 | 0.61\n",
    "| Stacking Classifier | 0.97 | 0.81 | 0.65 |0.72\n",
    "| Final Model | 0.98 | 1.0 | 0.67 | 0.8\n",
    "| Final Model at Optimal Threshold| 0.98 | 1.0 |0.75|0.85"
   ]
  },
  {
   "cell_type": "markdown",
   "id": "54867b94-a88b-441d-853f-b3a8d6cf42ce",
   "metadata": {},
   "source": [
    "I calculates the precision and recall values at the threshold that maximizes the F1 score. Then prints the optimal threshold, the maximum F1 score, and the precision and recall values at that threshold. It is to understand the trade-offs between precision and recall in the model and for setting a threshold. In this case, prioritize recall in the medical context where missing a positive case could have serious implications."
   ]
  },
  {
   "cell_type": "code",
   "execution_count": 70,
   "id": "ec9dfc48-79a2-429b-8f3b-aa7c06b71220",
   "metadata": {},
   "outputs": [
    {
     "name": "stdout",
     "output_type": "stream",
     "text": [
      "7/7 [==============================] - 0s 1ms/step\n",
      "Feature 0: Importance: 0.0025\n",
      "Feature 1: Importance: -0.0020\n",
      "Feature 2: Importance: 0.0000\n",
      "Feature 3: Importance: -0.0059\n",
      "Feature 4: Importance: 0.0000\n",
      "Feature 5: Importance: -0.0078\n",
      "Feature 6: Importance: -0.0039\n",
      "Feature 7: Importance: -0.0093\n",
      "Feature 8: Importance: 0.0083\n",
      "Feature 9: Importance: 0.0000\n",
      "Feature 10: Importance: 0.0025\n",
      "Feature 11: Importance: 0.0088\n",
      "Feature 12: Importance: -0.0005\n",
      "Feature 13: Importance: -0.0088\n",
      "Feature 14: Importance: 0.0044\n",
      "Feature 15: Importance: 0.0015\n",
      "Feature 16: Importance: -0.0078\n",
      "Feature 17: Importance: 0.0005\n",
      "Feature 18: Importance: 0.0083\n",
      "Feature 19: Importance: 0.0074\n",
      "Feature 20: Importance: 0.0000\n",
      "Feature 21: Importance: -0.0064\n",
      "Feature 22: Importance: -0.0005\n",
      "Feature 23: Importance: 0.0054\n",
      "Feature 24: Importance: -0.0029\n",
      "Feature 25: Importance: 0.0000\n",
      "Feature 26: Importance: 0.0000\n",
      "Feature 27: Importance: 0.0039\n",
      "Feature 28: Importance: 0.0103\n",
      "Feature 29: Importance: 0.0083\n",
      "Feature 30: Importance: -0.0005\n",
      "Feature 31: Importance: 0.0000\n",
      "Feature 32: Importance: 0.0000\n",
      "Feature 33: Importance: 0.0000\n",
      "Feature 34: Importance: 0.0000\n",
      "Feature 35: Importance: 0.0000\n",
      "Feature 36: Importance: 0.0000\n",
      "Feature 37: Importance: 0.0000\n",
      "Feature 38: Importance: 0.0000\n",
      "Feature 39: Importance: 0.0000\n",
      "Feature 40: Importance: 0.0000\n",
      "Feature 41: Importance: 0.0000\n",
      "Feature 42: Importance: -0.0005\n",
      "Feature 43: Importance: 0.0000\n",
      "Feature 44: Importance: -0.0010\n",
      "Feature 45: Importance: -0.0025\n"
     ]
    }
   ],
   "source": [
    "from sklearn.inspection import permutation_importance\n",
    "\n",
    "result = permutation_importance(stacking_clf_F, preprocessed_X_test, y_test_feverF_binary, n_repeats=10, random_state=42, n_jobs=-1)\n",
    "importances = result.importances_mean\n",
    "for i in range(len(importances)):\n",
    "    print(f\"Feature {i}: Importance: {importances[i]:.4f}\")"
   ]
  },
  {
   "cell_type": "markdown",
   "id": "b7437758-2e0d-4a60-9da1-bda134b8f417",
   "metadata": {},
   "source": [
    "The permutation importance results show how the shuffling of each feature affects the performance of the model, averaged over several repetitions. Positive importance values indicate that the model's performance decreased when the feature's values were shuffled, suggesting that the model relied on this feature for making accurate predictions. Conversely, negative importance values suggest that shuffling the values of this feature slightly improved the model's performance or had a negligible effect, indicating that the feature might not be crucial for the model's predictions or could even be introducing some noise.\n",
    "\n",
    "- **Zero Scores**: Many features have a zero or near-zero importance score, implying they neither contribute significantly to nor detract from the model's performance. This could suggest these features are not very useful for making predictions in your current model setup or that their information is captured by other features.\n",
    "\n",
    "- **Negative Scores**: The presence of features with negative importance scores suggests there might be an opportunity to simplify the model by removing these features without harming performance. In fact, doing so might even slightly improve the model by reducing complexity and potential overfitting.\n",
    "\n",
    "Overall, this analysis can guide feature selection, indicating which features could potentially be dropped."
   ]
  },
  {
   "cell_type": "code",
   "execution_count": 71,
   "id": "58a8a558-ca43-4a52-b533-c64c1bf969e5",
   "metadata": {},
   "outputs": [
    {
     "name": "stdout",
     "output_type": "stream",
     "text": [
      "7/7 [==============================] - 0s 1ms/step\n",
      "Accuracy: 0.96\n",
      "Precision: 0.86\n",
      "Recall: 0.79\n",
      "F1: 0.83\n"
     ]
    }
   ],
   "source": [
    "y_test_feverM_binary = (y_test_feverM > 37.5).astype(int)\n",
    "predictions = stacking_clf_M.predict(preprocessed_X_test)\n",
    "scores(y_test_feverM_binary, predictions)"
   ]
  },
  {
   "cell_type": "markdown",
   "id": "c10ab5d8-ac30-453e-8d00-63731844c13c",
   "metadata": {},
   "source": [
    "|Classifier for Monitor Mode|Accurary|Precision|Recall|F1\n",
    "| --- | --- | --- | --- | --- |\n",
    "|Stochastic Gradient Descend| 0.97 | 0.87 | 0.83 | 0.85\n",
    "|Random Forest| 0.95 | 0.85| 0.69|0.76\n",
    "|Decision Tree| 0.94 | 0.93 | 0.46 | 0.62\n",
    "|XGBoost| 0.94 | 0.93 | 0.46 | 0.62\n",
    "|Support Vector Machine| 0.96 | 0.9 | 0.7 | 0.79\n",
    "|Neural Network | 0.97 | 0.91 | 0.8 | 0.85\n",
    "|Finetuned XGBoost | 0.96|0.87|0.69|0.77\n",
    "|Stacking Classifier | 0.95 | 1.0 | 0.54 | 0.7\n",
    "|Final Model| 0.96 | 0.86 | 0.79 | 0.83"
   ]
  },
  {
   "cell_type": "markdown",
   "id": "a2f622bf-7f16-4d9b-a671-32bb859fba7d",
   "metadata": {},
   "source": [
    "Applying the final ensemble model to the test set, we observed that the classification model on Monitor Mode demonstrated good generalization capabilities. On the test set, the model achieved an accuracy of 96%, a precision of 100%, a recall of 0.79%, and an F1 score of 0.83, proving the efficacy of our model."
   ]
  },
  {
   "cell_type": "code",
   "execution_count": 74,
   "id": "744bdf5a-50d0-49e5-b93a-9e34523e040c",
   "metadata": {},
   "outputs": [
    {
     "name": "stdout",
     "output_type": "stream",
     "text": [
      "7/7 [==============================] - 0s 1000us/step\n",
      "Optimal Threshold: 0.21952267424851657\n",
      "Maximum F1 Score: 0.8979591836734694\n",
      "Precision at Maximum F1: 0.8800\n",
      "Recall at Maximum F1: 0.9167\n"
     ]
    }
   ],
   "source": [
    "probabilities = stacking_clf_M.predict_proba(preprocessed_X_test)[:, 1]\n",
    "\n",
    "precisions, recalls, thresholds = precision_recall_curve(y_test_feverM_binary, probabilities)\n",
    "\n",
    "f1_scores = 2*recalls*precisions / (recalls + precisions)\n",
    "\n",
    "max_f1_index = np.argmax(f1_scores)\n",
    "\n",
    "optimal_threshold = thresholds[max_f1_index]\n",
    "\n",
    "print(f\"Optimal Threshold: {optimal_threshold}\")\n",
    "print(f\"Maximum F1 Score: {f1_scores[max_f1_index]}\")\n",
    "print(f\"Precision at Maximum F1: {precisions[max_f1_index]:.4f}\")\n",
    "print(f\"Recall at Maximum F1: {recalls[max_f1_index]:.4f}\")\n",
    "\n",
    "predictions = np.where(probabilities > optimal_threshold, 1, 0)"
   ]
  },
  {
   "cell_type": "markdown",
   "id": "b0736ec4-d535-46ed-bb92-96e4152db4c9",
   "metadata": {},
   "source": [
    "|Classifier for Monitor Mode|Accurary|Precision|Recall|F1\n",
    "| --- | --- | --- | --- | --- |\n",
    "|Stochastic Gradient Descend| 0.97 | 0.87 | 0.83 | 0.85\n",
    "|Random Forest| 0.95 | 0.85| 0.69|0.76\n",
    "|Decision Tree| 0.94 | 0.93 | 0.46 | 0.62\n",
    "|XGBoost| 0.94 | 0.93 | 0.46 | 0.62\n",
    "|Support Vector Machine| 0.96 | 0.9 | 0.7 | 0.79\n",
    "|Neural Network | 0.97 | 0.91 | 0.8 | 0.85\n",
    "|Finetuned XGBoost | 0.96|0.87|0.69|0.77\n",
    "|Stacking Classifier | 0.95 | 1.0 | 0.54 | 0.7\n",
    "|Final Model| 0.96 | 0.86 | 0.79 | 0.83\n",
    "|Final Model at Optimal Threshold| 0.96 | 0.88 | 0.92 | 0.89"
   ]
  },
  {
   "cell_type": "markdown",
   "id": "5825835e-6979-4f90-830f-0e77995b136c",
   "metadata": {},
   "source": [
    "After adjusting the threshold, the model classifies a case as positive when the probability of being positive is nearly 21.95%. This results in a Precision of 88%, a Recall of 92%, and an F1 score of 89%. However, I believe this may not be the optimal threshold for our application. Given the relatively low probability threshold, the number of individuals mistakenly classified as positive could increase. Temperature monitoring is often deployed in locations with high foot traffic, such as transportation hubs and shopping centers. The need to verify numerous false positives could lead to inefficiencies and potentially cause large groups of people to wait, exacerbating the risk of disease spread in such crowded environments."
   ]
  },
  {
   "cell_type": "code",
   "execution_count": 130,
   "id": "e9131f6f-402f-4853-8b7b-bb15b3dfaa0a",
   "metadata": {},
   "outputs": [
    {
     "name": "stdout",
     "output_type": "stream",
     "text": [
      "7/7 [==============================] - 0s 1ms/step\n",
      "Feature 0: Importance: 0.0000\n",
      "Feature 1: Importance: -0.0039\n",
      "Feature 2: Importance: 0.0000\n",
      "Feature 3: Importance: -0.0054\n",
      "Feature 4: Importance: -0.0010\n",
      "Feature 5: Importance: 0.0029\n",
      "Feature 6: Importance: -0.0044\n",
      "Feature 7: Importance: 0.0025\n",
      "Feature 8: Importance: 0.0015\n",
      "Feature 9: Importance: -0.0020\n",
      "Feature 10: Importance: 0.0005\n",
      "Feature 11: Importance: -0.0020\n",
      "Feature 12: Importance: 0.0005\n",
      "Feature 13: Importance: 0.0000\n",
      "Feature 14: Importance: 0.0029\n",
      "Feature 15: Importance: 0.0015\n",
      "Feature 16: Importance: 0.0000\n",
      "Feature 17: Importance: -0.0020\n",
      "Feature 18: Importance: 0.0015\n",
      "Feature 19: Importance: -0.0005\n",
      "Feature 20: Importance: -0.0010\n",
      "Feature 21: Importance: -0.0010\n",
      "Feature 22: Importance: -0.0010\n",
      "Feature 23: Importance: -0.0059\n",
      "Feature 24: Importance: -0.0005\n",
      "Feature 25: Importance: -0.0020\n",
      "Feature 26: Importance: -0.0064\n",
      "Feature 27: Importance: 0.0113\n",
      "Feature 28: Importance: 0.0103\n",
      "Feature 29: Importance: 0.0064\n",
      "Feature 30: Importance: -0.0015\n",
      "Feature 31: Importance: -0.0034\n",
      "Feature 32: Importance: -0.0025\n",
      "Feature 33: Importance: -0.0054\n",
      "Feature 34: Importance: 0.0000\n",
      "Feature 35: Importance: -0.0010\n",
      "Feature 36: Importance: 0.0010\n",
      "Feature 37: Importance: 0.0000\n",
      "Feature 38: Importance: 0.0000\n",
      "Feature 39: Importance: 0.0000\n",
      "Feature 40: Importance: 0.0000\n",
      "Feature 41: Importance: 0.0020\n",
      "Feature 42: Importance: -0.0005\n",
      "Feature 43: Importance: 0.0005\n",
      "Feature 44: Importance: 0.0000\n",
      "Feature 45: Importance: -0.0078\n"
     ]
    }
   ],
   "source": [
    "result = permutation_importance(stacking_clf_M, preprocessed_X_test, y_test_feverM_binary, n_repeats=10, random_state=42, n_jobs=-1)\n",
    "importances = result.importances_mean\n",
    "for i in range(len(importances)):\n",
    "    print(f\"Feature {i}: Importance: {importances[i]:.4f}\")"
   ]
  },
  {
   "cell_type": "markdown",
   "id": "fb4deca5-fb45-4b49-9fbe-e9e5cb92ea13",
   "metadata": {},
   "source": [
    "**Further Analysis and Engineering:**\n",
    "\r",
    "-  Negative Importance: Understand why certain features negatively impact your model. It might reveal data quality issues or opportunities for feature engineering.- \r\n",
    "Feature EngineeringC create new features or transform existing ones that might improve model performanc  Explore interaction terms between features, especially if individual features don’t seem to contribute much on their own but might be important in combinatio- \n",
    "3. Model Refine: res: Use the refined feature set for retra your models to see if performance imprmance. features."
   ]
  },
  {
   "cell_type": "markdown",
   "id": "dbd49ee4-ac86-4b06-aa62-452c5219e4b1",
   "metadata": {},
   "source": [
    "# Limitation and Discussion"
   ]
  },
  {
   "cell_type": "markdown",
   "id": "d72afca3-0b31-4ff7-ae0b-0f0b9c7b661b",
   "metadata": {},
   "source": [
    "## Failure to Address Sample Imbalance\n",
    "During the data preprocessing stage, I discovered a significant imbalance in our dataset, with individuals aged 18-24 accounting for more than half of the total data. When I attempted to employ stratified sampling to make the training and test sets reflect the true distribution of the data, the performance of the classification models drastically declined. This was due to the lack of sufficient data to train on fever/non-fever tasks across other age groups. Given this, and considering that age may not be a critical feature for the task of predicting and classifying body temperature, I decided to omit age from the model. For future discussion, I left the code here:"
   ]
  },
  {
   "cell_type": "code",
   "execution_count": null,
   "id": "fe67cd12-ebc8-4c98-b72c-3d5e1803722c",
   "metadata": {},
   "outputs": [],
   "source": [
    "from sklearn.model_selection import StratifiedShuffleSplit\n",
    "\n",
    "split = StratifiedShuffleSplit(n_splits=1, test_size=0.2, random_state=42)\n",
    "for train_index, test_index in split.split(X, X['Age']):\n",
    "    stra_X_train, stra_X_test = X.iloc[train_index], X.iloc[test_index]\n",
    "    stra_y_train, stra_y_test = y.iloc[train_index], y.iloc[test_index]"
   ]
  },
  {
   "cell_type": "code",
   "execution_count": null,
   "id": "8710c9d2-2319-463b-880f-3c33a6855fdc",
   "metadata": {},
   "outputs": [],
   "source": [
    "train_distribution = stra_X_test['Age'].value_counts()/len(stra_X_test)\n",
    "test_distribution = stra_X_test['Age'].value_counts()/len(stra_X_test)\n",
    "print(\"Original Distribution\", X_train['Age'].value_counts()/len(X_train))\n",
    "print(\"Train Distribution\", train_distribution)\n",
    "print(\"Test Distribution\", test_distribution)"
   ]
  },
  {
   "cell_type": "markdown",
   "id": "60ef6a24-daf5-45eb-a7ed-725f29a91fd2",
   "metadata": {},
   "source": [
    "## Further development of PCA\n",
    "This section details the application of Principal Component Analysis (PCA) to the preprocessed training dataset. \r\n",
    "Initially, PCA was applied without specifying the number of components, to assess the cumulative explained variance by each component\n",
    "\n",
    ". This analysis is crucial to determine the number of components that capture a significant amount of information about the data. The cumulative explained variance plot shows how the total variance in the dataset is accumulated as the number of PCA components increases. The goal is to select a subset of components that capture most of the variance, thereby reducing the dimensionality of the data while preserving its essential characteristics.\r\n",
    "\r\n",
    "Based on the cumulative explained variance plot, it was decided to retain 30 components for the PCA transformation. This decision was guided by the point at which additional components contribute minimally to increasing the explained variance, indicating that 30 components are sufficient to capture the majority of the variance in the d\n",
    "\n",
    "However, although the parameter is carefully chosen, the model performance degraded after adopting PCA. Therefore, I use permutation importance on the final model to indicate the suitable feature engineering steps.lexity.\r\n",
    "\r\n"
   ]
  },
  {
   "cell_type": "code",
   "execution_count": 75,
   "id": "67ff0cd8-e3a2-4789-a26f-84a5b631b153",
   "metadata": {},
   "outputs": [
    {
     "data": {
      "image/png": "[encoded data removed]",
      "text/plain": [
       "<Figure size 1000x700 with 1 Axes>"
      ]
     },
     "metadata": {},
     "output_type": "display_data"
    }
   ],
   "source": [
    "from sklearn.decomposition import PCA\n",
    "\n",
    "pca = PCA()\n",
    "pca.fit(preprocessed_X_train)\n",
    "\n",
    "cumulative_variances = pca.explained_variance_ratio_.cumsum()\n",
    "\n",
    "plt.figure(figsize=(10, 7))\n",
    "plt.plot(range(1, len(cumulative_variances) + 1), cumulative_variances, marker='o', linestyle='--')\n",
    "plt.title('Cumulative Explained Variance by PCA Components')\n",
    "plt.xlabel('Number of PCA Components')\n",
    "plt.ylabel('Cumulative Explained Variance')\n",
    "plt.grid(True)\n",
    "plt.show()"
   ]
  },
  {
   "cell_type": "code",
   "execution_count": null,
   "id": "5fef9a8f-9b4b-4293-952a-780b803e9754",
   "metadata": {},
   "outputs": [],
   "source": [
    "pca = PCA(n_components=30)\n",
    "\n",
    "pca.fit(preprocessed_X_train)\n",
    "\n",
    "pca_X_train = pca.transform(preprocessed_X_train)\n",
    "pca_X_test = pca.transform(preprocessed_X_test)"
   ]
  },
  {
   "cell_type": "markdown",
   "id": "e8db2cb9-e1b7-449e-9283-58a49ce89588",
   "metadata": {},
   "source": [
    "# Summary\n",
    "The study employed various machine learning models, including ensemble methods, to tackle the regression and classification tasks, striving to achieve the highest possible model performance.\n",
    "\r\n",
    "*\r\n",
    "The data preprocessing phase revealed a significant challenge: the dataset was highly imbalanced, particularly regarding age distribuonti[1]on. Despite initial attempts to rectify this imbalance through stratified sampling, the approach led to suboptimal performance in classification models due to insufficient training data for less-represented age groups. Consequently, the decision was made t, acknowleedng that it might not be a critical predictoto affect the final resu.**\r\n",
    "\r\n",
    "Another major hurdle encountered was feature select**ion. The dataset contained over 40 features, and while dimensionality reduction via PCA was explored, it ultimately degraded model performance. Instead, a simpler method using permutation importance was employed for feature selection. This choice, albeit practical, hinted at potential limitations in fully leveraging the dataset's informational value.\r\n",
    "\r\n",
    "Despite these challenges, the report de**tails the successful application of machine learning algorithms to predict body temperature and classify fever status, culminating in the use of an ensemble of the best-performing models to enhance prediction acc**uracy. However, the limitations encountered—particularly in addressing sample imbalance and optimizing feature selection—highlight areas for improvement in future stu\n",
    "An important aspect of our classification task was **managing the trade-off between precision and recall**. Achieving the right balance was critical, especially in medical applications where the cost of false negatives could be high. Our models aimed to optimize this trade-off, ensuring that we could reliably identify fever cases without excessively flagging healthy individuals.\n",
    "dies.\r\n",
    "\r\n",
    "The insights gained from this analysis underscore the complexity of predictive modeling in healthcare contexts, where data imbalance and feature selection play pivotal roles in model performance. Future research should focus on innovative strategies to overcome these challenges, ensuring more robust and accurate predictive models."
   ]
  },
  {
   "cell_type": "markdown",
   "id": "5981d349-75a3-47d0-b292-aa60019b1710",
   "metadata": {},
   "source": [
    "# Reference\n",
    "[1] Wang, Q., Zhou, Y., Ghassemi, P., McBride, D., Casamento, J. P., & Pfefer, T. J. (2022). Infrared Thermography for Measuring Elevated Body Temperature: Clinical Accuracy, Calibration, and Evaluation. Sensors, 22, 215.\n",
    "\n",
    "[2] Stamate, D.(2024). Machine Learning Class Code. Goldsmiths, University of London"
   ]
  }
 ],
 "metadata": {
  "kernelspec": {
   "display_name": "Python (AI2023)",
   "language": "python",
   "name": "ai2023"
  },
  "language_info": {
   "codemirror_mode": {
    "name": "ipython",
    "version": 3
   },
   "file_extension": ".py",
   "mimetype": "text/x-python",
   "name": "python",
   "nbconvert_exporter": "python",
   "pygments_lexer": "ipython3",
   "version": "3.8.18"
  }
 },
 "nbformat": 4,
 "nbformat_minor": 5
}
